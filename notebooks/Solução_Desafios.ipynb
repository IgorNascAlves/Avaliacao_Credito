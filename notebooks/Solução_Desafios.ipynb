{
  "nbformat": 4,
  "nbformat_minor": 2,
  "metadata": {
    "colab": {
      "name": "Solução Desafios.ipynb",
      "provenance": [],
      "collapsed_sections": []
    },
    "kernelspec": {
      "display_name": "Python 3",
      "name": "python3"
    },
    "language_info": {
      "name": "python"
    }
  },
  "cells": [
    {
      "cell_type": "markdown",
      "source": [
        "#Aula 1"
      ],
      "metadata": {
        "id": "hyWi6I0HrF58"
      }
    },
    {
      "cell_type": "markdown",
      "source": [
        "<a href=\"https://colab.research.google.com/github/alura-cursos/Avaliacao_Credito/blob/main/notebooks/Solução_Desafios.ipynb\" target=\"_parent\"><img src=\"https://colab.research.google.com/assets/colab-badge.svg\" alt=\"Open In Colab\"/></a>"
      ],
      "metadata": {}
    },
    {
      "cell_type": "code",
      "execution_count": null,
      "source": [
        "import pandas as pd"
      ],
      "outputs": [],
      "metadata": {
        "id": "gpUFSqeJmCkr"
      }
    },
    {
      "cell_type": "code",
      "execution_count": null,
      "source": [
        "df_clientes_cadastrados = pd.read_csv('https://raw.githubusercontent.com/alura-cursos/Avaliacao_Credito/main/dados/clientes_cadastrados.csv')\r\n",
        "df_clientes_cadastrados.head()"
      ],
      "outputs": [
        {
          "output_type": "execute_result",
          "data": {
            "text/plain": [
              "   ID_Cliente Genero  Tem_Carro  ...   Ocupacao  Tamanho_Familia  Anos_empregado\n",
              "0     5008804      H          1  ...     Outros              2.0            12.4\n",
              "1     5008805      H          1  ...     Outros              2.0            12.4\n",
              "2     5008806      H          1  ...  Seguranca              2.0             3.1\n",
              "3     5008808      M          0  ...      Venda              1.0             8.4\n",
              "4     5008809      M          0  ...      Venda              1.0             8.4\n",
              "\n",
              "[5 rows x 18 columns]"
            ],
            "text/html": [
              "<div>\n",
              "<style scoped>\n",
              "    .dataframe tbody tr th:only-of-type {\n",
              "        vertical-align: middle;\n",
              "    }\n",
              "\n",
              "    .dataframe tbody tr th {\n",
              "        vertical-align: top;\n",
              "    }\n",
              "\n",
              "    .dataframe thead th {\n",
              "        text-align: right;\n",
              "    }\n",
              "</style>\n",
              "<table border=\"1\" class=\"dataframe\">\n",
              "  <thead>\n",
              "    <tr style=\"text-align: right;\">\n",
              "      <th></th>\n",
              "      <th>ID_Cliente</th>\n",
              "      <th>Genero</th>\n",
              "      <th>Tem_Carro</th>\n",
              "      <th>Tem_Casa_Propria</th>\n",
              "      <th>Qtd_Filhos</th>\n",
              "      <th>Rendimento_Anual</th>\n",
              "      <th>Categoria_de_renda</th>\n",
              "      <th>Grau_Escolaridade</th>\n",
              "      <th>Estado_Civil</th>\n",
              "      <th>Moradia</th>\n",
              "      <th>Idade</th>\n",
              "      <th>Tem_Celular</th>\n",
              "      <th>Tem_telefone_trabalho</th>\n",
              "      <th>Tem_telefone_fixo</th>\n",
              "      <th>Tem_email</th>\n",
              "      <th>Ocupacao</th>\n",
              "      <th>Tamanho_Familia</th>\n",
              "      <th>Anos_empregado</th>\n",
              "    </tr>\n",
              "  </thead>\n",
              "  <tbody>\n",
              "    <tr>\n",
              "      <th>0</th>\n",
              "      <td>5008804</td>\n",
              "      <td>H</td>\n",
              "      <td>1</td>\n",
              "      <td>1</td>\n",
              "      <td>0</td>\n",
              "      <td>427500.0</td>\n",
              "      <td>Empregado</td>\n",
              "      <td>Ensino superior</td>\n",
              "      <td>Uniao estavel</td>\n",
              "      <td>Alugado</td>\n",
              "      <td>33.0</td>\n",
              "      <td>1</td>\n",
              "      <td>1</td>\n",
              "      <td>0</td>\n",
              "      <td>0</td>\n",
              "      <td>Outros</td>\n",
              "      <td>2.0</td>\n",
              "      <td>12.4</td>\n",
              "    </tr>\n",
              "    <tr>\n",
              "      <th>1</th>\n",
              "      <td>5008805</td>\n",
              "      <td>H</td>\n",
              "      <td>1</td>\n",
              "      <td>1</td>\n",
              "      <td>0</td>\n",
              "      <td>427500.0</td>\n",
              "      <td>Empregado</td>\n",
              "      <td>Ensino superior</td>\n",
              "      <td>Uniao estavel</td>\n",
              "      <td>Alugado</td>\n",
              "      <td>33.0</td>\n",
              "      <td>1</td>\n",
              "      <td>1</td>\n",
              "      <td>0</td>\n",
              "      <td>0</td>\n",
              "      <td>Outros</td>\n",
              "      <td>2.0</td>\n",
              "      <td>12.4</td>\n",
              "    </tr>\n",
              "    <tr>\n",
              "      <th>2</th>\n",
              "      <td>5008806</td>\n",
              "      <td>H</td>\n",
              "      <td>1</td>\n",
              "      <td>1</td>\n",
              "      <td>0</td>\n",
              "      <td>112500.0</td>\n",
              "      <td>Empregado</td>\n",
              "      <td>Ensino medio</td>\n",
              "      <td>Casado</td>\n",
              "      <td>Casa propria</td>\n",
              "      <td>59.0</td>\n",
              "      <td>1</td>\n",
              "      <td>0</td>\n",
              "      <td>0</td>\n",
              "      <td>0</td>\n",
              "      <td>Seguranca</td>\n",
              "      <td>2.0</td>\n",
              "      <td>3.1</td>\n",
              "    </tr>\n",
              "    <tr>\n",
              "      <th>3</th>\n",
              "      <td>5008808</td>\n",
              "      <td>M</td>\n",
              "      <td>0</td>\n",
              "      <td>1</td>\n",
              "      <td>0</td>\n",
              "      <td>270000.0</td>\n",
              "      <td>Associado comercial</td>\n",
              "      <td>Ensino medio</td>\n",
              "      <td>Solteiro</td>\n",
              "      <td>Casa propria</td>\n",
              "      <td>52.0</td>\n",
              "      <td>1</td>\n",
              "      <td>0</td>\n",
              "      <td>1</td>\n",
              "      <td>1</td>\n",
              "      <td>Venda</td>\n",
              "      <td>1.0</td>\n",
              "      <td>8.4</td>\n",
              "    </tr>\n",
              "    <tr>\n",
              "      <th>4</th>\n",
              "      <td>5008809</td>\n",
              "      <td>M</td>\n",
              "      <td>0</td>\n",
              "      <td>1</td>\n",
              "      <td>0</td>\n",
              "      <td>270000.0</td>\n",
              "      <td>Associado comercial</td>\n",
              "      <td>Ensino medio</td>\n",
              "      <td>Solteiro</td>\n",
              "      <td>Casa propria</td>\n",
              "      <td>52.0</td>\n",
              "      <td>1</td>\n",
              "      <td>0</td>\n",
              "      <td>1</td>\n",
              "      <td>1</td>\n",
              "      <td>Venda</td>\n",
              "      <td>1.0</td>\n",
              "      <td>8.4</td>\n",
              "    </tr>\n",
              "  </tbody>\n",
              "</table>\n",
              "</div>"
            ]
          },
          "metadata": {},
          "execution_count": 2
        }
      ],
      "metadata": {
        "id": "qGTlRXl0mE8l",
        "colab": {
          "base_uri": "https://localhost:8080/",
          "height": 275
        },
        "outputId": "931dce84-dd27-4e72-b472-578932b42a84"
      }
    },
    {
      "cell_type": "code",
      "execution_count": null,
      "source": [
        "df_clientes_cadastrados.shape"
      ],
      "outputs": [
        {
          "output_type": "execute_result",
          "data": {
            "text/plain": [
              "(438557, 18)"
            ]
          },
          "metadata": {},
          "execution_count": 3
        }
      ],
      "metadata": {
        "colab": {
          "base_uri": "https://localhost:8080/"
        },
        "id": "APzhuCZFmnpZ",
        "outputId": "f832fb17-4286-45f0-b69a-a8980c2c30da"
      }
    },
    {
      "cell_type": "code",
      "execution_count": null,
      "source": [
        "df_clientes_cadastrados['ID_Cliente'].value_counts()"
      ],
      "outputs": [
        {
          "output_type": "execute_result",
          "data": {
            "text/plain": [
              "7603224    2\n",
              "7742853    2\n",
              "7836711    2\n",
              "7091721    2\n",
              "7022327    2\n",
              "          ..\n",
              "5372264    1\n",
              "6412652    1\n",
              "6410605    1\n",
              "6367602    1\n",
              "6291456    1\n",
              "Name: ID_Cliente, Length: 438510, dtype: int64"
            ]
          },
          "metadata": {},
          "execution_count": 4
        }
      ],
      "metadata": {
        "colab": {
          "base_uri": "https://localhost:8080/"
        },
        "id": "WIuVKkX8mvbB",
        "outputId": "d2925ff1-4959-410e-f9c4-a074934596e1"
      }
    },
    {
      "cell_type": "code",
      "execution_count": null,
      "source": [
        "df_clientes_cadastrados.duplicated().sum()"
      ],
      "outputs": [
        {
          "output_type": "execute_result",
          "data": {
            "text/plain": [
              "0"
            ]
          },
          "metadata": {},
          "execution_count": 5
        }
      ],
      "metadata": {
        "colab": {
          "base_uri": "https://localhost:8080/"
        },
        "id": "d4H5udcKoPeN",
        "outputId": "a5ab5a7a-ded6-40f3-eb3a-764156b92dea"
      }
    },
    {
      "cell_type": "code",
      "execution_count": null,
      "source": [
        "df_clientes_cadastrados[df_clientes_cadastrados['ID_Cliente'].duplicated(keep=False)].shape"
      ],
      "outputs": [
        {
          "output_type": "execute_result",
          "data": {
            "text/plain": [
              "(94, 18)"
            ]
          },
          "metadata": {},
          "execution_count": 6
        }
      ],
      "metadata": {
        "colab": {
          "base_uri": "https://localhost:8080/"
        },
        "id": "oUBcULI0ozkV",
        "outputId": "75bad3fc-75b1-43d5-e2d2-a070dc98be1f"
      }
    },
    {
      "cell_type": "code",
      "execution_count": null,
      "source": [
        "id_repetidos = df_clientes_cadastrados[df_clientes_cadastrados['ID_Cliente'].duplicated(keep=False)]['ID_Cliente']\r\n",
        "id_repetidos"
      ],
      "outputs": [
        {
          "output_type": "execute_result",
          "data": {
            "text/plain": [
              "421211    7702516\n",
              "421268    7602432\n",
              "421349    7602432\n",
              "421464    7836971\n",
              "421698    7213374\n",
              "           ...   \n",
              "433158    7282535\n",
              "433159    7742853\n",
              "433217    7135270\n",
              "433666    7091721\n",
              "433789    7618285\n",
              "Name: ID_Cliente, Length: 94, dtype: int64"
            ]
          },
          "metadata": {},
          "execution_count": 7
        }
      ],
      "metadata": {
        "colab": {
          "base_uri": "https://localhost:8080/"
        },
        "id": "e6UpldVcrz4o",
        "outputId": "dfa158f5-e4d0-4d47-fcda-5a3ba862f0fc"
      }
    },
    {
      "cell_type": "code",
      "execution_count": null,
      "source": [
        "df_clientes_cadastrados_ID_unicos = df_clientes_cadastrados.drop(id_repetidos.index)\n",
        "df_clientes_cadastrados_ID_unicos"
      ],
      "outputs": [
        {
          "output_type": "execute_result",
          "data": {
            "text/plain": [
              "        ID_Cliente Genero  ...  Tamanho_Familia  Anos_empregado\n",
              "0          5008804      H  ...              2.0            12.4\n",
              "1          5008805      H  ...              2.0            12.4\n",
              "2          5008806      H  ...              2.0             3.1\n",
              "3          5008808      M  ...              1.0             8.4\n",
              "4          5008809      M  ...              1.0             8.4\n",
              "...            ...    ...  ...              ...             ...\n",
              "438552     6840104      H  ...              1.0         -1000.7\n",
              "438553     6840222      M  ...              1.0             8.2\n",
              "438554     6841878      M  ...              1.0             1.0\n",
              "438555     6842765      M  ...              2.0         -1000.7\n",
              "438556     6842885      M  ...              2.0             3.3\n",
              "\n",
              "[438463 rows x 18 columns]"
            ],
            "text/html": [
              "<div>\n",
              "<style scoped>\n",
              "    .dataframe tbody tr th:only-of-type {\n",
              "        vertical-align: middle;\n",
              "    }\n",
              "\n",
              "    .dataframe tbody tr th {\n",
              "        vertical-align: top;\n",
              "    }\n",
              "\n",
              "    .dataframe thead th {\n",
              "        text-align: right;\n",
              "    }\n",
              "</style>\n",
              "<table border=\"1\" class=\"dataframe\">\n",
              "  <thead>\n",
              "    <tr style=\"text-align: right;\">\n",
              "      <th></th>\n",
              "      <th>ID_Cliente</th>\n",
              "      <th>Genero</th>\n",
              "      <th>Tem_Carro</th>\n",
              "      <th>Tem_Casa_Propria</th>\n",
              "      <th>Qtd_Filhos</th>\n",
              "      <th>Rendimento_Anual</th>\n",
              "      <th>Categoria_de_renda</th>\n",
              "      <th>Grau_Escolaridade</th>\n",
              "      <th>Estado_Civil</th>\n",
              "      <th>Moradia</th>\n",
              "      <th>Idade</th>\n",
              "      <th>Tem_Celular</th>\n",
              "      <th>Tem_telefone_trabalho</th>\n",
              "      <th>Tem_telefone_fixo</th>\n",
              "      <th>Tem_email</th>\n",
              "      <th>Ocupacao</th>\n",
              "      <th>Tamanho_Familia</th>\n",
              "      <th>Anos_empregado</th>\n",
              "    </tr>\n",
              "  </thead>\n",
              "  <tbody>\n",
              "    <tr>\n",
              "      <th>0</th>\n",
              "      <td>5008804</td>\n",
              "      <td>H</td>\n",
              "      <td>1</td>\n",
              "      <td>1</td>\n",
              "      <td>0</td>\n",
              "      <td>427500.0</td>\n",
              "      <td>Empregado</td>\n",
              "      <td>Ensino superior</td>\n",
              "      <td>Uniao estavel</td>\n",
              "      <td>Alugado</td>\n",
              "      <td>33.0</td>\n",
              "      <td>1</td>\n",
              "      <td>1</td>\n",
              "      <td>0</td>\n",
              "      <td>0</td>\n",
              "      <td>Outros</td>\n",
              "      <td>2.0</td>\n",
              "      <td>12.4</td>\n",
              "    </tr>\n",
              "    <tr>\n",
              "      <th>1</th>\n",
              "      <td>5008805</td>\n",
              "      <td>H</td>\n",
              "      <td>1</td>\n",
              "      <td>1</td>\n",
              "      <td>0</td>\n",
              "      <td>427500.0</td>\n",
              "      <td>Empregado</td>\n",
              "      <td>Ensino superior</td>\n",
              "      <td>Uniao estavel</td>\n",
              "      <td>Alugado</td>\n",
              "      <td>33.0</td>\n",
              "      <td>1</td>\n",
              "      <td>1</td>\n",
              "      <td>0</td>\n",
              "      <td>0</td>\n",
              "      <td>Outros</td>\n",
              "      <td>2.0</td>\n",
              "      <td>12.4</td>\n",
              "    </tr>\n",
              "    <tr>\n",
              "      <th>2</th>\n",
              "      <td>5008806</td>\n",
              "      <td>H</td>\n",
              "      <td>1</td>\n",
              "      <td>1</td>\n",
              "      <td>0</td>\n",
              "      <td>112500.0</td>\n",
              "      <td>Empregado</td>\n",
              "      <td>Ensino medio</td>\n",
              "      <td>Casado</td>\n",
              "      <td>Casa propria</td>\n",
              "      <td>59.0</td>\n",
              "      <td>1</td>\n",
              "      <td>0</td>\n",
              "      <td>0</td>\n",
              "      <td>0</td>\n",
              "      <td>Seguranca</td>\n",
              "      <td>2.0</td>\n",
              "      <td>3.1</td>\n",
              "    </tr>\n",
              "    <tr>\n",
              "      <th>3</th>\n",
              "      <td>5008808</td>\n",
              "      <td>M</td>\n",
              "      <td>0</td>\n",
              "      <td>1</td>\n",
              "      <td>0</td>\n",
              "      <td>270000.0</td>\n",
              "      <td>Associado comercial</td>\n",
              "      <td>Ensino medio</td>\n",
              "      <td>Solteiro</td>\n",
              "      <td>Casa propria</td>\n",
              "      <td>52.0</td>\n",
              "      <td>1</td>\n",
              "      <td>0</td>\n",
              "      <td>1</td>\n",
              "      <td>1</td>\n",
              "      <td>Venda</td>\n",
              "      <td>1.0</td>\n",
              "      <td>8.4</td>\n",
              "    </tr>\n",
              "    <tr>\n",
              "      <th>4</th>\n",
              "      <td>5008809</td>\n",
              "      <td>M</td>\n",
              "      <td>0</td>\n",
              "      <td>1</td>\n",
              "      <td>0</td>\n",
              "      <td>270000.0</td>\n",
              "      <td>Associado comercial</td>\n",
              "      <td>Ensino medio</td>\n",
              "      <td>Solteiro</td>\n",
              "      <td>Casa propria</td>\n",
              "      <td>52.0</td>\n",
              "      <td>1</td>\n",
              "      <td>0</td>\n",
              "      <td>1</td>\n",
              "      <td>1</td>\n",
              "      <td>Venda</td>\n",
              "      <td>1.0</td>\n",
              "      <td>8.4</td>\n",
              "    </tr>\n",
              "    <tr>\n",
              "      <th>...</th>\n",
              "      <td>...</td>\n",
              "      <td>...</td>\n",
              "      <td>...</td>\n",
              "      <td>...</td>\n",
              "      <td>...</td>\n",
              "      <td>...</td>\n",
              "      <td>...</td>\n",
              "      <td>...</td>\n",
              "      <td>...</td>\n",
              "      <td>...</td>\n",
              "      <td>...</td>\n",
              "      <td>...</td>\n",
              "      <td>...</td>\n",
              "      <td>...</td>\n",
              "      <td>...</td>\n",
              "      <td>...</td>\n",
              "      <td>...</td>\n",
              "      <td>...</td>\n",
              "    </tr>\n",
              "    <tr>\n",
              "      <th>438552</th>\n",
              "      <td>6840104</td>\n",
              "      <td>H</td>\n",
              "      <td>0</td>\n",
              "      <td>1</td>\n",
              "      <td>0</td>\n",
              "      <td>135000.0</td>\n",
              "      <td>Pensionista</td>\n",
              "      <td>Ensino medio</td>\n",
              "      <td>Separado</td>\n",
              "      <td>Casa propria</td>\n",
              "      <td>62.0</td>\n",
              "      <td>1</td>\n",
              "      <td>0</td>\n",
              "      <td>0</td>\n",
              "      <td>0</td>\n",
              "      <td>Outros</td>\n",
              "      <td>1.0</td>\n",
              "      <td>-1000.7</td>\n",
              "    </tr>\n",
              "    <tr>\n",
              "      <th>438553</th>\n",
              "      <td>6840222</td>\n",
              "      <td>M</td>\n",
              "      <td>0</td>\n",
              "      <td>0</td>\n",
              "      <td>0</td>\n",
              "      <td>103500.0</td>\n",
              "      <td>Empregado</td>\n",
              "      <td>Ensino medio</td>\n",
              "      <td>Solteiro</td>\n",
              "      <td>Casa propria</td>\n",
              "      <td>44.0</td>\n",
              "      <td>1</td>\n",
              "      <td>0</td>\n",
              "      <td>0</td>\n",
              "      <td>0</td>\n",
              "      <td>Construcao Civil</td>\n",
              "      <td>1.0</td>\n",
              "      <td>8.2</td>\n",
              "    </tr>\n",
              "    <tr>\n",
              "      <th>438554</th>\n",
              "      <td>6841878</td>\n",
              "      <td>M</td>\n",
              "      <td>0</td>\n",
              "      <td>0</td>\n",
              "      <td>0</td>\n",
              "      <td>54000.0</td>\n",
              "      <td>Associado comercial</td>\n",
              "      <td>Ensino superior</td>\n",
              "      <td>Solteiro</td>\n",
              "      <td>Mora com os pais</td>\n",
              "      <td>22.0</td>\n",
              "      <td>1</td>\n",
              "      <td>1</td>\n",
              "      <td>0</td>\n",
              "      <td>0</td>\n",
              "      <td>Venda</td>\n",
              "      <td>1.0</td>\n",
              "      <td>1.0</td>\n",
              "    </tr>\n",
              "    <tr>\n",
              "      <th>438555</th>\n",
              "      <td>6842765</td>\n",
              "      <td>M</td>\n",
              "      <td>0</td>\n",
              "      <td>1</td>\n",
              "      <td>0</td>\n",
              "      <td>72000.0</td>\n",
              "      <td>Pensionista</td>\n",
              "      <td>Ensino medio</td>\n",
              "      <td>Casado</td>\n",
              "      <td>Casa propria</td>\n",
              "      <td>59.0</td>\n",
              "      <td>1</td>\n",
              "      <td>0</td>\n",
              "      <td>0</td>\n",
              "      <td>0</td>\n",
              "      <td>Outros</td>\n",
              "      <td>2.0</td>\n",
              "      <td>-1000.7</td>\n",
              "    </tr>\n",
              "    <tr>\n",
              "      <th>438556</th>\n",
              "      <td>6842885</td>\n",
              "      <td>M</td>\n",
              "      <td>0</td>\n",
              "      <td>1</td>\n",
              "      <td>0</td>\n",
              "      <td>121500.0</td>\n",
              "      <td>Empregado</td>\n",
              "      <td>Ensino medio</td>\n",
              "      <td>Casado</td>\n",
              "      <td>Casa propria</td>\n",
              "      <td>52.0</td>\n",
              "      <td>1</td>\n",
              "      <td>0</td>\n",
              "      <td>1</td>\n",
              "      <td>0</td>\n",
              "      <td>Venda</td>\n",
              "      <td>2.0</td>\n",
              "      <td>3.3</td>\n",
              "    </tr>\n",
              "  </tbody>\n",
              "</table>\n",
              "<p>438463 rows × 18 columns</p>\n",
              "</div>"
            ]
          },
          "metadata": {},
          "execution_count": 8
        }
      ],
      "metadata": {
        "colab": {
          "base_uri": "https://localhost:8080/",
          "height": 592
        },
        "id": "Srn-BSfisQs0",
        "outputId": "caff6b76-9a80-48bb-d997-9236597394b8"
      }
    },
    {
      "cell_type": "code",
      "execution_count": null,
      "source": [
        "df_clientes_cadastrados_ID_unicos['ID_Cliente'].value_counts()"
      ],
      "outputs": [
        {
          "output_type": "execute_result",
          "data": {
            "text/plain": [
              "6293503    1\n",
              "5166449    1\n",
              "6210931    1\n",
              "5174645    1\n",
              "5170551    1\n",
              "          ..\n",
              "7410037    1\n",
              "6357367    1\n",
              "6375806    1\n",
              "5683584    1\n",
              "6291456    1\n",
              "Name: ID_Cliente, Length: 438463, dtype: int64"
            ]
          },
          "metadata": {},
          "execution_count": 9
        }
      ],
      "metadata": {
        "colab": {
          "base_uri": "https://localhost:8080/"
        },
        "id": "PfTQjDu0tOaK",
        "outputId": "acb098aa-9115-4a3d-f03c-25ae3d8200e9"
      }
    },
    {
      "cell_type": "code",
      "execution_count": null,
      "source": [
        "df_clientes_cadastrados_ID_unicos.isnull().sum()"
      ],
      "outputs": [
        {
          "output_type": "execute_result",
          "data": {
            "text/plain": [
              "ID_Cliente               0\n",
              "Genero                   0\n",
              "Tem_Carro                0\n",
              "Tem_Casa_Propria         0\n",
              "Qtd_Filhos               0\n",
              "Rendimento_Anual         0\n",
              "Categoria_de_renda       0\n",
              "Grau_Escolaridade        0\n",
              "Estado_Civil             0\n",
              "Moradia                  0\n",
              "Idade                    0\n",
              "Tem_Celular              0\n",
              "Tem_telefone_trabalho    0\n",
              "Tem_telefone_fixo        0\n",
              "Tem_email                0\n",
              "Ocupacao                 0\n",
              "Tamanho_Familia          0\n",
              "Anos_empregado           0\n",
              "dtype: int64"
            ]
          },
          "metadata": {},
          "execution_count": 10
        }
      ],
      "metadata": {
        "colab": {
          "base_uri": "https://localhost:8080/"
        },
        "id": "iws3Nmw9tZg7",
        "outputId": "a32c0daf-b209-4de0-8c1f-337935656635"
      }
    },
    {
      "cell_type": "code",
      "execution_count": null,
      "source": [
        "df_clientes_cadastrados_ID_unicos.info()"
      ],
      "outputs": [
        {
          "output_type": "stream",
          "name": "stdout",
          "text": [
            "<class 'pandas.core.frame.DataFrame'>\n",
            "Int64Index: 438463 entries, 0 to 438556\n",
            "Data columns (total 18 columns):\n",
            " #   Column                 Non-Null Count   Dtype  \n",
            "---  ------                 --------------   -----  \n",
            " 0   ID_Cliente             438463 non-null  int64  \n",
            " 1   Genero                 438463 non-null  object \n",
            " 2   Tem_Carro              438463 non-null  int64  \n",
            " 3   Tem_Casa_Propria       438463 non-null  int64  \n",
            " 4   Qtd_Filhos             438463 non-null  int64  \n",
            " 5   Rendimento_Anual       438463 non-null  float64\n",
            " 6   Categoria_de_renda     438463 non-null  object \n",
            " 7   Grau_Escolaridade      438463 non-null  object \n",
            " 8   Estado_Civil           438463 non-null  object \n",
            " 9   Moradia                438463 non-null  object \n",
            " 10  Idade                  438463 non-null  float64\n",
            " 11  Tem_Celular            438463 non-null  int64  \n",
            " 12  Tem_telefone_trabalho  438463 non-null  int64  \n",
            " 13  Tem_telefone_fixo      438463 non-null  int64  \n",
            " 14  Tem_email              438463 non-null  int64  \n",
            " 15  Ocupacao               438463 non-null  object \n",
            " 16  Tamanho_Familia        438463 non-null  float64\n",
            " 17  Anos_empregado         438463 non-null  float64\n",
            "dtypes: float64(4), int64(8), object(6)\n",
            "memory usage: 63.6+ MB\n"
          ]
        }
      ],
      "metadata": {
        "colab": {
          "base_uri": "https://localhost:8080/"
        },
        "id": "eLM-ic5Ytwo0",
        "outputId": "689e1528-820c-4d80-96ef-3c643c23cf83"
      }
    },
    {
      "cell_type": "markdown",
      "source": [
        "#Aula 2"
      ],
      "metadata": {
        "id": "QUk0re2_rCuJ"
      }
    },
    {
      "cell_type": "code",
      "execution_count": null,
      "source": [
        "colunas_continuas = ['Idade', 'Qtd_Filhos', 'Rendimento_Anual', 'Anos_empregado', 'Tamanho_Familia']"
      ],
      "outputs": [],
      "metadata": {
        "id": "R6ZBT2z4tgFl"
      }
    },
    {
      "cell_type": "code",
      "execution_count": null,
      "source": [
        "df_clientes_cadastrados_ID_unicos[colunas_continuas].describe()"
      ],
      "outputs": [
        {
          "output_type": "execute_result",
          "data": {
            "text/plain": [
              "               Idade     Qtd_Filhos  ...  Anos_empregado  Tamanho_Familia\n",
              "count  438463.000000  438463.000000  ...   438463.000000    438463.000000\n",
              "mean       43.834032       0.427384  ...     -165.936036         2.194461\n",
              "std        11.472815       0.724879  ...      380.201131         0.897194\n",
              "min        21.000000       0.000000  ...    -1000.700000         1.000000\n",
              "25%        34.000000       0.000000  ...        1.000000         2.000000\n",
              "50%        43.000000       0.000000  ...        4.000000         2.000000\n",
              "75%        53.000000       1.000000  ...        8.500000         3.000000\n",
              "max        69.000000      19.000000  ...       48.000000        20.000000\n",
              "\n",
              "[8 rows x 5 columns]"
            ],
            "text/html": [
              "<div>\n",
              "<style scoped>\n",
              "    .dataframe tbody tr th:only-of-type {\n",
              "        vertical-align: middle;\n",
              "    }\n",
              "\n",
              "    .dataframe tbody tr th {\n",
              "        vertical-align: top;\n",
              "    }\n",
              "\n",
              "    .dataframe thead th {\n",
              "        text-align: right;\n",
              "    }\n",
              "</style>\n",
              "<table border=\"1\" class=\"dataframe\">\n",
              "  <thead>\n",
              "    <tr style=\"text-align: right;\">\n",
              "      <th></th>\n",
              "      <th>Idade</th>\n",
              "      <th>Qtd_Filhos</th>\n",
              "      <th>Rendimento_Anual</th>\n",
              "      <th>Anos_empregado</th>\n",
              "      <th>Tamanho_Familia</th>\n",
              "    </tr>\n",
              "  </thead>\n",
              "  <tbody>\n",
              "    <tr>\n",
              "      <th>count</th>\n",
              "      <td>438463.000000</td>\n",
              "      <td>438463.000000</td>\n",
              "      <td>4.384630e+05</td>\n",
              "      <td>438463.000000</td>\n",
              "      <td>438463.000000</td>\n",
              "    </tr>\n",
              "    <tr>\n",
              "      <th>mean</th>\n",
              "      <td>43.834032</td>\n",
              "      <td>0.427384</td>\n",
              "      <td>1.875220e+05</td>\n",
              "      <td>-165.936036</td>\n",
              "      <td>2.194461</td>\n",
              "    </tr>\n",
              "    <tr>\n",
              "      <th>std</th>\n",
              "      <td>11.472815</td>\n",
              "      <td>0.724879</td>\n",
              "      <td>1.100832e+05</td>\n",
              "      <td>380.201131</td>\n",
              "      <td>0.897194</td>\n",
              "    </tr>\n",
              "    <tr>\n",
              "      <th>min</th>\n",
              "      <td>21.000000</td>\n",
              "      <td>0.000000</td>\n",
              "      <td>2.610000e+04</td>\n",
              "      <td>-1000.700000</td>\n",
              "      <td>1.000000</td>\n",
              "    </tr>\n",
              "    <tr>\n",
              "      <th>25%</th>\n",
              "      <td>34.000000</td>\n",
              "      <td>0.000000</td>\n",
              "      <td>1.215000e+05</td>\n",
              "      <td>1.000000</td>\n",
              "      <td>2.000000</td>\n",
              "    </tr>\n",
              "    <tr>\n",
              "      <th>50%</th>\n",
              "      <td>43.000000</td>\n",
              "      <td>0.000000</td>\n",
              "      <td>1.611000e+05</td>\n",
              "      <td>4.000000</td>\n",
              "      <td>2.000000</td>\n",
              "    </tr>\n",
              "    <tr>\n",
              "      <th>75%</th>\n",
              "      <td>53.000000</td>\n",
              "      <td>1.000000</td>\n",
              "      <td>2.250000e+05</td>\n",
              "      <td>8.500000</td>\n",
              "      <td>3.000000</td>\n",
              "    </tr>\n",
              "    <tr>\n",
              "      <th>max</th>\n",
              "      <td>69.000000</td>\n",
              "      <td>19.000000</td>\n",
              "      <td>6.750000e+06</td>\n",
              "      <td>48.000000</td>\n",
              "      <td>20.000000</td>\n",
              "    </tr>\n",
              "  </tbody>\n",
              "</table>\n",
              "</div>"
            ]
          },
          "metadata": {},
          "execution_count": 13
        }
      ],
      "metadata": {
        "colab": {
          "base_uri": "https://localhost:8080/",
          "height": 297
        },
        "id": "kGY0Kl4NxHDM",
        "outputId": "978d2b37-0f3b-468c-b8a0-884236d1b757"
      }
    },
    {
      "cell_type": "code",
      "execution_count": null,
      "source": [
        "df_clientes_cadastrados_ID_unicos.query(\"Anos_empregado <= 0\")[['Anos_empregado', 'Categoria_de_renda']].value_counts()"
      ],
      "outputs": [
        {
          "output_type": "execute_result",
          "data": {
            "text/plain": [
              "Anos_empregado  Categoria_de_renda \n",
              "-1000.7         Pensionista            75314\n",
              " 0.0            Empregado                 26\n",
              "                Servidor publico          11\n",
              "                Associado comercial        7\n",
              "dtype: int64"
            ]
          },
          "metadata": {},
          "execution_count": 14
        }
      ],
      "metadata": {
        "colab": {
          "base_uri": "https://localhost:8080/"
        },
        "id": "gkNwnItcykEB",
        "outputId": "33d5ba71-ea39-44db-f89e-8e670287b2f3"
      }
    },
    {
      "cell_type": "code",
      "execution_count": null,
      "source": [
        "df_clientes_cadastrados_ID_unicos['Anos_empregado'] = df_clientes_cadastrados_ID_unicos['Anos_empregado'].replace(-1000.7, -1)"
      ],
      "outputs": [],
      "metadata": {
        "id": "4yero7Yd0pKQ"
      }
    },
    {
      "cell_type": "code",
      "execution_count": null,
      "source": [
        "df_clientes_cadastrados_ID_unicos[colunas_continuas].describe()"
      ],
      "outputs": [
        {
          "output_type": "execute_result",
          "data": {
            "text/plain": [
              "               Idade     Qtd_Filhos  ...  Anos_empregado  Tamanho_Familia\n",
              "count  438463.000000  438463.000000  ...   438463.000000    438463.000000\n",
              "mean       43.834032       0.427384  ...        5.780633         2.194461\n",
              "std        11.472815       0.724879  ...        6.733151         0.897194\n",
              "min        21.000000       0.000000  ...       -1.000000         1.000000\n",
              "25%        34.000000       0.000000  ...        1.000000         2.000000\n",
              "50%        43.000000       0.000000  ...        4.000000         2.000000\n",
              "75%        53.000000       1.000000  ...        8.500000         3.000000\n",
              "max        69.000000      19.000000  ...       48.000000        20.000000\n",
              "\n",
              "[8 rows x 5 columns]"
            ],
            "text/html": [
              "<div>\n",
              "<style scoped>\n",
              "    .dataframe tbody tr th:only-of-type {\n",
              "        vertical-align: middle;\n",
              "    }\n",
              "\n",
              "    .dataframe tbody tr th {\n",
              "        vertical-align: top;\n",
              "    }\n",
              "\n",
              "    .dataframe thead th {\n",
              "        text-align: right;\n",
              "    }\n",
              "</style>\n",
              "<table border=\"1\" class=\"dataframe\">\n",
              "  <thead>\n",
              "    <tr style=\"text-align: right;\">\n",
              "      <th></th>\n",
              "      <th>Idade</th>\n",
              "      <th>Qtd_Filhos</th>\n",
              "      <th>Rendimento_Anual</th>\n",
              "      <th>Anos_empregado</th>\n",
              "      <th>Tamanho_Familia</th>\n",
              "    </tr>\n",
              "  </thead>\n",
              "  <tbody>\n",
              "    <tr>\n",
              "      <th>count</th>\n",
              "      <td>438463.000000</td>\n",
              "      <td>438463.000000</td>\n",
              "      <td>4.384630e+05</td>\n",
              "      <td>438463.000000</td>\n",
              "      <td>438463.000000</td>\n",
              "    </tr>\n",
              "    <tr>\n",
              "      <th>mean</th>\n",
              "      <td>43.834032</td>\n",
              "      <td>0.427384</td>\n",
              "      <td>1.875220e+05</td>\n",
              "      <td>5.780633</td>\n",
              "      <td>2.194461</td>\n",
              "    </tr>\n",
              "    <tr>\n",
              "      <th>std</th>\n",
              "      <td>11.472815</td>\n",
              "      <td>0.724879</td>\n",
              "      <td>1.100832e+05</td>\n",
              "      <td>6.733151</td>\n",
              "      <td>0.897194</td>\n",
              "    </tr>\n",
              "    <tr>\n",
              "      <th>min</th>\n",
              "      <td>21.000000</td>\n",
              "      <td>0.000000</td>\n",
              "      <td>2.610000e+04</td>\n",
              "      <td>-1.000000</td>\n",
              "      <td>1.000000</td>\n",
              "    </tr>\n",
              "    <tr>\n",
              "      <th>25%</th>\n",
              "      <td>34.000000</td>\n",
              "      <td>0.000000</td>\n",
              "      <td>1.215000e+05</td>\n",
              "      <td>1.000000</td>\n",
              "      <td>2.000000</td>\n",
              "    </tr>\n",
              "    <tr>\n",
              "      <th>50%</th>\n",
              "      <td>43.000000</td>\n",
              "      <td>0.000000</td>\n",
              "      <td>1.611000e+05</td>\n",
              "      <td>4.000000</td>\n",
              "      <td>2.000000</td>\n",
              "    </tr>\n",
              "    <tr>\n",
              "      <th>75%</th>\n",
              "      <td>53.000000</td>\n",
              "      <td>1.000000</td>\n",
              "      <td>2.250000e+05</td>\n",
              "      <td>8.500000</td>\n",
              "      <td>3.000000</td>\n",
              "    </tr>\n",
              "    <tr>\n",
              "      <th>max</th>\n",
              "      <td>69.000000</td>\n",
              "      <td>19.000000</td>\n",
              "      <td>6.750000e+06</td>\n",
              "      <td>48.000000</td>\n",
              "      <td>20.000000</td>\n",
              "    </tr>\n",
              "  </tbody>\n",
              "</table>\n",
              "</div>"
            ]
          },
          "metadata": {},
          "execution_count": 16
        }
      ],
      "metadata": {
        "colab": {
          "base_uri": "https://localhost:8080/",
          "height": 297
        },
        "id": "jNrdjo8Y1N0i",
        "outputId": "50eae0db-ec57-4639-ee0c-d5f01feb6aca"
      }
    },
    {
      "cell_type": "code",
      "execution_count": null,
      "source": [
        "import seaborn as sns\n",
        "import matplotlib.pyplot as plt\n",
        "sns.set()"
      ],
      "outputs": [],
      "metadata": {
        "id": "zJxI4g5N1eEo"
      }
    },
    {
      "cell_type": "code",
      "execution_count": null,
      "source": [
        "sns.histplot(data=df_clientes_cadastrados_ID_unicos, x='Rendimento_Anual', bins=10)\n",
        "plt.xticks(rotation=45)\n",
        "plt.show()"
      ],
      "outputs": [
        {
          "output_type": "display_data",
          "data": {
            "text/plain": [
              "<Figure size 432x288 with 1 Axes>"
            ],
            "image/png": "[encoded data removed]"
          },
          "metadata": {}
        }
      ],
      "metadata": {
        "colab": {
          "base_uri": "https://localhost:8080/",
          "height": 287
        },
        "id": "gtuPyiDI1sxV",
        "outputId": "34d29588-c071-4949-8610-2ac56899775b"
      }
    },
    {
      "cell_type": "code",
      "execution_count": null,
      "source": [
        "coluna = df_clientes_cadastrados_ID_unicos['Rendimento_Anual']\n",
        "\n",
        "coluna_med = coluna.mean()\n",
        "coluna_std = coluna.std()\n",
        "\n",
        "limite_sup = coluna_med + (2 * coluna_std)\n",
        "limite_inf = coluna_med - (2 * coluna_std)\n",
        "\n",
        "index_outliers = []\n",
        "\n",
        "for index, valor in coluna.items():\n",
        "  if valor > limite_sup or valor < limite_inf:\n",
        "    index_outliers.append(index)\n",
        "\n",
        "len(index_outliers)"
      ],
      "outputs": [
        {
          "output_type": "execute_result",
          "data": {
            "text/plain": [
              "12641"
            ]
          },
          "metadata": {},
          "execution_count": 19
        }
      ],
      "metadata": {
        "colab": {
          "base_uri": "https://localhost:8080/"
        },
        "id": "QvzozgsC3EXj",
        "outputId": "9b9eea11-127e-4ed8-d354-d133ca6cad4e"
      }
    },
    {
      "cell_type": "code",
      "execution_count": null,
      "source": [
        "df_clientes_cadastrados_sem_outliers = df_clientes_cadastrados_ID_unicos.drop(index_outliers)\n",
        "df_clientes_cadastrados_sem_outliers.shape"
      ],
      "outputs": [
        {
          "output_type": "execute_result",
          "data": {
            "text/plain": [
              "(425822, 18)"
            ]
          },
          "metadata": {},
          "execution_count": 20
        }
      ],
      "metadata": {
        "colab": {
          "base_uri": "https://localhost:8080/"
        },
        "id": "aanQMGNO5ZtR",
        "outputId": "4597d581-2bcd-4225-8eeb-011cdb8b51a6"
      }
    },
    {
      "cell_type": "code",
      "execution_count": null,
      "source": [
        "df_clientes_cadastrados_sem_outliers[colunas_continuas].describe()"
      ],
      "outputs": [
        {
          "output_type": "execute_result",
          "data": {
            "text/plain": [
              "               Idade     Qtd_Filhos  ...  Anos_empregado  Tamanho_Familia\n",
              "count  425822.000000  425822.000000  ...   425822.000000    425822.000000\n",
              "mean       43.838707       0.425314  ...        5.744956         2.191683\n",
              "std        11.525400       0.723577  ...        6.736649         0.896300\n",
              "min        21.000000       0.000000  ...       -1.000000         1.000000\n",
              "25%        34.000000       0.000000  ...        1.000000         2.000000\n",
              "50%        43.000000       0.000000  ...        4.000000         2.000000\n",
              "75%        53.000000       1.000000  ...        8.500000         3.000000\n",
              "max        69.000000      19.000000  ...       48.000000        20.000000\n",
              "\n",
              "[8 rows x 5 columns]"
            ],
            "text/html": [
              "<div>\n",
              "<style scoped>\n",
              "    .dataframe tbody tr th:only-of-type {\n",
              "        vertical-align: middle;\n",
              "    }\n",
              "\n",
              "    .dataframe tbody tr th {\n",
              "        vertical-align: top;\n",
              "    }\n",
              "\n",
              "    .dataframe thead th {\n",
              "        text-align: right;\n",
              "    }\n",
              "</style>\n",
              "<table border=\"1\" class=\"dataframe\">\n",
              "  <thead>\n",
              "    <tr style=\"text-align: right;\">\n",
              "      <th></th>\n",
              "      <th>Idade</th>\n",
              "      <th>Qtd_Filhos</th>\n",
              "      <th>Rendimento_Anual</th>\n",
              "      <th>Anos_empregado</th>\n",
              "      <th>Tamanho_Familia</th>\n",
              "    </tr>\n",
              "  </thead>\n",
              "  <tbody>\n",
              "    <tr>\n",
              "      <th>count</th>\n",
              "      <td>425822.000000</td>\n",
              "      <td>425822.000000</td>\n",
              "      <td>425822.000000</td>\n",
              "      <td>425822.000000</td>\n",
              "      <td>425822.000000</td>\n",
              "    </tr>\n",
              "    <tr>\n",
              "      <th>mean</th>\n",
              "      <td>43.838707</td>\n",
              "      <td>0.425314</td>\n",
              "      <td>176384.728083</td>\n",
              "      <td>5.744956</td>\n",
              "      <td>2.191683</td>\n",
              "    </tr>\n",
              "    <tr>\n",
              "      <th>std</th>\n",
              "      <td>11.525400</td>\n",
              "      <td>0.723577</td>\n",
              "      <td>75033.530551</td>\n",
              "      <td>6.736649</td>\n",
              "      <td>0.896300</td>\n",
              "    </tr>\n",
              "    <tr>\n",
              "      <th>min</th>\n",
              "      <td>21.000000</td>\n",
              "      <td>0.000000</td>\n",
              "      <td>26100.000000</td>\n",
              "      <td>-1.000000</td>\n",
              "      <td>1.000000</td>\n",
              "    </tr>\n",
              "    <tr>\n",
              "      <th>25%</th>\n",
              "      <td>34.000000</td>\n",
              "      <td>0.000000</td>\n",
              "      <td>117000.000000</td>\n",
              "      <td>1.000000</td>\n",
              "      <td>2.000000</td>\n",
              "    </tr>\n",
              "    <tr>\n",
              "      <th>50%</th>\n",
              "      <td>43.000000</td>\n",
              "      <td>0.000000</td>\n",
              "      <td>157500.000000</td>\n",
              "      <td>4.000000</td>\n",
              "      <td>2.000000</td>\n",
              "    </tr>\n",
              "    <tr>\n",
              "      <th>75%</th>\n",
              "      <td>53.000000</td>\n",
              "      <td>1.000000</td>\n",
              "      <td>225000.000000</td>\n",
              "      <td>8.500000</td>\n",
              "      <td>3.000000</td>\n",
              "    </tr>\n",
              "    <tr>\n",
              "      <th>max</th>\n",
              "      <td>69.000000</td>\n",
              "      <td>19.000000</td>\n",
              "      <td>405000.000000</td>\n",
              "      <td>48.000000</td>\n",
              "      <td>20.000000</td>\n",
              "    </tr>\n",
              "  </tbody>\n",
              "</table>\n",
              "</div>"
            ]
          },
          "metadata": {},
          "execution_count": 21
        }
      ],
      "metadata": {
        "colab": {
          "base_uri": "https://localhost:8080/",
          "height": 297
        },
        "id": "kSxD1hFg62bP",
        "outputId": "64de62ce-7050-4a76-a9ba-57a9f871f670"
      }
    },
    {
      "cell_type": "code",
      "execution_count": null,
      "source": [
        "sns.histplot(data=df_clientes_cadastrados_sem_outliers, x='Rendimento_Anual', bins=10)\n",
        "plt.xticks(rotation=45)\n",
        "plt.show()"
      ],
      "outputs": [
        {
          "output_type": "display_data",
          "data": {
            "text/plain": [
              "<Figure size 432x288 with 1 Axes>"
            ],
            "image/png": "[encoded data removed]"
          },
          "metadata": {}
        }
      ],
      "metadata": {
        "colab": {
          "base_uri": "https://localhost:8080/",
          "height": 312
        },
        "id": "7Y5IMLbz7H1Q",
        "outputId": "16771b4e-5af6-4427-82de-0dfe8f63f9d1"
      }
    },
    {
      "cell_type": "code",
      "execution_count": null,
      "source": [
        "sns.histplot(data=df_clientes_cadastrados_sem_outliers, x='Idade', bins=10)\n",
        "plt.xticks(rotation=45)\n",
        "plt.show()"
      ],
      "outputs": [
        {
          "output_type": "display_data",
          "data": {
            "text/plain": [
              "<Figure size 432x288 with 1 Axes>"
            ],
            "image/png": "[encoded data removed]"
          },
          "metadata": {}
        }
      ],
      "metadata": {
        "colab": {
          "base_uri": "https://localhost:8080/",
          "height": 292
        },
        "id": "PCNOtqV970Uw",
        "outputId": "738a9619-5510-4a2c-ea4e-b55d962be644"
      }
    },
    {
      "cell_type": "code",
      "execution_count": null,
      "source": [
        "sns.histplot(data=df_clientes_cadastrados_sem_outliers.query(\"Anos_empregado > 0\"), x='Anos_empregado')\n",
        "plt.xticks(rotation=45)\n",
        "plt.show()"
      ],
      "outputs": [
        {
          "output_type": "display_data",
          "data": {
            "text/plain": [
              "<Figure size 432x288 with 1 Axes>"
            ],
            "image/png": "[encoded data removed]"
          },
          "metadata": {}
        }
      ],
      "metadata": {
        "colab": {
          "base_uri": "https://localhost:8080/",
          "height": 292
        },
        "id": "SsfW3Y7d75HN",
        "outputId": "aa4c639b-ca54-4fad-a3a0-8c92c437d0b0"
      }
    },
    {
      "cell_type": "code",
      "execution_count": null,
      "source": [
        "df_clientes_cadastrados_sem_outliers.info()"
      ],
      "outputs": [
        {
          "output_type": "stream",
          "name": "stdout",
          "text": [
            "<class 'pandas.core.frame.DataFrame'>\n",
            "Int64Index: 425822 entries, 2 to 438556\n",
            "Data columns (total 18 columns):\n",
            " #   Column                 Non-Null Count   Dtype  \n",
            "---  ------                 --------------   -----  \n",
            " 0   ID_Cliente             425822 non-null  int64  \n",
            " 1   Genero                 425822 non-null  object \n",
            " 2   Tem_Carro              425822 non-null  int64  \n",
            " 3   Tem_Casa_Propria       425822 non-null  int64  \n",
            " 4   Qtd_Filhos             425822 non-null  int64  \n",
            " 5   Rendimento_Anual       425822 non-null  float64\n",
            " 6   Categoria_de_renda     425822 non-null  object \n",
            " 7   Grau_Escolaridade      425822 non-null  object \n",
            " 8   Estado_Civil           425822 non-null  object \n",
            " 9   Moradia                425822 non-null  object \n",
            " 10  Idade                  425822 non-null  float64\n",
            " 11  Tem_Celular            425822 non-null  int64  \n",
            " 12  Tem_telefone_trabalho  425822 non-null  int64  \n",
            " 13  Tem_telefone_fixo      425822 non-null  int64  \n",
            " 14  Tem_email              425822 non-null  int64  \n",
            " 15  Ocupacao               425822 non-null  object \n",
            " 16  Tamanho_Familia        425822 non-null  float64\n",
            " 17  Anos_empregado         425822 non-null  float64\n",
            "dtypes: float64(4), int64(8), object(6)\n",
            "memory usage: 61.7+ MB\n"
          ]
        }
      ],
      "metadata": {
        "colab": {
          "base_uri": "https://localhost:8080/"
        },
        "id": "nNBdQk1fnfgO",
        "outputId": "fd0d82ba-2cf2-438b-9533-a2f69db6c102"
      }
    },
    {
      "cell_type": "code",
      "execution_count": null,
      "source": [
        "colunas_categoricas = ['Genero', 'Tem_Carro', 'Tem_Casa_Propria',\n",
        "                       'Categoria_de_renda', 'Grau_Escolaridade',\n",
        "                       'Estado_Civil', 'Moradia', 'Tem_Celular',\n",
        "                       'Tem_telefone_trabalho', 'Tem_telefone_fixo', 'Tem_email',\n",
        "                       'Ocupacao']"
      ],
      "outputs": [],
      "metadata": {
        "id": "CHXPQkb9noM1"
      }
    },
    {
      "cell_type": "code",
      "execution_count": null,
      "source": [
        "sns.countplot(x = 'Estado_Civil', data = df_clientes_cadastrados_sem_outliers)\n",
        "plt.xticks(rotation=45, ha='right')\n",
        "plt.show()"
      ],
      "outputs": [
        {
          "output_type": "display_data",
          "data": {
            "text/plain": [
              "<Figure size 432x288 with 1 Axes>"
            ],
            "image/png": "[encoded data removed]"
          },
          "metadata": {}
        }
      ],
      "metadata": {
        "colab": {
          "base_uri": "https://localhost:8080/",
          "height": 335
        },
        "id": "5y32Y-YSn0zf",
        "outputId": "68b151e9-d093-4bc6-c0f3-49a647741880"
      }
    },
    {
      "cell_type": "code",
      "execution_count": null,
      "source": [
        "sns.countplot(x = 'Tem_Celular', data = df_clientes_cadastrados_sem_outliers)\n",
        "plt.xticks(rotation=45, ha='right')\n",
        "plt.show()"
      ],
      "outputs": [
        {
          "output_type": "display_data",
          "data": {
            "text/plain": [
              "<Figure size 432x288 with 1 Axes>"
            ],
            "image/png": "[encoded data removed]"
          },
          "metadata": {}
        }
      ],
      "metadata": {
        "colab": {
          "base_uri": "https://localhost:8080/",
          "height": 287
        },
        "id": "JtWXT9DxoVOE",
        "outputId": "f320bbd4-0156-4a54-f8e4-f4cf9b09e535"
      }
    },
    {
      "cell_type": "code",
      "execution_count": null,
      "source": [
        "sns.countplot(x = 'Ocupacao', data = df_clientes_cadastrados_sem_outliers)\n",
        "plt.xticks(rotation=45, ha='right')\n",
        "plt.show()"
      ],
      "outputs": [
        {
          "output_type": "display_data",
          "data": {
            "text/plain": [
              "<Figure size 432x288 with 1 Axes>"
            ],
            "image/png": "[encoded data removed]"
          },
          "metadata": {}
        }
      ],
      "metadata": {
        "colab": {
          "base_uri": "https://localhost:8080/",
          "height": 358
        },
        "id": "O5f9H6IBolI9",
        "outputId": "02c36529-c3f1-4ac5-8e86-ac1ad29089c3"
      }
    },
    {
      "cell_type": "code",
      "execution_count": null,
      "source": [
        "sns.histplot(data=df_clientes_cadastrados_sem_outliers.query(\"Ocupacao == 'Outros'\"), x='Rendimento_Anual', bins=10)\n",
        "plt.xticks(rotation=45, ha='right')\n",
        "plt.show()"
      ],
      "outputs": [
        {
          "output_type": "display_data",
          "data": {
            "text/plain": [
              "<Figure size 432x288 with 1 Axes>"
            ],
            "image/png": "[encoded data removed]"
          },
          "metadata": {}
        }
      ],
      "metadata": {
        "colab": {
          "base_uri": "https://localhost:8080/",
          "height": 312
        },
        "id": "dP2Ul6VkpXQM",
        "outputId": "740a2e81-4b31-49eb-9d92-fd2d4488f860"
      }
    },
    {
      "cell_type": "code",
      "execution_count": null,
      "source": [
        "df_clientes_cadastrados_tratamento1 = df_clientes_cadastrados_sem_outliers.drop(['Genero', 'Tem_Celular'], axis=1)\n",
        "df_clientes_cadastrados_tratamento1.shape"
      ],
      "outputs": [
        {
          "output_type": "execute_result",
          "data": {
            "text/plain": [
              "(425822, 16)"
            ]
          },
          "metadata": {},
          "execution_count": 31
        }
      ],
      "metadata": {
        "colab": {
          "base_uri": "https://localhost:8080/"
        },
        "id": "NVdhlQ_wsF-6",
        "outputId": "3a21dee5-313b-47c4-a0b9-11f0a90fecc4"
      }
    },
    {
      "cell_type": "code",
      "execution_count": null,
      "source": [
        "colunas_categoricas.remove('Genero')"
      ],
      "outputs": [],
      "metadata": {
        "id": "_212cwVBs8gJ"
      }
    },
    {
      "cell_type": "code",
      "execution_count": null,
      "source": [
        "colunas_categoricas.remove('Tem_Celular')\n",
        "colunas_categoricas"
      ],
      "outputs": [
        {
          "output_type": "execute_result",
          "data": {
            "text/plain": [
              "['Tem_Carro',\n",
              " 'Tem_Casa_Propria',\n",
              " 'Categoria_de_renda',\n",
              " 'Grau_Escolaridade',\n",
              " 'Estado_Civil',\n",
              " 'Moradia',\n",
              " 'Tem_telefone_trabalho',\n",
              " 'Tem_telefone_fixo',\n",
              " 'Tem_email',\n",
              " 'Ocupacao']"
            ]
          },
          "metadata": {},
          "execution_count": 33
        }
      ],
      "metadata": {
        "colab": {
          "base_uri": "https://localhost:8080/"
        },
        "id": "y7xPEe5gtBjJ",
        "outputId": "94983f5f-d5a6-4564-95d3-4c6a3c72a7eb"
      }
    },
    {
      "cell_type": "markdown",
      "source": [
        "#Aula 3"
      ],
      "metadata": {
        "id": "6e68iv0Z6mM9"
      }
    },
    {
      "cell_type": "code",
      "execution_count": null,
      "source": [
        "df_clientes_aprovados = pd.read_csv('https://raw.githubusercontent.com/alura-cursos/Avaliacao_Credito/main/dados/clientes_aprovados.csv')\n",
        "df_clientes_aprovados.head()"
      ],
      "outputs": [
        {
          "output_type": "execute_result",
          "data": {
            "text/plain": [
              "   ID_Cliente  Mes_referencia         Faixa_atraso\n",
              "0     5001711               0    nenhum empréstimo\n",
              "1     5001711              -1            1-29 dias\n",
              "2     5001711              -2            1-29 dias\n",
              "3     5001711              -3            1-29 dias\n",
              "4     5001712               0  pagamento realizado"
            ],
            "text/html": [
              "<div>\n",
              "<style scoped>\n",
              "    .dataframe tbody tr th:only-of-type {\n",
              "        vertical-align: middle;\n",
              "    }\n",
              "\n",
              "    .dataframe tbody tr th {\n",
              "        vertical-align: top;\n",
              "    }\n",
              "\n",
              "    .dataframe thead th {\n",
              "        text-align: right;\n",
              "    }\n",
              "</style>\n",
              "<table border=\"1\" class=\"dataframe\">\n",
              "  <thead>\n",
              "    <tr style=\"text-align: right;\">\n",
              "      <th></th>\n",
              "      <th>ID_Cliente</th>\n",
              "      <th>Mes_referencia</th>\n",
              "      <th>Faixa_atraso</th>\n",
              "    </tr>\n",
              "  </thead>\n",
              "  <tbody>\n",
              "    <tr>\n",
              "      <th>0</th>\n",
              "      <td>5001711</td>\n",
              "      <td>0</td>\n",
              "      <td>nenhum empréstimo</td>\n",
              "    </tr>\n",
              "    <tr>\n",
              "      <th>1</th>\n",
              "      <td>5001711</td>\n",
              "      <td>-1</td>\n",
              "      <td>1-29 dias</td>\n",
              "    </tr>\n",
              "    <tr>\n",
              "      <th>2</th>\n",
              "      <td>5001711</td>\n",
              "      <td>-2</td>\n",
              "      <td>1-29 dias</td>\n",
              "    </tr>\n",
              "    <tr>\n",
              "      <th>3</th>\n",
              "      <td>5001711</td>\n",
              "      <td>-3</td>\n",
              "      <td>1-29 dias</td>\n",
              "    </tr>\n",
              "    <tr>\n",
              "      <th>4</th>\n",
              "      <td>5001712</td>\n",
              "      <td>0</td>\n",
              "      <td>pagamento realizado</td>\n",
              "    </tr>\n",
              "  </tbody>\n",
              "</table>\n",
              "</div>"
            ]
          },
          "metadata": {},
          "execution_count": 34
        }
      ],
      "metadata": {
        "colab": {
          "base_uri": "https://localhost:8080/",
          "height": 204
        },
        "id": "_sV5Ap0ljReG",
        "outputId": "7dafc8a8-248d-4f5c-b633-17eb6da76a23"
      }
    },
    {
      "cell_type": "code",
      "execution_count": null,
      "source": [
        "df_clientes_aprovados.info()"
      ],
      "outputs": [
        {
          "output_type": "stream",
          "name": "stdout",
          "text": [
            "<class 'pandas.core.frame.DataFrame'>\n",
            "RangeIndex: 1048575 entries, 0 to 1048574\n",
            "Data columns (total 3 columns):\n",
            " #   Column          Non-Null Count    Dtype \n",
            "---  ------          --------------    ----- \n",
            " 0   ID_Cliente      1048575 non-null  int64 \n",
            " 1   Mes_referencia  1048575 non-null  int64 \n",
            " 2   Faixa_atraso    1048575 non-null  object\n",
            "dtypes: int64(2), object(1)\n",
            "memory usage: 24.0+ MB\n"
          ]
        }
      ],
      "metadata": {
        "colab": {
          "base_uri": "https://localhost:8080/"
        },
        "id": "UT997E_bjqg-",
        "outputId": "1555b65d-02c3-44ac-940b-549ff1f41de7"
      }
    },
    {
      "cell_type": "code",
      "execution_count": null,
      "source": [
        "df_clientes_aprovados.ID_Cliente.value_counts().shape"
      ],
      "outputs": [
        {
          "output_type": "execute_result",
          "data": {
            "text/plain": [
              "(45985,)"
            ]
          },
          "metadata": {},
          "execution_count": 36
        }
      ],
      "metadata": {
        "colab": {
          "base_uri": "https://localhost:8080/"
        },
        "id": "rLloOLE1lZZS",
        "outputId": "17305225-5495-49cc-a6cd-4a502f9ba6af"
      }
    },
    {
      "cell_type": "code",
      "execution_count": null,
      "source": [
        "df_clientes_cadastrados_tratamento1.shape"
      ],
      "outputs": [
        {
          "output_type": "execute_result",
          "data": {
            "text/plain": [
              "(425822, 16)"
            ]
          },
          "metadata": {},
          "execution_count": 37
        }
      ],
      "metadata": {
        "colab": {
          "base_uri": "https://localhost:8080/"
        },
        "id": "KFUULQ-7ll4a",
        "outputId": "deca6c3b-2639-4cbb-d974-959baba1ef22"
      }
    },
    {
      "cell_type": "code",
      "execution_count": null,
      "source": [
        "df_clientes_aprovados.query('ID_Cliente == 5001712')"
      ],
      "outputs": [
        {
          "output_type": "execute_result",
          "data": {
            "text/plain": [
              "    ID_Cliente  Mes_referencia         Faixa_atraso\n",
              "4      5001712               0  pagamento realizado\n",
              "5      5001712              -1  pagamento realizado\n",
              "6      5001712              -2  pagamento realizado\n",
              "7      5001712              -3  pagamento realizado\n",
              "8      5001712              -4  pagamento realizado\n",
              "9      5001712              -5  pagamento realizado\n",
              "10     5001712              -6  pagamento realizado\n",
              "11     5001712              -7  pagamento realizado\n",
              "12     5001712              -8  pagamento realizado\n",
              "13     5001712              -9            1-29 dias\n",
              "14     5001712             -10            1-29 dias\n",
              "15     5001712             -11            1-29 dias\n",
              "16     5001712             -12            1-29 dias\n",
              "17     5001712             -13            1-29 dias\n",
              "18     5001712             -14            1-29 dias\n",
              "19     5001712             -15            1-29 dias\n",
              "20     5001712             -16            1-29 dias\n",
              "21     5001712             -17            1-29 dias\n",
              "22     5001712             -18            1-29 dias"
            ],
            "text/html": [
              "<div>\n",
              "<style scoped>\n",
              "    .dataframe tbody tr th:only-of-type {\n",
              "        vertical-align: middle;\n",
              "    }\n",
              "\n",
              "    .dataframe tbody tr th {\n",
              "        vertical-align: top;\n",
              "    }\n",
              "\n",
              "    .dataframe thead th {\n",
              "        text-align: right;\n",
              "    }\n",
              "</style>\n",
              "<table border=\"1\" class=\"dataframe\">\n",
              "  <thead>\n",
              "    <tr style=\"text-align: right;\">\n",
              "      <th></th>\n",
              "      <th>ID_Cliente</th>\n",
              "      <th>Mes_referencia</th>\n",
              "      <th>Faixa_atraso</th>\n",
              "    </tr>\n",
              "  </thead>\n",
              "  <tbody>\n",
              "    <tr>\n",
              "      <th>4</th>\n",
              "      <td>5001712</td>\n",
              "      <td>0</td>\n",
              "      <td>pagamento realizado</td>\n",
              "    </tr>\n",
              "    <tr>\n",
              "      <th>5</th>\n",
              "      <td>5001712</td>\n",
              "      <td>-1</td>\n",
              "      <td>pagamento realizado</td>\n",
              "    </tr>\n",
              "    <tr>\n",
              "      <th>6</th>\n",
              "      <td>5001712</td>\n",
              "      <td>-2</td>\n",
              "      <td>pagamento realizado</td>\n",
              "    </tr>\n",
              "    <tr>\n",
              "      <th>7</th>\n",
              "      <td>5001712</td>\n",
              "      <td>-3</td>\n",
              "      <td>pagamento realizado</td>\n",
              "    </tr>\n",
              "    <tr>\n",
              "      <th>8</th>\n",
              "      <td>5001712</td>\n",
              "      <td>-4</td>\n",
              "      <td>pagamento realizado</td>\n",
              "    </tr>\n",
              "    <tr>\n",
              "      <th>9</th>\n",
              "      <td>5001712</td>\n",
              "      <td>-5</td>\n",
              "      <td>pagamento realizado</td>\n",
              "    </tr>\n",
              "    <tr>\n",
              "      <th>10</th>\n",
              "      <td>5001712</td>\n",
              "      <td>-6</td>\n",
              "      <td>pagamento realizado</td>\n",
              "    </tr>\n",
              "    <tr>\n",
              "      <th>11</th>\n",
              "      <td>5001712</td>\n",
              "      <td>-7</td>\n",
              "      <td>pagamento realizado</td>\n",
              "    </tr>\n",
              "    <tr>\n",
              "      <th>12</th>\n",
              "      <td>5001712</td>\n",
              "      <td>-8</td>\n",
              "      <td>pagamento realizado</td>\n",
              "    </tr>\n",
              "    <tr>\n",
              "      <th>13</th>\n",
              "      <td>5001712</td>\n",
              "      <td>-9</td>\n",
              "      <td>1-29 dias</td>\n",
              "    </tr>\n",
              "    <tr>\n",
              "      <th>14</th>\n",
              "      <td>5001712</td>\n",
              "      <td>-10</td>\n",
              "      <td>1-29 dias</td>\n",
              "    </tr>\n",
              "    <tr>\n",
              "      <th>15</th>\n",
              "      <td>5001712</td>\n",
              "      <td>-11</td>\n",
              "      <td>1-29 dias</td>\n",
              "    </tr>\n",
              "    <tr>\n",
              "      <th>16</th>\n",
              "      <td>5001712</td>\n",
              "      <td>-12</td>\n",
              "      <td>1-29 dias</td>\n",
              "    </tr>\n",
              "    <tr>\n",
              "      <th>17</th>\n",
              "      <td>5001712</td>\n",
              "      <td>-13</td>\n",
              "      <td>1-29 dias</td>\n",
              "    </tr>\n",
              "    <tr>\n",
              "      <th>18</th>\n",
              "      <td>5001712</td>\n",
              "      <td>-14</td>\n",
              "      <td>1-29 dias</td>\n",
              "    </tr>\n",
              "    <tr>\n",
              "      <th>19</th>\n",
              "      <td>5001712</td>\n",
              "      <td>-15</td>\n",
              "      <td>1-29 dias</td>\n",
              "    </tr>\n",
              "    <tr>\n",
              "      <th>20</th>\n",
              "      <td>5001712</td>\n",
              "      <td>-16</td>\n",
              "      <td>1-29 dias</td>\n",
              "    </tr>\n",
              "    <tr>\n",
              "      <th>21</th>\n",
              "      <td>5001712</td>\n",
              "      <td>-17</td>\n",
              "      <td>1-29 dias</td>\n",
              "    </tr>\n",
              "    <tr>\n",
              "      <th>22</th>\n",
              "      <td>5001712</td>\n",
              "      <td>-18</td>\n",
              "      <td>1-29 dias</td>\n",
              "    </tr>\n",
              "  </tbody>\n",
              "</table>\n",
              "</div>"
            ]
          },
          "metadata": {},
          "execution_count": 38
        }
      ],
      "metadata": {
        "colab": {
          "base_uri": "https://localhost:8080/",
          "height": 638
        },
        "id": "YjzaTxEemZI-",
        "outputId": "2b3e2a9d-0491-4276-9f50-2dd46ab9696e"
      }
    },
    {
      "cell_type": "code",
      "execution_count": null,
      "source": [
        "df_clientes_aprovados.query('ID_Cliente == 5001711')"
      ],
      "outputs": [
        {
          "output_type": "execute_result",
          "data": {
            "text/plain": [
              "   ID_Cliente  Mes_referencia       Faixa_atraso\n",
              "0     5001711               0  nenhum empréstimo\n",
              "1     5001711              -1          1-29 dias\n",
              "2     5001711              -2          1-29 dias\n",
              "3     5001711              -3          1-29 dias"
            ],
            "text/html": [
              "<div>\n",
              "<style scoped>\n",
              "    .dataframe tbody tr th:only-of-type {\n",
              "        vertical-align: middle;\n",
              "    }\n",
              "\n",
              "    .dataframe tbody tr th {\n",
              "        vertical-align: top;\n",
              "    }\n",
              "\n",
              "    .dataframe thead th {\n",
              "        text-align: right;\n",
              "    }\n",
              "</style>\n",
              "<table border=\"1\" class=\"dataframe\">\n",
              "  <thead>\n",
              "    <tr style=\"text-align: right;\">\n",
              "      <th></th>\n",
              "      <th>ID_Cliente</th>\n",
              "      <th>Mes_referencia</th>\n",
              "      <th>Faixa_atraso</th>\n",
              "    </tr>\n",
              "  </thead>\n",
              "  <tbody>\n",
              "    <tr>\n",
              "      <th>0</th>\n",
              "      <td>5001711</td>\n",
              "      <td>0</td>\n",
              "      <td>nenhum empréstimo</td>\n",
              "    </tr>\n",
              "    <tr>\n",
              "      <th>1</th>\n",
              "      <td>5001711</td>\n",
              "      <td>-1</td>\n",
              "      <td>1-29 dias</td>\n",
              "    </tr>\n",
              "    <tr>\n",
              "      <th>2</th>\n",
              "      <td>5001711</td>\n",
              "      <td>-2</td>\n",
              "      <td>1-29 dias</td>\n",
              "    </tr>\n",
              "    <tr>\n",
              "      <th>3</th>\n",
              "      <td>5001711</td>\n",
              "      <td>-3</td>\n",
              "      <td>1-29 dias</td>\n",
              "    </tr>\n",
              "  </tbody>\n",
              "</table>\n",
              "</div>"
            ]
          },
          "metadata": {},
          "execution_count": 39
        }
      ],
      "metadata": {
        "colab": {
          "base_uri": "https://localhost:8080/",
          "height": 173
        },
        "id": "cfbsivSunC-M",
        "outputId": "e1db7f00-64b3-4986-b3b5-5cb66e98551f"
      }
    },
    {
      "cell_type": "code",
      "execution_count": null,
      "source": [
        "df_clientes_aprovados.Faixa_atraso.value_counts().index.to_list()"
      ],
      "outputs": [
        {
          "output_type": "execute_result",
          "data": {
            "text/plain": [
              "['pagamento realizado',\n",
              " '1-29 dias',\n",
              " 'nenhum empréstimo',\n",
              " '30-59 dias',\n",
              " '>150 dias',\n",
              " '60-89 dias',\n",
              " '90-119 dias',\n",
              " '120-149 dias']"
            ]
          },
          "metadata": {},
          "execution_count": 40
        }
      ],
      "metadata": {
        "colab": {
          "base_uri": "https://localhost:8080/"
        },
        "id": "-l0YrqPSne66",
        "outputId": "edf33640-02f7-4917-a37e-9aa780015cd1"
      }
    },
    {
      "cell_type": "code",
      "execution_count": null,
      "source": [
        "df_registros_creditos_agrupados_ID = df_clientes_aprovados.groupby('ID_Cliente')\n",
        "ser_abertura = df_registros_creditos_agrupados_ID.apply(lambda x: min(x['Mes_referencia']))\n",
        "ser_abertura.name = 'Abertura'\n",
        "ser_abertura"
      ],
      "outputs": [
        {
          "output_type": "execute_result",
          "data": {
            "text/plain": [
              "ID_Cliente\n",
              "5001711    -3\n",
              "5001712   -18\n",
              "5001713   -21\n",
              "5001714   -14\n",
              "5001715   -59\n",
              "           ..\n",
              "5150482   -28\n",
              "5150483   -17\n",
              "5150484   -12\n",
              "5150485    -1\n",
              "5150487   -29\n",
              "Name: Abertura, Length: 45985, dtype: int64"
            ]
          },
          "metadata": {},
          "execution_count": 41
        }
      ],
      "metadata": {
        "colab": {
          "base_uri": "https://localhost:8080/"
        },
        "id": "I4IQO8KsDf34",
        "outputId": "2e443cd6-205c-4907-f1a5-15b1c310de3f"
      }
    },
    {
      "cell_type": "code",
      "execution_count": null,
      "source": [
        "df_clientes_aprovados = df_clientes_aprovados.merge(ser_abertura, on='ID_Cliente')\n",
        "df_clientes_aprovados.head()"
      ],
      "outputs": [
        {
          "output_type": "execute_result",
          "data": {
            "text/plain": [
              "   ID_Cliente  Mes_referencia         Faixa_atraso  Abertura\n",
              "0     5001711               0    nenhum empréstimo        -3\n",
              "1     5001711              -1            1-29 dias        -3\n",
              "2     5001711              -2            1-29 dias        -3\n",
              "3     5001711              -3            1-29 dias        -3\n",
              "4     5001712               0  pagamento realizado       -18"
            ],
            "text/html": [
              "<div>\n",
              "<style scoped>\n",
              "    .dataframe tbody tr th:only-of-type {\n",
              "        vertical-align: middle;\n",
              "    }\n",
              "\n",
              "    .dataframe tbody tr th {\n",
              "        vertical-align: top;\n",
              "    }\n",
              "\n",
              "    .dataframe thead th {\n",
              "        text-align: right;\n",
              "    }\n",
              "</style>\n",
              "<table border=\"1\" class=\"dataframe\">\n",
              "  <thead>\n",
              "    <tr style=\"text-align: right;\">\n",
              "      <th></th>\n",
              "      <th>ID_Cliente</th>\n",
              "      <th>Mes_referencia</th>\n",
              "      <th>Faixa_atraso</th>\n",
              "      <th>Abertura</th>\n",
              "    </tr>\n",
              "  </thead>\n",
              "  <tbody>\n",
              "    <tr>\n",
              "      <th>0</th>\n",
              "      <td>5001711</td>\n",
              "      <td>0</td>\n",
              "      <td>nenhum empréstimo</td>\n",
              "      <td>-3</td>\n",
              "    </tr>\n",
              "    <tr>\n",
              "      <th>1</th>\n",
              "      <td>5001711</td>\n",
              "      <td>-1</td>\n",
              "      <td>1-29 dias</td>\n",
              "      <td>-3</td>\n",
              "    </tr>\n",
              "    <tr>\n",
              "      <th>2</th>\n",
              "      <td>5001711</td>\n",
              "      <td>-2</td>\n",
              "      <td>1-29 dias</td>\n",
              "      <td>-3</td>\n",
              "    </tr>\n",
              "    <tr>\n",
              "      <th>3</th>\n",
              "      <td>5001711</td>\n",
              "      <td>-3</td>\n",
              "      <td>1-29 dias</td>\n",
              "      <td>-3</td>\n",
              "    </tr>\n",
              "    <tr>\n",
              "      <th>4</th>\n",
              "      <td>5001712</td>\n",
              "      <td>0</td>\n",
              "      <td>pagamento realizado</td>\n",
              "      <td>-18</td>\n",
              "    </tr>\n",
              "  </tbody>\n",
              "</table>\n",
              "</div>"
            ]
          },
          "metadata": {},
          "execution_count": 42
        }
      ],
      "metadata": {
        "colab": {
          "base_uri": "https://localhost:8080/",
          "height": 204
        },
        "id": "EAYWImCKEZeC",
        "outputId": "e6698f21-1a38-4da2-9717-4c16e5264291"
      }
    },
    {
      "cell_type": "code",
      "execution_count": null,
      "source": [
        "ser_final = df_registros_creditos_agrupados_ID.apply(lambda x: max(x['Mes_referencia']))\n",
        "ser_final.name = 'Final'\n",
        "ser_final"
      ],
      "outputs": [
        {
          "output_type": "execute_result",
          "data": {
            "text/plain": [
              "ID_Cliente\n",
              "5001711     0\n",
              "5001712     0\n",
              "5001713     0\n",
              "5001714     0\n",
              "5001715     0\n",
              "           ..\n",
              "5150482   -11\n",
              "5150483     0\n",
              "5150484     0\n",
              "5150485     0\n",
              "5150487     0\n",
              "Name: Final, Length: 45985, dtype: int64"
            ]
          },
          "metadata": {},
          "execution_count": 43
        }
      ],
      "metadata": {
        "colab": {
          "base_uri": "https://localhost:8080/"
        },
        "id": "M5mizo-HFZJC",
        "outputId": "82510fe0-009c-47dc-e372-8b5a52cd4b94"
      }
    },
    {
      "cell_type": "code",
      "execution_count": null,
      "source": [
        "df_clientes_aprovados = df_clientes_aprovados.merge(ser_final, on='ID_Cliente')\n",
        "df_clientes_aprovados.head()"
      ],
      "outputs": [
        {
          "output_type": "execute_result",
          "data": {
            "text/plain": [
              "   ID_Cliente  Mes_referencia         Faixa_atraso  Abertura  Final\n",
              "0     5001711               0    nenhum empréstimo        -3      0\n",
              "1     5001711              -1            1-29 dias        -3      0\n",
              "2     5001711              -2            1-29 dias        -3      0\n",
              "3     5001711              -3            1-29 dias        -3      0\n",
              "4     5001712               0  pagamento realizado       -18      0"
            ],
            "text/html": [
              "<div>\n",
              "<style scoped>\n",
              "    .dataframe tbody tr th:only-of-type {\n",
              "        vertical-align: middle;\n",
              "    }\n",
              "\n",
              "    .dataframe tbody tr th {\n",
              "        vertical-align: top;\n",
              "    }\n",
              "\n",
              "    .dataframe thead th {\n",
              "        text-align: right;\n",
              "    }\n",
              "</style>\n",
              "<table border=\"1\" class=\"dataframe\">\n",
              "  <thead>\n",
              "    <tr style=\"text-align: right;\">\n",
              "      <th></th>\n",
              "      <th>ID_Cliente</th>\n",
              "      <th>Mes_referencia</th>\n",
              "      <th>Faixa_atraso</th>\n",
              "      <th>Abertura</th>\n",
              "      <th>Final</th>\n",
              "    </tr>\n",
              "  </thead>\n",
              "  <tbody>\n",
              "    <tr>\n",
              "      <th>0</th>\n",
              "      <td>5001711</td>\n",
              "      <td>0</td>\n",
              "      <td>nenhum empréstimo</td>\n",
              "      <td>-3</td>\n",
              "      <td>0</td>\n",
              "    </tr>\n",
              "    <tr>\n",
              "      <th>1</th>\n",
              "      <td>5001711</td>\n",
              "      <td>-1</td>\n",
              "      <td>1-29 dias</td>\n",
              "      <td>-3</td>\n",
              "      <td>0</td>\n",
              "    </tr>\n",
              "    <tr>\n",
              "      <th>2</th>\n",
              "      <td>5001711</td>\n",
              "      <td>-2</td>\n",
              "      <td>1-29 dias</td>\n",
              "      <td>-3</td>\n",
              "      <td>0</td>\n",
              "    </tr>\n",
              "    <tr>\n",
              "      <th>3</th>\n",
              "      <td>5001711</td>\n",
              "      <td>-3</td>\n",
              "      <td>1-29 dias</td>\n",
              "      <td>-3</td>\n",
              "      <td>0</td>\n",
              "    </tr>\n",
              "    <tr>\n",
              "      <th>4</th>\n",
              "      <td>5001712</td>\n",
              "      <td>0</td>\n",
              "      <td>pagamento realizado</td>\n",
              "      <td>-18</td>\n",
              "      <td>0</td>\n",
              "    </tr>\n",
              "  </tbody>\n",
              "</table>\n",
              "</div>"
            ]
          },
          "metadata": {},
          "execution_count": 44
        }
      ],
      "metadata": {
        "colab": {
          "base_uri": "https://localhost:8080/",
          "height": 204
        },
        "id": "LteIYUMnFvmi",
        "outputId": "0400c30c-54c8-4286-b2ae-0d723f24e559"
      }
    },
    {
      "cell_type": "code",
      "execution_count": null,
      "source": [
        "df_clientes_aprovados['Janela'] = df_clientes_aprovados['Final'] - df_clientes_aprovados['Abertura']\n",
        "df_clientes_aprovados.head()"
      ],
      "outputs": [
        {
          "output_type": "execute_result",
          "data": {
            "text/plain": [
              "   ID_Cliente  Mes_referencia         Faixa_atraso  Abertura  Final  Janela\n",
              "0     5001711               0    nenhum empréstimo        -3      0       3\n",
              "1     5001711              -1            1-29 dias        -3      0       3\n",
              "2     5001711              -2            1-29 dias        -3      0       3\n",
              "3     5001711              -3            1-29 dias        -3      0       3\n",
              "4     5001712               0  pagamento realizado       -18      0      18"
            ],
            "text/html": [
              "<div>\n",
              "<style scoped>\n",
              "    .dataframe tbody tr th:only-of-type {\n",
              "        vertical-align: middle;\n",
              "    }\n",
              "\n",
              "    .dataframe tbody tr th {\n",
              "        vertical-align: top;\n",
              "    }\n",
              "\n",
              "    .dataframe thead th {\n",
              "        text-align: right;\n",
              "    }\n",
              "</style>\n",
              "<table border=\"1\" class=\"dataframe\">\n",
              "  <thead>\n",
              "    <tr style=\"text-align: right;\">\n",
              "      <th></th>\n",
              "      <th>ID_Cliente</th>\n",
              "      <th>Mes_referencia</th>\n",
              "      <th>Faixa_atraso</th>\n",
              "      <th>Abertura</th>\n",
              "      <th>Final</th>\n",
              "      <th>Janela</th>\n",
              "    </tr>\n",
              "  </thead>\n",
              "  <tbody>\n",
              "    <tr>\n",
              "      <th>0</th>\n",
              "      <td>5001711</td>\n",
              "      <td>0</td>\n",
              "      <td>nenhum empréstimo</td>\n",
              "      <td>-3</td>\n",
              "      <td>0</td>\n",
              "      <td>3</td>\n",
              "    </tr>\n",
              "    <tr>\n",
              "      <th>1</th>\n",
              "      <td>5001711</td>\n",
              "      <td>-1</td>\n",
              "      <td>1-29 dias</td>\n",
              "      <td>-3</td>\n",
              "      <td>0</td>\n",
              "      <td>3</td>\n",
              "    </tr>\n",
              "    <tr>\n",
              "      <th>2</th>\n",
              "      <td>5001711</td>\n",
              "      <td>-2</td>\n",
              "      <td>1-29 dias</td>\n",
              "      <td>-3</td>\n",
              "      <td>0</td>\n",
              "      <td>3</td>\n",
              "    </tr>\n",
              "    <tr>\n",
              "      <th>3</th>\n",
              "      <td>5001711</td>\n",
              "      <td>-3</td>\n",
              "      <td>1-29 dias</td>\n",
              "      <td>-3</td>\n",
              "      <td>0</td>\n",
              "      <td>3</td>\n",
              "    </tr>\n",
              "    <tr>\n",
              "      <th>4</th>\n",
              "      <td>5001712</td>\n",
              "      <td>0</td>\n",
              "      <td>pagamento realizado</td>\n",
              "      <td>-18</td>\n",
              "      <td>0</td>\n",
              "      <td>18</td>\n",
              "    </tr>\n",
              "  </tbody>\n",
              "</table>\n",
              "</div>"
            ]
          },
          "metadata": {},
          "execution_count": 45
        }
      ],
      "metadata": {
        "colab": {
          "base_uri": "https://localhost:8080/",
          "height": 204
        },
        "id": "GgFkJLP4GG3Z",
        "outputId": "ee067338-439f-435c-9792-e3fcddfd02ab"
      }
    },
    {
      "cell_type": "code",
      "execution_count": null,
      "source": [
        "df_clientes_aprovados['MOB'] = df_clientes_aprovados['Mes_referencia'] - df_clientes_aprovados['Abertura']\n",
        "df_clientes_aprovados.head()"
      ],
      "outputs": [
        {
          "output_type": "execute_result",
          "data": {
            "text/plain": [
              "   ID_Cliente  Mes_referencia         Faixa_atraso  ...  Final  Janela  MOB\n",
              "0     5001711               0    nenhum empréstimo  ...      0       3    3\n",
              "1     5001711              -1            1-29 dias  ...      0       3    2\n",
              "2     5001711              -2            1-29 dias  ...      0       3    1\n",
              "3     5001711              -3            1-29 dias  ...      0       3    0\n",
              "4     5001712               0  pagamento realizado  ...      0      18   18\n",
              "\n",
              "[5 rows x 7 columns]"
            ],
            "text/html": [
              "<div>\n",
              "<style scoped>\n",
              "    .dataframe tbody tr th:only-of-type {\n",
              "        vertical-align: middle;\n",
              "    }\n",
              "\n",
              "    .dataframe tbody tr th {\n",
              "        vertical-align: top;\n",
              "    }\n",
              "\n",
              "    .dataframe thead th {\n",
              "        text-align: right;\n",
              "    }\n",
              "</style>\n",
              "<table border=\"1\" class=\"dataframe\">\n",
              "  <thead>\n",
              "    <tr style=\"text-align: right;\">\n",
              "      <th></th>\n",
              "      <th>ID_Cliente</th>\n",
              "      <th>Mes_referencia</th>\n",
              "      <th>Faixa_atraso</th>\n",
              "      <th>Abertura</th>\n",
              "      <th>Final</th>\n",
              "      <th>Janela</th>\n",
              "      <th>MOB</th>\n",
              "    </tr>\n",
              "  </thead>\n",
              "  <tbody>\n",
              "    <tr>\n",
              "      <th>0</th>\n",
              "      <td>5001711</td>\n",
              "      <td>0</td>\n",
              "      <td>nenhum empréstimo</td>\n",
              "      <td>-3</td>\n",
              "      <td>0</td>\n",
              "      <td>3</td>\n",
              "      <td>3</td>\n",
              "    </tr>\n",
              "    <tr>\n",
              "      <th>1</th>\n",
              "      <td>5001711</td>\n",
              "      <td>-1</td>\n",
              "      <td>1-29 dias</td>\n",
              "      <td>-3</td>\n",
              "      <td>0</td>\n",
              "      <td>3</td>\n",
              "      <td>2</td>\n",
              "    </tr>\n",
              "    <tr>\n",
              "      <th>2</th>\n",
              "      <td>5001711</td>\n",
              "      <td>-2</td>\n",
              "      <td>1-29 dias</td>\n",
              "      <td>-3</td>\n",
              "      <td>0</td>\n",
              "      <td>3</td>\n",
              "      <td>1</td>\n",
              "    </tr>\n",
              "    <tr>\n",
              "      <th>3</th>\n",
              "      <td>5001711</td>\n",
              "      <td>-3</td>\n",
              "      <td>1-29 dias</td>\n",
              "      <td>-3</td>\n",
              "      <td>0</td>\n",
              "      <td>3</td>\n",
              "      <td>0</td>\n",
              "    </tr>\n",
              "    <tr>\n",
              "      <th>4</th>\n",
              "      <td>5001712</td>\n",
              "      <td>0</td>\n",
              "      <td>pagamento realizado</td>\n",
              "      <td>-18</td>\n",
              "      <td>0</td>\n",
              "      <td>18</td>\n",
              "      <td>18</td>\n",
              "    </tr>\n",
              "  </tbody>\n",
              "</table>\n",
              "</div>"
            ]
          },
          "metadata": {},
          "execution_count": 46
        }
      ],
      "metadata": {
        "colab": {
          "base_uri": "https://localhost:8080/",
          "height": 204
        },
        "id": "s8mVULoxHDxQ",
        "outputId": "fe74f322-a5f7-4d03-c440-99c0f18e151b"
      }
    },
    {
      "cell_type": "code",
      "execution_count": null,
      "source": [
        "dict_faixa_atraso_ind ={'nenhum empréstimo': 0, 'pagamento realizado': 1,\n",
        "                        '1-29 dias': 2, '30-59 dias': 3, '60-89 dias': 4,\n",
        "                        '90-119 dias': 5, '120-149 dias': 6, '>150 dias': 7}"
      ],
      "outputs": [],
      "metadata": {
        "id": "uqF6fREEIQBU"
      }
    },
    {
      "cell_type": "code",
      "execution_count": null,
      "source": [
        "df_clientes_aprovados['Ind_Faixa_atraso'] = df_clientes_aprovados['Faixa_atraso'].map(dict_faixa_atraso_ind)\n",
        "df_clientes_aprovados.head()"
      ],
      "outputs": [
        {
          "output_type": "execute_result",
          "data": {
            "text/plain": [
              "   ID_Cliente  Mes_referencia  ... MOB  Ind_Faixa_atraso\n",
              "0     5001711               0  ...   3                 0\n",
              "1     5001711              -1  ...   2                 2\n",
              "2     5001711              -2  ...   1                 2\n",
              "3     5001711              -3  ...   0                 2\n",
              "4     5001712               0  ...  18                 1\n",
              "\n",
              "[5 rows x 8 columns]"
            ],
            "text/html": [
              "<div>\n",
              "<style scoped>\n",
              "    .dataframe tbody tr th:only-of-type {\n",
              "        vertical-align: middle;\n",
              "    }\n",
              "\n",
              "    .dataframe tbody tr th {\n",
              "        vertical-align: top;\n",
              "    }\n",
              "\n",
              "    .dataframe thead th {\n",
              "        text-align: right;\n",
              "    }\n",
              "</style>\n",
              "<table border=\"1\" class=\"dataframe\">\n",
              "  <thead>\n",
              "    <tr style=\"text-align: right;\">\n",
              "      <th></th>\n",
              "      <th>ID_Cliente</th>\n",
              "      <th>Mes_referencia</th>\n",
              "      <th>Faixa_atraso</th>\n",
              "      <th>Abertura</th>\n",
              "      <th>Final</th>\n",
              "      <th>Janela</th>\n",
              "      <th>MOB</th>\n",
              "      <th>Ind_Faixa_atraso</th>\n",
              "    </tr>\n",
              "  </thead>\n",
              "  <tbody>\n",
              "    <tr>\n",
              "      <th>0</th>\n",
              "      <td>5001711</td>\n",
              "      <td>0</td>\n",
              "      <td>nenhum empréstimo</td>\n",
              "      <td>-3</td>\n",
              "      <td>0</td>\n",
              "      <td>3</td>\n",
              "      <td>3</td>\n",
              "      <td>0</td>\n",
              "    </tr>\n",
              "    <tr>\n",
              "      <th>1</th>\n",
              "      <td>5001711</td>\n",
              "      <td>-1</td>\n",
              "      <td>1-29 dias</td>\n",
              "      <td>-3</td>\n",
              "      <td>0</td>\n",
              "      <td>3</td>\n",
              "      <td>2</td>\n",
              "      <td>2</td>\n",
              "    </tr>\n",
              "    <tr>\n",
              "      <th>2</th>\n",
              "      <td>5001711</td>\n",
              "      <td>-2</td>\n",
              "      <td>1-29 dias</td>\n",
              "      <td>-3</td>\n",
              "      <td>0</td>\n",
              "      <td>3</td>\n",
              "      <td>1</td>\n",
              "      <td>2</td>\n",
              "    </tr>\n",
              "    <tr>\n",
              "      <th>3</th>\n",
              "      <td>5001711</td>\n",
              "      <td>-3</td>\n",
              "      <td>1-29 dias</td>\n",
              "      <td>-3</td>\n",
              "      <td>0</td>\n",
              "      <td>3</td>\n",
              "      <td>0</td>\n",
              "      <td>2</td>\n",
              "    </tr>\n",
              "    <tr>\n",
              "      <th>4</th>\n",
              "      <td>5001712</td>\n",
              "      <td>0</td>\n",
              "      <td>pagamento realizado</td>\n",
              "      <td>-18</td>\n",
              "      <td>0</td>\n",
              "      <td>18</td>\n",
              "      <td>18</td>\n",
              "      <td>1</td>\n",
              "    </tr>\n",
              "  </tbody>\n",
              "</table>\n",
              "</div>"
            ]
          },
          "metadata": {},
          "execution_count": 48
        }
      ],
      "metadata": {
        "colab": {
          "base_uri": "https://localhost:8080/",
          "height": 204
        },
        "id": "EayOaDUmIcrM",
        "outputId": "4a58287f-a1bc-4f84-f16c-dca9acb038ed"
      }
    },
    {
      "cell_type": "code",
      "execution_count": null,
      "source": [
        "df_clientes_aprovados['Mau'] = df_clientes_aprovados.apply(lambda x: 1 if x['Ind_Faixa_atraso'] > 3 else 0, axis=1)\n",
        "df_clientes_aprovados.head()"
      ],
      "outputs": [
        {
          "output_type": "execute_result",
          "data": {
            "text/plain": [
              "   ID_Cliente  Mes_referencia         Faixa_atraso  ...  MOB  Ind_Faixa_atraso  Mau\n",
              "0     5001711               0    nenhum empréstimo  ...    3                 0    0\n",
              "1     5001711              -1            1-29 dias  ...    2                 2    0\n",
              "2     5001711              -2            1-29 dias  ...    1                 2    0\n",
              "3     5001711              -3            1-29 dias  ...    0                 2    0\n",
              "4     5001712               0  pagamento realizado  ...   18                 1    0\n",
              "\n",
              "[5 rows x 9 columns]"
            ],
            "text/html": [
              "<div>\n",
              "<style scoped>\n",
              "    .dataframe tbody tr th:only-of-type {\n",
              "        vertical-align: middle;\n",
              "    }\n",
              "\n",
              "    .dataframe tbody tr th {\n",
              "        vertical-align: top;\n",
              "    }\n",
              "\n",
              "    .dataframe thead th {\n",
              "        text-align: right;\n",
              "    }\n",
              "</style>\n",
              "<table border=\"1\" class=\"dataframe\">\n",
              "  <thead>\n",
              "    <tr style=\"text-align: right;\">\n",
              "      <th></th>\n",
              "      <th>ID_Cliente</th>\n",
              "      <th>Mes_referencia</th>\n",
              "      <th>Faixa_atraso</th>\n",
              "      <th>Abertura</th>\n",
              "      <th>Final</th>\n",
              "      <th>Janela</th>\n",
              "      <th>MOB</th>\n",
              "      <th>Ind_Faixa_atraso</th>\n",
              "      <th>Mau</th>\n",
              "    </tr>\n",
              "  </thead>\n",
              "  <tbody>\n",
              "    <tr>\n",
              "      <th>0</th>\n",
              "      <td>5001711</td>\n",
              "      <td>0</td>\n",
              "      <td>nenhum empréstimo</td>\n",
              "      <td>-3</td>\n",
              "      <td>0</td>\n",
              "      <td>3</td>\n",
              "      <td>3</td>\n",
              "      <td>0</td>\n",
              "      <td>0</td>\n",
              "    </tr>\n",
              "    <tr>\n",
              "      <th>1</th>\n",
              "      <td>5001711</td>\n",
              "      <td>-1</td>\n",
              "      <td>1-29 dias</td>\n",
              "      <td>-3</td>\n",
              "      <td>0</td>\n",
              "      <td>3</td>\n",
              "      <td>2</td>\n",
              "      <td>2</td>\n",
              "      <td>0</td>\n",
              "    </tr>\n",
              "    <tr>\n",
              "      <th>2</th>\n",
              "      <td>5001711</td>\n",
              "      <td>-2</td>\n",
              "      <td>1-29 dias</td>\n",
              "      <td>-3</td>\n",
              "      <td>0</td>\n",
              "      <td>3</td>\n",
              "      <td>1</td>\n",
              "      <td>2</td>\n",
              "      <td>0</td>\n",
              "    </tr>\n",
              "    <tr>\n",
              "      <th>3</th>\n",
              "      <td>5001711</td>\n",
              "      <td>-3</td>\n",
              "      <td>1-29 dias</td>\n",
              "      <td>-3</td>\n",
              "      <td>0</td>\n",
              "      <td>3</td>\n",
              "      <td>0</td>\n",
              "      <td>2</td>\n",
              "      <td>0</td>\n",
              "    </tr>\n",
              "    <tr>\n",
              "      <th>4</th>\n",
              "      <td>5001712</td>\n",
              "      <td>0</td>\n",
              "      <td>pagamento realizado</td>\n",
              "      <td>-18</td>\n",
              "      <td>0</td>\n",
              "      <td>18</td>\n",
              "      <td>18</td>\n",
              "      <td>1</td>\n",
              "      <td>0</td>\n",
              "    </tr>\n",
              "  </tbody>\n",
              "</table>\n",
              "</div>"
            ]
          },
          "metadata": {},
          "execution_count": 49
        }
      ],
      "metadata": {
        "colab": {
          "base_uri": "https://localhost:8080/",
          "height": 204
        },
        "id": "lXcoM_neLBbl",
        "outputId": "01162daf-59fa-4360-e08d-d6a42464152d"
      }
    },
    {
      "cell_type": "code",
      "execution_count": null,
      "source": [
        "df_registros_creditos_ID = df_clientes_aprovados[['ID_Cliente','Abertura', 'Final', 'Janela']].groupby('ID_Cliente').apply(lambda x: x.iloc[0]).reset_index(drop=True)\n",
        "df_registros_creditos_ID"
      ],
      "outputs": [
        {
          "output_type": "execute_result",
          "data": {
            "text/plain": [
              "       ID_Cliente  Abertura  Final  Janela\n",
              "0         5001711        -3      0       3\n",
              "1         5001712       -18      0      18\n",
              "2         5001713       -21      0      21\n",
              "3         5001714       -14      0      14\n",
              "4         5001715       -59      0      59\n",
              "...           ...       ...    ...     ...\n",
              "45980     5150482       -28    -11      17\n",
              "45981     5150483       -17      0      17\n",
              "45982     5150484       -12      0      12\n",
              "45983     5150485        -1      0       1\n",
              "45984     5150487       -29      0      29\n",
              "\n",
              "[45985 rows x 4 columns]"
            ],
            "text/html": [
              "<div>\n",
              "<style scoped>\n",
              "    .dataframe tbody tr th:only-of-type {\n",
              "        vertical-align: middle;\n",
              "    }\n",
              "\n",
              "    .dataframe tbody tr th {\n",
              "        vertical-align: top;\n",
              "    }\n",
              "\n",
              "    .dataframe thead th {\n",
              "        text-align: right;\n",
              "    }\n",
              "</style>\n",
              "<table border=\"1\" class=\"dataframe\">\n",
              "  <thead>\n",
              "    <tr style=\"text-align: right;\">\n",
              "      <th></th>\n",
              "      <th>ID_Cliente</th>\n",
              "      <th>Abertura</th>\n",
              "      <th>Final</th>\n",
              "      <th>Janela</th>\n",
              "    </tr>\n",
              "  </thead>\n",
              "  <tbody>\n",
              "    <tr>\n",
              "      <th>0</th>\n",
              "      <td>5001711</td>\n",
              "      <td>-3</td>\n",
              "      <td>0</td>\n",
              "      <td>3</td>\n",
              "    </tr>\n",
              "    <tr>\n",
              "      <th>1</th>\n",
              "      <td>5001712</td>\n",
              "      <td>-18</td>\n",
              "      <td>0</td>\n",
              "      <td>18</td>\n",
              "    </tr>\n",
              "    <tr>\n",
              "      <th>2</th>\n",
              "      <td>5001713</td>\n",
              "      <td>-21</td>\n",
              "      <td>0</td>\n",
              "      <td>21</td>\n",
              "    </tr>\n",
              "    <tr>\n",
              "      <th>3</th>\n",
              "      <td>5001714</td>\n",
              "      <td>-14</td>\n",
              "      <td>0</td>\n",
              "      <td>14</td>\n",
              "    </tr>\n",
              "    <tr>\n",
              "      <th>4</th>\n",
              "      <td>5001715</td>\n",
              "      <td>-59</td>\n",
              "      <td>0</td>\n",
              "      <td>59</td>\n",
              "    </tr>\n",
              "    <tr>\n",
              "      <th>...</th>\n",
              "      <td>...</td>\n",
              "      <td>...</td>\n",
              "      <td>...</td>\n",
              "      <td>...</td>\n",
              "    </tr>\n",
              "    <tr>\n",
              "      <th>45980</th>\n",
              "      <td>5150482</td>\n",
              "      <td>-28</td>\n",
              "      <td>-11</td>\n",
              "      <td>17</td>\n",
              "    </tr>\n",
              "    <tr>\n",
              "      <th>45981</th>\n",
              "      <td>5150483</td>\n",
              "      <td>-17</td>\n",
              "      <td>0</td>\n",
              "      <td>17</td>\n",
              "    </tr>\n",
              "    <tr>\n",
              "      <th>45982</th>\n",
              "      <td>5150484</td>\n",
              "      <td>-12</td>\n",
              "      <td>0</td>\n",
              "      <td>12</td>\n",
              "    </tr>\n",
              "    <tr>\n",
              "      <th>45983</th>\n",
              "      <td>5150485</td>\n",
              "      <td>-1</td>\n",
              "      <td>0</td>\n",
              "      <td>1</td>\n",
              "    </tr>\n",
              "    <tr>\n",
              "      <th>45984</th>\n",
              "      <td>5150487</td>\n",
              "      <td>-29</td>\n",
              "      <td>0</td>\n",
              "      <td>29</td>\n",
              "    </tr>\n",
              "  </tbody>\n",
              "</table>\n",
              "<p>45985 rows × 4 columns</p>\n",
              "</div>"
            ]
          },
          "metadata": {},
          "execution_count": 50
        }
      ],
      "metadata": {
        "colab": {
          "base_uri": "https://localhost:8080/",
          "height": 419
        },
        "id": "RDEPIzUgP178",
        "outputId": "23485e6f-79c0-428f-8020-ee07bd4f5865"
      }
    },
    {
      "cell_type": "code",
      "execution_count": null,
      "source": [
        "df_denominador = df_registros_creditos_ID.groupby('Abertura').apply(lambda X: X['ID_Cliente'].count()).reset_index()\n",
        "df_denominador.columns = ['Abertura','Qtd_Clientes']\n",
        "df_denominador"
      ],
      "outputs": [
        {
          "output_type": "execute_result",
          "data": {
            "text/plain": [
              "    Abertura  Qtd_Clientes\n",
              "0        -60           415\n",
              "1        -59           406\n",
              "2        -58           440\n",
              "3        -57           400\n",
              "4        -56           470\n",
              "..       ...           ...\n",
              "56        -4           874\n",
              "57        -3           919\n",
              "58        -2           771\n",
              "59        -1           686\n",
              "60         0           370\n",
              "\n",
              "[61 rows x 2 columns]"
            ],
            "text/html": [
              "<div>\n",
              "<style scoped>\n",
              "    .dataframe tbody tr th:only-of-type {\n",
              "        vertical-align: middle;\n",
              "    }\n",
              "\n",
              "    .dataframe tbody tr th {\n",
              "        vertical-align: top;\n",
              "    }\n",
              "\n",
              "    .dataframe thead th {\n",
              "        text-align: right;\n",
              "    }\n",
              "</style>\n",
              "<table border=\"1\" class=\"dataframe\">\n",
              "  <thead>\n",
              "    <tr style=\"text-align: right;\">\n",
              "      <th></th>\n",
              "      <th>Abertura</th>\n",
              "      <th>Qtd_Clientes</th>\n",
              "    </tr>\n",
              "  </thead>\n",
              "  <tbody>\n",
              "    <tr>\n",
              "      <th>0</th>\n",
              "      <td>-60</td>\n",
              "      <td>415</td>\n",
              "    </tr>\n",
              "    <tr>\n",
              "      <th>1</th>\n",
              "      <td>-59</td>\n",
              "      <td>406</td>\n",
              "    </tr>\n",
              "    <tr>\n",
              "      <th>2</th>\n",
              "      <td>-58</td>\n",
              "      <td>440</td>\n",
              "    </tr>\n",
              "    <tr>\n",
              "      <th>3</th>\n",
              "      <td>-57</td>\n",
              "      <td>400</td>\n",
              "    </tr>\n",
              "    <tr>\n",
              "      <th>4</th>\n",
              "      <td>-56</td>\n",
              "      <td>470</td>\n",
              "    </tr>\n",
              "    <tr>\n",
              "      <th>...</th>\n",
              "      <td>...</td>\n",
              "      <td>...</td>\n",
              "    </tr>\n",
              "    <tr>\n",
              "      <th>56</th>\n",
              "      <td>-4</td>\n",
              "      <td>874</td>\n",
              "    </tr>\n",
              "    <tr>\n",
              "      <th>57</th>\n",
              "      <td>-3</td>\n",
              "      <td>919</td>\n",
              "    </tr>\n",
              "    <tr>\n",
              "      <th>58</th>\n",
              "      <td>-2</td>\n",
              "      <td>771</td>\n",
              "    </tr>\n",
              "    <tr>\n",
              "      <th>59</th>\n",
              "      <td>-1</td>\n",
              "      <td>686</td>\n",
              "    </tr>\n",
              "    <tr>\n",
              "      <th>60</th>\n",
              "      <td>0</td>\n",
              "      <td>370</td>\n",
              "    </tr>\n",
              "  </tbody>\n",
              "</table>\n",
              "<p>61 rows × 2 columns</p>\n",
              "</div>"
            ]
          },
          "metadata": {},
          "execution_count": 51
        }
      ],
      "metadata": {
        "colab": {
          "base_uri": "https://localhost:8080/",
          "height": 419
        },
        "id": "so5Wo18VQkUz",
        "outputId": "0063447e-66bf-4879-d666-22af4b4884b7"
      }
    },
    {
      "cell_type": "code",
      "execution_count": null,
      "source": [
        "df_vintage = df_clientes_aprovados.groupby(['Abertura','MOB']).apply(lambda X: X['ID_Cliente'].count()).reset_index()\n",
        "df_vintage.columns = ['Abertura','MOB','Qtd_Clientes']\n",
        "df_vintage"
      ],
      "outputs": [
        {
          "output_type": "execute_result",
          "data": {
            "text/plain": [
              "      Abertura  MOB  Qtd_Clientes\n",
              "0          -60    0           415\n",
              "1          -60    1           414\n",
              "2          -60    2           410\n",
              "3          -60    3           408\n",
              "4          -60    4           403\n",
              "...        ...  ...           ...\n",
              "1886        -2    1           770\n",
              "1887        -2    2           750\n",
              "1888        -1    0           686\n",
              "1889        -1    1           682\n",
              "1890         0    0           370\n",
              "\n",
              "[1891 rows x 3 columns]"
            ],
            "text/html": [
              "<div>\n",
              "<style scoped>\n",
              "    .dataframe tbody tr th:only-of-type {\n",
              "        vertical-align: middle;\n",
              "    }\n",
              "\n",
              "    .dataframe tbody tr th {\n",
              "        vertical-align: top;\n",
              "    }\n",
              "\n",
              "    .dataframe thead th {\n",
              "        text-align: right;\n",
              "    }\n",
              "</style>\n",
              "<table border=\"1\" class=\"dataframe\">\n",
              "  <thead>\n",
              "    <tr style=\"text-align: right;\">\n",
              "      <th></th>\n",
              "      <th>Abertura</th>\n",
              "      <th>MOB</th>\n",
              "      <th>Qtd_Clientes</th>\n",
              "    </tr>\n",
              "  </thead>\n",
              "  <tbody>\n",
              "    <tr>\n",
              "      <th>0</th>\n",
              "      <td>-60</td>\n",
              "      <td>0</td>\n",
              "      <td>415</td>\n",
              "    </tr>\n",
              "    <tr>\n",
              "      <th>1</th>\n",
              "      <td>-60</td>\n",
              "      <td>1</td>\n",
              "      <td>414</td>\n",
              "    </tr>\n",
              "    <tr>\n",
              "      <th>2</th>\n",
              "      <td>-60</td>\n",
              "      <td>2</td>\n",
              "      <td>410</td>\n",
              "    </tr>\n",
              "    <tr>\n",
              "      <th>3</th>\n",
              "      <td>-60</td>\n",
              "      <td>3</td>\n",
              "      <td>408</td>\n",
              "    </tr>\n",
              "    <tr>\n",
              "      <th>4</th>\n",
              "      <td>-60</td>\n",
              "      <td>4</td>\n",
              "      <td>403</td>\n",
              "    </tr>\n",
              "    <tr>\n",
              "      <th>...</th>\n",
              "      <td>...</td>\n",
              "      <td>...</td>\n",
              "      <td>...</td>\n",
              "    </tr>\n",
              "    <tr>\n",
              "      <th>1886</th>\n",
              "      <td>-2</td>\n",
              "      <td>1</td>\n",
              "      <td>770</td>\n",
              "    </tr>\n",
              "    <tr>\n",
              "      <th>1887</th>\n",
              "      <td>-2</td>\n",
              "      <td>2</td>\n",
              "      <td>750</td>\n",
              "    </tr>\n",
              "    <tr>\n",
              "      <th>1888</th>\n",
              "      <td>-1</td>\n",
              "      <td>0</td>\n",
              "      <td>686</td>\n",
              "    </tr>\n",
              "    <tr>\n",
              "      <th>1889</th>\n",
              "      <td>-1</td>\n",
              "      <td>1</td>\n",
              "      <td>682</td>\n",
              "    </tr>\n",
              "    <tr>\n",
              "      <th>1890</th>\n",
              "      <td>0</td>\n",
              "      <td>0</td>\n",
              "      <td>370</td>\n",
              "    </tr>\n",
              "  </tbody>\n",
              "</table>\n",
              "<p>1891 rows × 3 columns</p>\n",
              "</div>"
            ]
          },
          "metadata": {},
          "execution_count": 52
        }
      ],
      "metadata": {
        "colab": {
          "base_uri": "https://localhost:8080/",
          "height": 419
        },
        "id": "GZsQz7xNRLBx",
        "outputId": "99dd9a33-705f-446a-b519-1f55ef76c30b"
      }
    },
    {
      "cell_type": "code",
      "execution_count": null,
      "source": [
        "df_vintage = pd.merge(df_vintage[['Abertura','MOB']], df_denominador, on = ['Abertura'], how = 'left')\n",
        "df_vintage"
      ],
      "outputs": [
        {
          "output_type": "execute_result",
          "data": {
            "text/plain": [
              "      Abertura  MOB  Qtd_Clientes\n",
              "0          -60    0           415\n",
              "1          -60    1           415\n",
              "2          -60    2           415\n",
              "3          -60    3           415\n",
              "4          -60    4           415\n",
              "...        ...  ...           ...\n",
              "1886        -2    1           771\n",
              "1887        -2    2           771\n",
              "1888        -1    0           686\n",
              "1889        -1    1           686\n",
              "1890         0    0           370\n",
              "\n",
              "[1891 rows x 3 columns]"
            ],
            "text/html": [
              "<div>\n",
              "<style scoped>\n",
              "    .dataframe tbody tr th:only-of-type {\n",
              "        vertical-align: middle;\n",
              "    }\n",
              "\n",
              "    .dataframe tbody tr th {\n",
              "        vertical-align: top;\n",
              "    }\n",
              "\n",
              "    .dataframe thead th {\n",
              "        text-align: right;\n",
              "    }\n",
              "</style>\n",
              "<table border=\"1\" class=\"dataframe\">\n",
              "  <thead>\n",
              "    <tr style=\"text-align: right;\">\n",
              "      <th></th>\n",
              "      <th>Abertura</th>\n",
              "      <th>MOB</th>\n",
              "      <th>Qtd_Clientes</th>\n",
              "    </tr>\n",
              "  </thead>\n",
              "  <tbody>\n",
              "    <tr>\n",
              "      <th>0</th>\n",
              "      <td>-60</td>\n",
              "      <td>0</td>\n",
              "      <td>415</td>\n",
              "    </tr>\n",
              "    <tr>\n",
              "      <th>1</th>\n",
              "      <td>-60</td>\n",
              "      <td>1</td>\n",
              "      <td>415</td>\n",
              "    </tr>\n",
              "    <tr>\n",
              "      <th>2</th>\n",
              "      <td>-60</td>\n",
              "      <td>2</td>\n",
              "      <td>415</td>\n",
              "    </tr>\n",
              "    <tr>\n",
              "      <th>3</th>\n",
              "      <td>-60</td>\n",
              "      <td>3</td>\n",
              "      <td>415</td>\n",
              "    </tr>\n",
              "    <tr>\n",
              "      <th>4</th>\n",
              "      <td>-60</td>\n",
              "      <td>4</td>\n",
              "      <td>415</td>\n",
              "    </tr>\n",
              "    <tr>\n",
              "      <th>...</th>\n",
              "      <td>...</td>\n",
              "      <td>...</td>\n",
              "      <td>...</td>\n",
              "    </tr>\n",
              "    <tr>\n",
              "      <th>1886</th>\n",
              "      <td>-2</td>\n",
              "      <td>1</td>\n",
              "      <td>771</td>\n",
              "    </tr>\n",
              "    <tr>\n",
              "      <th>1887</th>\n",
              "      <td>-2</td>\n",
              "      <td>2</td>\n",
              "      <td>771</td>\n",
              "    </tr>\n",
              "    <tr>\n",
              "      <th>1888</th>\n",
              "      <td>-1</td>\n",
              "      <td>0</td>\n",
              "      <td>686</td>\n",
              "    </tr>\n",
              "    <tr>\n",
              "      <th>1889</th>\n",
              "      <td>-1</td>\n",
              "      <td>1</td>\n",
              "      <td>686</td>\n",
              "    </tr>\n",
              "    <tr>\n",
              "      <th>1890</th>\n",
              "      <td>0</td>\n",
              "      <td>0</td>\n",
              "      <td>370</td>\n",
              "    </tr>\n",
              "  </tbody>\n",
              "</table>\n",
              "<p>1891 rows × 3 columns</p>\n",
              "</div>"
            ]
          },
          "metadata": {},
          "execution_count": 53
        }
      ],
      "metadata": {
        "colab": {
          "base_uri": "https://localhost:8080/",
          "height": 419
        },
        "id": "29qKKKhNSALm",
        "outputId": "4e4a8bd1-6043-457f-c702-4a3b5b915ef8"
      }
    },
    {
      "cell_type": "code",
      "execution_count": null,
      "source": [
        "import numpy as np"
      ],
      "outputs": [],
      "metadata": {
        "id": "3xP87KwCSZ4U"
      }
    },
    {
      "cell_type": "code",
      "execution_count": null,
      "source": [
        "df_vintage['Qtd_Mau'] = np.nan\n",
        "\n",
        "for j in range(-60,1):\n",
        "    ls = []\n",
        "    for i in range(0,61):\n",
        "        due = list(df_clientes_aprovados.query('Mau == 1 and MOB == @i and Abertura == @j')['ID_Cliente'])\n",
        "        ls.extend(due)\n",
        "        df_vintage.loc[(df_vintage['MOB'] == i) & (df_vintage['Abertura'] == j), 'Qtd_Mau'] = len(set(ls))\n",
        "        \n",
        "df_vintage['Taxa_de_Mau']  = df_vintage['Qtd_Mau'] / df_vintage['Qtd_Clientes']\n",
        "df_vintage      "
      ],
      "outputs": [
        {
          "output_type": "execute_result",
          "data": {
            "text/plain": [
              "      Abertura  MOB  Qtd_Clientes  Qtd_Mau  Taxa_de_Mau\n",
              "0          -60    0           415      0.0     0.000000\n",
              "1          -60    1           415      0.0     0.000000\n",
              "2          -60    2           415      0.0     0.000000\n",
              "3          -60    3           415      0.0     0.000000\n",
              "4          -60    4           415      0.0     0.000000\n",
              "...        ...  ...           ...      ...          ...\n",
              "1886        -2    1           771      0.0     0.000000\n",
              "1887        -2    2           771      1.0     0.001297\n",
              "1888        -1    0           686      0.0     0.000000\n",
              "1889        -1    1           686      0.0     0.000000\n",
              "1890         0    0           370      0.0     0.000000\n",
              "\n",
              "[1891 rows x 5 columns]"
            ],
            "text/html": [
              "<div>\n",
              "<style scoped>\n",
              "    .dataframe tbody tr th:only-of-type {\n",
              "        vertical-align: middle;\n",
              "    }\n",
              "\n",
              "    .dataframe tbody tr th {\n",
              "        vertical-align: top;\n",
              "    }\n",
              "\n",
              "    .dataframe thead th {\n",
              "        text-align: right;\n",
              "    }\n",
              "</style>\n",
              "<table border=\"1\" class=\"dataframe\">\n",
              "  <thead>\n",
              "    <tr style=\"text-align: right;\">\n",
              "      <th></th>\n",
              "      <th>Abertura</th>\n",
              "      <th>MOB</th>\n",
              "      <th>Qtd_Clientes</th>\n",
              "      <th>Qtd_Mau</th>\n",
              "      <th>Taxa_de_Mau</th>\n",
              "    </tr>\n",
              "  </thead>\n",
              "  <tbody>\n",
              "    <tr>\n",
              "      <th>0</th>\n",
              "      <td>-60</td>\n",
              "      <td>0</td>\n",
              "      <td>415</td>\n",
              "      <td>0.0</td>\n",
              "      <td>0.000000</td>\n",
              "    </tr>\n",
              "    <tr>\n",
              "      <th>1</th>\n",
              "      <td>-60</td>\n",
              "      <td>1</td>\n",
              "      <td>415</td>\n",
              "      <td>0.0</td>\n",
              "      <td>0.000000</td>\n",
              "    </tr>\n",
              "    <tr>\n",
              "      <th>2</th>\n",
              "      <td>-60</td>\n",
              "      <td>2</td>\n",
              "      <td>415</td>\n",
              "      <td>0.0</td>\n",
              "      <td>0.000000</td>\n",
              "    </tr>\n",
              "    <tr>\n",
              "      <th>3</th>\n",
              "      <td>-60</td>\n",
              "      <td>3</td>\n",
              "      <td>415</td>\n",
              "      <td>0.0</td>\n",
              "      <td>0.000000</td>\n",
              "    </tr>\n",
              "    <tr>\n",
              "      <th>4</th>\n",
              "      <td>-60</td>\n",
              "      <td>4</td>\n",
              "      <td>415</td>\n",
              "      <td>0.0</td>\n",
              "      <td>0.000000</td>\n",
              "    </tr>\n",
              "    <tr>\n",
              "      <th>...</th>\n",
              "      <td>...</td>\n",
              "      <td>...</td>\n",
              "      <td>...</td>\n",
              "      <td>...</td>\n",
              "      <td>...</td>\n",
              "    </tr>\n",
              "    <tr>\n",
              "      <th>1886</th>\n",
              "      <td>-2</td>\n",
              "      <td>1</td>\n",
              "      <td>771</td>\n",
              "      <td>0.0</td>\n",
              "      <td>0.000000</td>\n",
              "    </tr>\n",
              "    <tr>\n",
              "      <th>1887</th>\n",
              "      <td>-2</td>\n",
              "      <td>2</td>\n",
              "      <td>771</td>\n",
              "      <td>1.0</td>\n",
              "      <td>0.001297</td>\n",
              "    </tr>\n",
              "    <tr>\n",
              "      <th>1888</th>\n",
              "      <td>-1</td>\n",
              "      <td>0</td>\n",
              "      <td>686</td>\n",
              "      <td>0.0</td>\n",
              "      <td>0.000000</td>\n",
              "    </tr>\n",
              "    <tr>\n",
              "      <th>1889</th>\n",
              "      <td>-1</td>\n",
              "      <td>1</td>\n",
              "      <td>686</td>\n",
              "      <td>0.0</td>\n",
              "      <td>0.000000</td>\n",
              "    </tr>\n",
              "    <tr>\n",
              "      <th>1890</th>\n",
              "      <td>0</td>\n",
              "      <td>0</td>\n",
              "      <td>370</td>\n",
              "      <td>0.0</td>\n",
              "      <td>0.000000</td>\n",
              "    </tr>\n",
              "  </tbody>\n",
              "</table>\n",
              "<p>1891 rows × 5 columns</p>\n",
              "</div>"
            ]
          },
          "metadata": {},
          "execution_count": 55
        }
      ],
      "metadata": {
        "colab": {
          "base_uri": "https://localhost:8080/",
          "height": 419
        },
        "id": "x7eztgOZScEU",
        "outputId": "cc82e590-c9b9-424c-a140-f955a068c9fb"
      }
    },
    {
      "cell_type": "code",
      "execution_count": null,
      "source": [
        "df_vintage_pivot = df_vintage.pivot(index = 'Abertura',\n",
        "                             columns = 'MOB',\n",
        "                             values = 'Taxa_de_Mau')\n",
        "\n",
        "df_vintage_pivot"
      ],
      "outputs": [
        {
          "output_type": "execute_result",
          "data": {
            "text/plain": [
              "MOB        0    1         2         3   ...        57        58        59        60\n",
              "Abertura                                ...                                        \n",
              "-60       0.0  0.0  0.000000  0.000000  ...  0.028916  0.031325  0.031325  0.031325\n",
              "-59       0.0  0.0  0.000000  0.004926  ...  0.032020  0.032020  0.032020       NaN\n",
              "-58       0.0  0.0  0.000000  0.000000  ...  0.025000  0.025000       NaN       NaN\n",
              "-57       0.0  0.0  0.000000  0.000000  ...  0.025000       NaN       NaN       NaN\n",
              "-56       0.0  0.0  0.004255  0.004255  ...       NaN       NaN       NaN       NaN\n",
              "...       ...  ...       ...       ...  ...       ...       ...       ...       ...\n",
              "-4        0.0  0.0  0.000000  0.003432  ...       NaN       NaN       NaN       NaN\n",
              "-3        0.0  0.0  0.001088  0.001088  ...       NaN       NaN       NaN       NaN\n",
              "-2        0.0  0.0  0.001297       NaN  ...       NaN       NaN       NaN       NaN\n",
              "-1        0.0  0.0       NaN       NaN  ...       NaN       NaN       NaN       NaN\n",
              " 0        0.0  NaN       NaN       NaN  ...       NaN       NaN       NaN       NaN\n",
              "\n",
              "[61 rows x 61 columns]"
            ],
            "text/html": [
              "<div>\n",
              "<style scoped>\n",
              "    .dataframe tbody tr th:only-of-type {\n",
              "        vertical-align: middle;\n",
              "    }\n",
              "\n",
              "    .dataframe tbody tr th {\n",
              "        vertical-align: top;\n",
              "    }\n",
              "\n",
              "    .dataframe thead th {\n",
              "        text-align: right;\n",
              "    }\n",
              "</style>\n",
              "<table border=\"1\" class=\"dataframe\">\n",
              "  <thead>\n",
              "    <tr style=\"text-align: right;\">\n",
              "      <th>MOB</th>\n",
              "      <th>0</th>\n",
              "      <th>1</th>\n",
              "      <th>2</th>\n",
              "      <th>3</th>\n",
              "      <th>4</th>\n",
              "      <th>5</th>\n",
              "      <th>6</th>\n",
              "      <th>7</th>\n",
              "      <th>8</th>\n",
              "      <th>9</th>\n",
              "      <th>10</th>\n",
              "      <th>11</th>\n",
              "      <th>12</th>\n",
              "      <th>13</th>\n",
              "      <th>14</th>\n",
              "      <th>15</th>\n",
              "      <th>16</th>\n",
              "      <th>17</th>\n",
              "      <th>18</th>\n",
              "      <th>19</th>\n",
              "      <th>20</th>\n",
              "      <th>21</th>\n",
              "      <th>22</th>\n",
              "      <th>23</th>\n",
              "      <th>24</th>\n",
              "      <th>25</th>\n",
              "      <th>26</th>\n",
              "      <th>27</th>\n",
              "      <th>28</th>\n",
              "      <th>29</th>\n",
              "      <th>30</th>\n",
              "      <th>31</th>\n",
              "      <th>32</th>\n",
              "      <th>33</th>\n",
              "      <th>34</th>\n",
              "      <th>35</th>\n",
              "      <th>36</th>\n",
              "      <th>37</th>\n",
              "      <th>38</th>\n",
              "      <th>39</th>\n",
              "      <th>40</th>\n",
              "      <th>41</th>\n",
              "      <th>42</th>\n",
              "      <th>43</th>\n",
              "      <th>44</th>\n",
              "      <th>45</th>\n",
              "      <th>46</th>\n",
              "      <th>47</th>\n",
              "      <th>48</th>\n",
              "      <th>49</th>\n",
              "      <th>50</th>\n",
              "      <th>51</th>\n",
              "      <th>52</th>\n",
              "      <th>53</th>\n",
              "      <th>54</th>\n",
              "      <th>55</th>\n",
              "      <th>56</th>\n",
              "      <th>57</th>\n",
              "      <th>58</th>\n",
              "      <th>59</th>\n",
              "      <th>60</th>\n",
              "    </tr>\n",
              "    <tr>\n",
              "      <th>Abertura</th>\n",
              "      <th></th>\n",
              "      <th></th>\n",
              "      <th></th>\n",
              "      <th></th>\n",
              "      <th></th>\n",
              "      <th></th>\n",
              "      <th></th>\n",
              "      <th></th>\n",
              "      <th></th>\n",
              "      <th></th>\n",
              "      <th></th>\n",
              "      <th></th>\n",
              "      <th></th>\n",
              "      <th></th>\n",
              "      <th></th>\n",
              "      <th></th>\n",
              "      <th></th>\n",
              "      <th></th>\n",
              "      <th></th>\n",
              "      <th></th>\n",
              "      <th></th>\n",
              "      <th></th>\n",
              "      <th></th>\n",
              "      <th></th>\n",
              "      <th></th>\n",
              "      <th></th>\n",
              "      <th></th>\n",
              "      <th></th>\n",
              "      <th></th>\n",
              "      <th></th>\n",
              "      <th></th>\n",
              "      <th></th>\n",
              "      <th></th>\n",
              "      <th></th>\n",
              "      <th></th>\n",
              "      <th></th>\n",
              "      <th></th>\n",
              "      <th></th>\n",
              "      <th></th>\n",
              "      <th></th>\n",
              "      <th></th>\n",
              "      <th></th>\n",
              "      <th></th>\n",
              "      <th></th>\n",
              "      <th></th>\n",
              "      <th></th>\n",
              "      <th></th>\n",
              "      <th></th>\n",
              "      <th></th>\n",
              "      <th></th>\n",
              "      <th></th>\n",
              "      <th></th>\n",
              "      <th></th>\n",
              "      <th></th>\n",
              "      <th></th>\n",
              "      <th></th>\n",
              "      <th></th>\n",
              "      <th></th>\n",
              "      <th></th>\n",
              "      <th></th>\n",
              "      <th></th>\n",
              "    </tr>\n",
              "  </thead>\n",
              "  <tbody>\n",
              "    <tr>\n",
              "      <th>-60</th>\n",
              "      <td>0.0</td>\n",
              "      <td>0.0</td>\n",
              "      <td>0.000000</td>\n",
              "      <td>0.000000</td>\n",
              "      <td>0.000000</td>\n",
              "      <td>0.002410</td>\n",
              "      <td>0.002410</td>\n",
              "      <td>0.007229</td>\n",
              "      <td>0.007229</td>\n",
              "      <td>0.009639</td>\n",
              "      <td>0.009639</td>\n",
              "      <td>0.012048</td>\n",
              "      <td>0.014458</td>\n",
              "      <td>0.016867</td>\n",
              "      <td>0.016867</td>\n",
              "      <td>0.016867</td>\n",
              "      <td>0.016867</td>\n",
              "      <td>0.016867</td>\n",
              "      <td>0.016867</td>\n",
              "      <td>0.016867</td>\n",
              "      <td>0.016867</td>\n",
              "      <td>0.019277</td>\n",
              "      <td>0.019277</td>\n",
              "      <td>0.019277</td>\n",
              "      <td>0.019277</td>\n",
              "      <td>0.021687</td>\n",
              "      <td>0.021687</td>\n",
              "      <td>0.021687</td>\n",
              "      <td>0.021687</td>\n",
              "      <td>0.024096</td>\n",
              "      <td>0.026506</td>\n",
              "      <td>0.026506</td>\n",
              "      <td>0.026506</td>\n",
              "      <td>0.026506</td>\n",
              "      <td>0.026506</td>\n",
              "      <td>0.026506</td>\n",
              "      <td>0.026506</td>\n",
              "      <td>0.026506</td>\n",
              "      <td>0.026506</td>\n",
              "      <td>0.026506</td>\n",
              "      <td>0.026506</td>\n",
              "      <td>0.026506</td>\n",
              "      <td>0.026506</td>\n",
              "      <td>0.026506</td>\n",
              "      <td>0.026506</td>\n",
              "      <td>0.026506</td>\n",
              "      <td>0.026506</td>\n",
              "      <td>0.026506</td>\n",
              "      <td>0.026506</td>\n",
              "      <td>0.026506</td>\n",
              "      <td>0.028916</td>\n",
              "      <td>0.028916</td>\n",
              "      <td>0.028916</td>\n",
              "      <td>0.028916</td>\n",
              "      <td>0.028916</td>\n",
              "      <td>0.028916</td>\n",
              "      <td>0.028916</td>\n",
              "      <td>0.028916</td>\n",
              "      <td>0.031325</td>\n",
              "      <td>0.031325</td>\n",
              "      <td>0.031325</td>\n",
              "    </tr>\n",
              "    <tr>\n",
              "      <th>-59</th>\n",
              "      <td>0.0</td>\n",
              "      <td>0.0</td>\n",
              "      <td>0.000000</td>\n",
              "      <td>0.004926</td>\n",
              "      <td>0.004926</td>\n",
              "      <td>0.004926</td>\n",
              "      <td>0.007389</td>\n",
              "      <td>0.007389</td>\n",
              "      <td>0.007389</td>\n",
              "      <td>0.012315</td>\n",
              "      <td>0.012315</td>\n",
              "      <td>0.019704</td>\n",
              "      <td>0.019704</td>\n",
              "      <td>0.019704</td>\n",
              "      <td>0.019704</td>\n",
              "      <td>0.019704</td>\n",
              "      <td>0.019704</td>\n",
              "      <td>0.019704</td>\n",
              "      <td>0.022167</td>\n",
              "      <td>0.024631</td>\n",
              "      <td>0.024631</td>\n",
              "      <td>0.027094</td>\n",
              "      <td>0.027094</td>\n",
              "      <td>0.027094</td>\n",
              "      <td>0.027094</td>\n",
              "      <td>0.029557</td>\n",
              "      <td>0.029557</td>\n",
              "      <td>0.029557</td>\n",
              "      <td>0.029557</td>\n",
              "      <td>0.029557</td>\n",
              "      <td>0.029557</td>\n",
              "      <td>0.029557</td>\n",
              "      <td>0.029557</td>\n",
              "      <td>0.029557</td>\n",
              "      <td>0.029557</td>\n",
              "      <td>0.029557</td>\n",
              "      <td>0.029557</td>\n",
              "      <td>0.029557</td>\n",
              "      <td>0.029557</td>\n",
              "      <td>0.029557</td>\n",
              "      <td>0.029557</td>\n",
              "      <td>0.029557</td>\n",
              "      <td>0.029557</td>\n",
              "      <td>0.029557</td>\n",
              "      <td>0.029557</td>\n",
              "      <td>0.029557</td>\n",
              "      <td>0.029557</td>\n",
              "      <td>0.029557</td>\n",
              "      <td>0.029557</td>\n",
              "      <td>0.029557</td>\n",
              "      <td>0.029557</td>\n",
              "      <td>0.029557</td>\n",
              "      <td>0.029557</td>\n",
              "      <td>0.029557</td>\n",
              "      <td>0.032020</td>\n",
              "      <td>0.032020</td>\n",
              "      <td>0.032020</td>\n",
              "      <td>0.032020</td>\n",
              "      <td>0.032020</td>\n",
              "      <td>0.032020</td>\n",
              "      <td>NaN</td>\n",
              "    </tr>\n",
              "    <tr>\n",
              "      <th>-58</th>\n",
              "      <td>0.0</td>\n",
              "      <td>0.0</td>\n",
              "      <td>0.000000</td>\n",
              "      <td>0.000000</td>\n",
              "      <td>0.000000</td>\n",
              "      <td>0.000000</td>\n",
              "      <td>0.000000</td>\n",
              "      <td>0.004545</td>\n",
              "      <td>0.006818</td>\n",
              "      <td>0.006818</td>\n",
              "      <td>0.011364</td>\n",
              "      <td>0.013636</td>\n",
              "      <td>0.013636</td>\n",
              "      <td>0.013636</td>\n",
              "      <td>0.013636</td>\n",
              "      <td>0.013636</td>\n",
              "      <td>0.013636</td>\n",
              "      <td>0.015909</td>\n",
              "      <td>0.018182</td>\n",
              "      <td>0.018182</td>\n",
              "      <td>0.018182</td>\n",
              "      <td>0.022727</td>\n",
              "      <td>0.022727</td>\n",
              "      <td>0.022727</td>\n",
              "      <td>0.022727</td>\n",
              "      <td>0.022727</td>\n",
              "      <td>0.022727</td>\n",
              "      <td>0.022727</td>\n",
              "      <td>0.022727</td>\n",
              "      <td>0.022727</td>\n",
              "      <td>0.022727</td>\n",
              "      <td>0.022727</td>\n",
              "      <td>0.022727</td>\n",
              "      <td>0.022727</td>\n",
              "      <td>0.025000</td>\n",
              "      <td>0.025000</td>\n",
              "      <td>0.025000</td>\n",
              "      <td>0.025000</td>\n",
              "      <td>0.025000</td>\n",
              "      <td>0.025000</td>\n",
              "      <td>0.025000</td>\n",
              "      <td>0.025000</td>\n",
              "      <td>0.025000</td>\n",
              "      <td>0.025000</td>\n",
              "      <td>0.025000</td>\n",
              "      <td>0.025000</td>\n",
              "      <td>0.025000</td>\n",
              "      <td>0.025000</td>\n",
              "      <td>0.025000</td>\n",
              "      <td>0.025000</td>\n",
              "      <td>0.025000</td>\n",
              "      <td>0.025000</td>\n",
              "      <td>0.025000</td>\n",
              "      <td>0.025000</td>\n",
              "      <td>0.025000</td>\n",
              "      <td>0.025000</td>\n",
              "      <td>0.025000</td>\n",
              "      <td>0.025000</td>\n",
              "      <td>0.025000</td>\n",
              "      <td>NaN</td>\n",
              "      <td>NaN</td>\n",
              "    </tr>\n",
              "    <tr>\n",
              "      <th>-57</th>\n",
              "      <td>0.0</td>\n",
              "      <td>0.0</td>\n",
              "      <td>0.000000</td>\n",
              "      <td>0.000000</td>\n",
              "      <td>0.002500</td>\n",
              "      <td>0.002500</td>\n",
              "      <td>0.002500</td>\n",
              "      <td>0.007500</td>\n",
              "      <td>0.007500</td>\n",
              "      <td>0.007500</td>\n",
              "      <td>0.007500</td>\n",
              "      <td>0.007500</td>\n",
              "      <td>0.010000</td>\n",
              "      <td>0.017500</td>\n",
              "      <td>0.017500</td>\n",
              "      <td>0.017500</td>\n",
              "      <td>0.017500</td>\n",
              "      <td>0.017500</td>\n",
              "      <td>0.017500</td>\n",
              "      <td>0.017500</td>\n",
              "      <td>0.017500</td>\n",
              "      <td>0.017500</td>\n",
              "      <td>0.017500</td>\n",
              "      <td>0.017500</td>\n",
              "      <td>0.020000</td>\n",
              "      <td>0.020000</td>\n",
              "      <td>0.020000</td>\n",
              "      <td>0.020000</td>\n",
              "      <td>0.020000</td>\n",
              "      <td>0.020000</td>\n",
              "      <td>0.020000</td>\n",
              "      <td>0.020000</td>\n",
              "      <td>0.020000</td>\n",
              "      <td>0.020000</td>\n",
              "      <td>0.020000</td>\n",
              "      <td>0.022500</td>\n",
              "      <td>0.022500</td>\n",
              "      <td>0.022500</td>\n",
              "      <td>0.022500</td>\n",
              "      <td>0.022500</td>\n",
              "      <td>0.022500</td>\n",
              "      <td>0.025000</td>\n",
              "      <td>0.025000</td>\n",
              "      <td>0.025000</td>\n",
              "      <td>0.025000</td>\n",
              "      <td>0.025000</td>\n",
              "      <td>0.025000</td>\n",
              "      <td>0.025000</td>\n",
              "      <td>0.025000</td>\n",
              "      <td>0.025000</td>\n",
              "      <td>0.025000</td>\n",
              "      <td>0.025000</td>\n",
              "      <td>0.025000</td>\n",
              "      <td>0.025000</td>\n",
              "      <td>0.025000</td>\n",
              "      <td>0.025000</td>\n",
              "      <td>0.025000</td>\n",
              "      <td>0.025000</td>\n",
              "      <td>NaN</td>\n",
              "      <td>NaN</td>\n",
              "      <td>NaN</td>\n",
              "    </tr>\n",
              "    <tr>\n",
              "      <th>-56</th>\n",
              "      <td>0.0</td>\n",
              "      <td>0.0</td>\n",
              "      <td>0.004255</td>\n",
              "      <td>0.004255</td>\n",
              "      <td>0.008511</td>\n",
              "      <td>0.010638</td>\n",
              "      <td>0.010638</td>\n",
              "      <td>0.017021</td>\n",
              "      <td>0.017021</td>\n",
              "      <td>0.021277</td>\n",
              "      <td>0.021277</td>\n",
              "      <td>0.025532</td>\n",
              "      <td>0.029787</td>\n",
              "      <td>0.034043</td>\n",
              "      <td>0.034043</td>\n",
              "      <td>0.034043</td>\n",
              "      <td>0.034043</td>\n",
              "      <td>0.034043</td>\n",
              "      <td>0.034043</td>\n",
              "      <td>0.034043</td>\n",
              "      <td>0.034043</td>\n",
              "      <td>0.034043</td>\n",
              "      <td>0.034043</td>\n",
              "      <td>0.034043</td>\n",
              "      <td>0.034043</td>\n",
              "      <td>0.034043</td>\n",
              "      <td>0.034043</td>\n",
              "      <td>0.034043</td>\n",
              "      <td>0.034043</td>\n",
              "      <td>0.034043</td>\n",
              "      <td>0.034043</td>\n",
              "      <td>0.034043</td>\n",
              "      <td>0.034043</td>\n",
              "      <td>0.034043</td>\n",
              "      <td>0.034043</td>\n",
              "      <td>0.034043</td>\n",
              "      <td>0.034043</td>\n",
              "      <td>0.034043</td>\n",
              "      <td>0.034043</td>\n",
              "      <td>0.034043</td>\n",
              "      <td>0.034043</td>\n",
              "      <td>0.034043</td>\n",
              "      <td>0.034043</td>\n",
              "      <td>0.034043</td>\n",
              "      <td>0.034043</td>\n",
              "      <td>0.034043</td>\n",
              "      <td>0.034043</td>\n",
              "      <td>0.034043</td>\n",
              "      <td>0.034043</td>\n",
              "      <td>0.034043</td>\n",
              "      <td>0.034043</td>\n",
              "      <td>0.036170</td>\n",
              "      <td>0.036170</td>\n",
              "      <td>0.036170</td>\n",
              "      <td>0.036170</td>\n",
              "      <td>0.038298</td>\n",
              "      <td>0.038298</td>\n",
              "      <td>NaN</td>\n",
              "      <td>NaN</td>\n",
              "      <td>NaN</td>\n",
              "      <td>NaN</td>\n",
              "    </tr>\n",
              "    <tr>\n",
              "      <th>...</th>\n",
              "      <td>...</td>\n",
              "      <td>...</td>\n",
              "      <td>...</td>\n",
              "      <td>...</td>\n",
              "      <td>...</td>\n",
              "      <td>...</td>\n",
              "      <td>...</td>\n",
              "      <td>...</td>\n",
              "      <td>...</td>\n",
              "      <td>...</td>\n",
              "      <td>...</td>\n",
              "      <td>...</td>\n",
              "      <td>...</td>\n",
              "      <td>...</td>\n",
              "      <td>...</td>\n",
              "      <td>...</td>\n",
              "      <td>...</td>\n",
              "      <td>...</td>\n",
              "      <td>...</td>\n",
              "      <td>...</td>\n",
              "      <td>...</td>\n",
              "      <td>...</td>\n",
              "      <td>...</td>\n",
              "      <td>...</td>\n",
              "      <td>...</td>\n",
              "      <td>...</td>\n",
              "      <td>...</td>\n",
              "      <td>...</td>\n",
              "      <td>...</td>\n",
              "      <td>...</td>\n",
              "      <td>...</td>\n",
              "      <td>...</td>\n",
              "      <td>...</td>\n",
              "      <td>...</td>\n",
              "      <td>...</td>\n",
              "      <td>...</td>\n",
              "      <td>...</td>\n",
              "      <td>...</td>\n",
              "      <td>...</td>\n",
              "      <td>...</td>\n",
              "      <td>...</td>\n",
              "      <td>...</td>\n",
              "      <td>...</td>\n",
              "      <td>...</td>\n",
              "      <td>...</td>\n",
              "      <td>...</td>\n",
              "      <td>...</td>\n",
              "      <td>...</td>\n",
              "      <td>...</td>\n",
              "      <td>...</td>\n",
              "      <td>...</td>\n",
              "      <td>...</td>\n",
              "      <td>...</td>\n",
              "      <td>...</td>\n",
              "      <td>...</td>\n",
              "      <td>...</td>\n",
              "      <td>...</td>\n",
              "      <td>...</td>\n",
              "      <td>...</td>\n",
              "      <td>...</td>\n",
              "      <td>...</td>\n",
              "    </tr>\n",
              "    <tr>\n",
              "      <th>-4</th>\n",
              "      <td>0.0</td>\n",
              "      <td>0.0</td>\n",
              "      <td>0.000000</td>\n",
              "      <td>0.003432</td>\n",
              "      <td>0.003432</td>\n",
              "      <td>NaN</td>\n",
              "      <td>NaN</td>\n",
              "      <td>NaN</td>\n",
              "      <td>NaN</td>\n",
              "      <td>NaN</td>\n",
              "      <td>NaN</td>\n",
              "      <td>NaN</td>\n",
              "      <td>NaN</td>\n",
              "      <td>NaN</td>\n",
              "      <td>NaN</td>\n",
              "      <td>NaN</td>\n",
              "      <td>NaN</td>\n",
              "      <td>NaN</td>\n",
              "      <td>NaN</td>\n",
              "      <td>NaN</td>\n",
              "      <td>NaN</td>\n",
              "      <td>NaN</td>\n",
              "      <td>NaN</td>\n",
              "      <td>NaN</td>\n",
              "      <td>NaN</td>\n",
              "      <td>NaN</td>\n",
              "      <td>NaN</td>\n",
              "      <td>NaN</td>\n",
              "      <td>NaN</td>\n",
              "      <td>NaN</td>\n",
              "      <td>NaN</td>\n",
              "      <td>NaN</td>\n",
              "      <td>NaN</td>\n",
              "      <td>NaN</td>\n",
              "      <td>NaN</td>\n",
              "      <td>NaN</td>\n",
              "      <td>NaN</td>\n",
              "      <td>NaN</td>\n",
              "      <td>NaN</td>\n",
              "      <td>NaN</td>\n",
              "      <td>NaN</td>\n",
              "      <td>NaN</td>\n",
              "      <td>NaN</td>\n",
              "      <td>NaN</td>\n",
              "      <td>NaN</td>\n",
              "      <td>NaN</td>\n",
              "      <td>NaN</td>\n",
              "      <td>NaN</td>\n",
              "      <td>NaN</td>\n",
              "      <td>NaN</td>\n",
              "      <td>NaN</td>\n",
              "      <td>NaN</td>\n",
              "      <td>NaN</td>\n",
              "      <td>NaN</td>\n",
              "      <td>NaN</td>\n",
              "      <td>NaN</td>\n",
              "      <td>NaN</td>\n",
              "      <td>NaN</td>\n",
              "      <td>NaN</td>\n",
              "      <td>NaN</td>\n",
              "      <td>NaN</td>\n",
              "    </tr>\n",
              "    <tr>\n",
              "      <th>-3</th>\n",
              "      <td>0.0</td>\n",
              "      <td>0.0</td>\n",
              "      <td>0.001088</td>\n",
              "      <td>0.001088</td>\n",
              "      <td>NaN</td>\n",
              "      <td>NaN</td>\n",
              "      <td>NaN</td>\n",
              "      <td>NaN</td>\n",
              "      <td>NaN</td>\n",
              "      <td>NaN</td>\n",
              "      <td>NaN</td>\n",
              "      <td>NaN</td>\n",
              "      <td>NaN</td>\n",
              "      <td>NaN</td>\n",
              "      <td>NaN</td>\n",
              "      <td>NaN</td>\n",
              "      <td>NaN</td>\n",
              "      <td>NaN</td>\n",
              "      <td>NaN</td>\n",
              "      <td>NaN</td>\n",
              "      <td>NaN</td>\n",
              "      <td>NaN</td>\n",
              "      <td>NaN</td>\n",
              "      <td>NaN</td>\n",
              "      <td>NaN</td>\n",
              "      <td>NaN</td>\n",
              "      <td>NaN</td>\n",
              "      <td>NaN</td>\n",
              "      <td>NaN</td>\n",
              "      <td>NaN</td>\n",
              "      <td>NaN</td>\n",
              "      <td>NaN</td>\n",
              "      <td>NaN</td>\n",
              "      <td>NaN</td>\n",
              "      <td>NaN</td>\n",
              "      <td>NaN</td>\n",
              "      <td>NaN</td>\n",
              "      <td>NaN</td>\n",
              "      <td>NaN</td>\n",
              "      <td>NaN</td>\n",
              "      <td>NaN</td>\n",
              "      <td>NaN</td>\n",
              "      <td>NaN</td>\n",
              "      <td>NaN</td>\n",
              "      <td>NaN</td>\n",
              "      <td>NaN</td>\n",
              "      <td>NaN</td>\n",
              "      <td>NaN</td>\n",
              "      <td>NaN</td>\n",
              "      <td>NaN</td>\n",
              "      <td>NaN</td>\n",
              "      <td>NaN</td>\n",
              "      <td>NaN</td>\n",
              "      <td>NaN</td>\n",
              "      <td>NaN</td>\n",
              "      <td>NaN</td>\n",
              "      <td>NaN</td>\n",
              "      <td>NaN</td>\n",
              "      <td>NaN</td>\n",
              "      <td>NaN</td>\n",
              "      <td>NaN</td>\n",
              "    </tr>\n",
              "    <tr>\n",
              "      <th>-2</th>\n",
              "      <td>0.0</td>\n",
              "      <td>0.0</td>\n",
              "      <td>0.001297</td>\n",
              "      <td>NaN</td>\n",
              "      <td>NaN</td>\n",
              "      <td>NaN</td>\n",
              "      <td>NaN</td>\n",
              "      <td>NaN</td>\n",
              "      <td>NaN</td>\n",
              "      <td>NaN</td>\n",
              "      <td>NaN</td>\n",
              "      <td>NaN</td>\n",
              "      <td>NaN</td>\n",
              "      <td>NaN</td>\n",
              "      <td>NaN</td>\n",
              "      <td>NaN</td>\n",
              "      <td>NaN</td>\n",
              "      <td>NaN</td>\n",
              "      <td>NaN</td>\n",
              "      <td>NaN</td>\n",
              "      <td>NaN</td>\n",
              "      <td>NaN</td>\n",
              "      <td>NaN</td>\n",
              "      <td>NaN</td>\n",
              "      <td>NaN</td>\n",
              "      <td>NaN</td>\n",
              "      <td>NaN</td>\n",
              "      <td>NaN</td>\n",
              "      <td>NaN</td>\n",
              "      <td>NaN</td>\n",
              "      <td>NaN</td>\n",
              "      <td>NaN</td>\n",
              "      <td>NaN</td>\n",
              "      <td>NaN</td>\n",
              "      <td>NaN</td>\n",
              "      <td>NaN</td>\n",
              "      <td>NaN</td>\n",
              "      <td>NaN</td>\n",
              "      <td>NaN</td>\n",
              "      <td>NaN</td>\n",
              "      <td>NaN</td>\n",
              "      <td>NaN</td>\n",
              "      <td>NaN</td>\n",
              "      <td>NaN</td>\n",
              "      <td>NaN</td>\n",
              "      <td>NaN</td>\n",
              "      <td>NaN</td>\n",
              "      <td>NaN</td>\n",
              "      <td>NaN</td>\n",
              "      <td>NaN</td>\n",
              "      <td>NaN</td>\n",
              "      <td>NaN</td>\n",
              "      <td>NaN</td>\n",
              "      <td>NaN</td>\n",
              "      <td>NaN</td>\n",
              "      <td>NaN</td>\n",
              "      <td>NaN</td>\n",
              "      <td>NaN</td>\n",
              "      <td>NaN</td>\n",
              "      <td>NaN</td>\n",
              "      <td>NaN</td>\n",
              "    </tr>\n",
              "    <tr>\n",
              "      <th>-1</th>\n",
              "      <td>0.0</td>\n",
              "      <td>0.0</td>\n",
              "      <td>NaN</td>\n",
              "      <td>NaN</td>\n",
              "      <td>NaN</td>\n",
              "      <td>NaN</td>\n",
              "      <td>NaN</td>\n",
              "      <td>NaN</td>\n",
              "      <td>NaN</td>\n",
              "      <td>NaN</td>\n",
              "      <td>NaN</td>\n",
              "      <td>NaN</td>\n",
              "      <td>NaN</td>\n",
              "      <td>NaN</td>\n",
              "      <td>NaN</td>\n",
              "      <td>NaN</td>\n",
              "      <td>NaN</td>\n",
              "      <td>NaN</td>\n",
              "      <td>NaN</td>\n",
              "      <td>NaN</td>\n",
              "      <td>NaN</td>\n",
              "      <td>NaN</td>\n",
              "      <td>NaN</td>\n",
              "      <td>NaN</td>\n",
              "      <td>NaN</td>\n",
              "      <td>NaN</td>\n",
              "      <td>NaN</td>\n",
              "      <td>NaN</td>\n",
              "      <td>NaN</td>\n",
              "      <td>NaN</td>\n",
              "      <td>NaN</td>\n",
              "      <td>NaN</td>\n",
              "      <td>NaN</td>\n",
              "      <td>NaN</td>\n",
              "      <td>NaN</td>\n",
              "      <td>NaN</td>\n",
              "      <td>NaN</td>\n",
              "      <td>NaN</td>\n",
              "      <td>NaN</td>\n",
              "      <td>NaN</td>\n",
              "      <td>NaN</td>\n",
              "      <td>NaN</td>\n",
              "      <td>NaN</td>\n",
              "      <td>NaN</td>\n",
              "      <td>NaN</td>\n",
              "      <td>NaN</td>\n",
              "      <td>NaN</td>\n",
              "      <td>NaN</td>\n",
              "      <td>NaN</td>\n",
              "      <td>NaN</td>\n",
              "      <td>NaN</td>\n",
              "      <td>NaN</td>\n",
              "      <td>NaN</td>\n",
              "      <td>NaN</td>\n",
              "      <td>NaN</td>\n",
              "      <td>NaN</td>\n",
              "      <td>NaN</td>\n",
              "      <td>NaN</td>\n",
              "      <td>NaN</td>\n",
              "      <td>NaN</td>\n",
              "      <td>NaN</td>\n",
              "    </tr>\n",
              "    <tr>\n",
              "      <th>0</th>\n",
              "      <td>0.0</td>\n",
              "      <td>NaN</td>\n",
              "      <td>NaN</td>\n",
              "      <td>NaN</td>\n",
              "      <td>NaN</td>\n",
              "      <td>NaN</td>\n",
              "      <td>NaN</td>\n",
              "      <td>NaN</td>\n",
              "      <td>NaN</td>\n",
              "      <td>NaN</td>\n",
              "      <td>NaN</td>\n",
              "      <td>NaN</td>\n",
              "      <td>NaN</td>\n",
              "      <td>NaN</td>\n",
              "      <td>NaN</td>\n",
              "      <td>NaN</td>\n",
              "      <td>NaN</td>\n",
              "      <td>NaN</td>\n",
              "      <td>NaN</td>\n",
              "      <td>NaN</td>\n",
              "      <td>NaN</td>\n",
              "      <td>NaN</td>\n",
              "      <td>NaN</td>\n",
              "      <td>NaN</td>\n",
              "      <td>NaN</td>\n",
              "      <td>NaN</td>\n",
              "      <td>NaN</td>\n",
              "      <td>NaN</td>\n",
              "      <td>NaN</td>\n",
              "      <td>NaN</td>\n",
              "      <td>NaN</td>\n",
              "      <td>NaN</td>\n",
              "      <td>NaN</td>\n",
              "      <td>NaN</td>\n",
              "      <td>NaN</td>\n",
              "      <td>NaN</td>\n",
              "      <td>NaN</td>\n",
              "      <td>NaN</td>\n",
              "      <td>NaN</td>\n",
              "      <td>NaN</td>\n",
              "      <td>NaN</td>\n",
              "      <td>NaN</td>\n",
              "      <td>NaN</td>\n",
              "      <td>NaN</td>\n",
              "      <td>NaN</td>\n",
              "      <td>NaN</td>\n",
              "      <td>NaN</td>\n",
              "      <td>NaN</td>\n",
              "      <td>NaN</td>\n",
              "      <td>NaN</td>\n",
              "      <td>NaN</td>\n",
              "      <td>NaN</td>\n",
              "      <td>NaN</td>\n",
              "      <td>NaN</td>\n",
              "      <td>NaN</td>\n",
              "      <td>NaN</td>\n",
              "      <td>NaN</td>\n",
              "      <td>NaN</td>\n",
              "      <td>NaN</td>\n",
              "      <td>NaN</td>\n",
              "      <td>NaN</td>\n",
              "    </tr>\n",
              "  </tbody>\n",
              "</table>\n",
              "<p>61 rows × 61 columns</p>\n",
              "</div>"
            ]
          },
          "metadata": {},
          "execution_count": 56
        }
      ],
      "metadata": {
        "colab": {
          "base_uri": "https://localhost:8080/",
          "height": 470
        },
        "id": "GNhcAM_5TaY4",
        "outputId": "07729851-a795-48c7-f386-20ef563f6fc3"
      }
    },
    {
      "cell_type": "code",
      "execution_count": null,
      "source": [
        "lst = [i for i in range(0,61)]\n",
        "df_vintage_pivot[lst].T.iloc[:,:10].plot(legend = True, grid = True, title = '% acumulado de maus clientes (Atraso > que 60 dias)')\n",
        "\n",
        "plt.xlabel('MOB')\n",
        "plt.ylabel('% acumulado de maus')\n",
        "plt.legend(bbox_to_anchor=(1.2, 1), title='Abertura')\n",
        "plt.show()"
      ],
      "outputs": [
        {
          "output_type": "display_data",
          "data": {
            "text/plain": [
              "<Figure size 432x288 with 1 Axes>"
            ],
            "image/png": "[encoded data removed]"
          },
          "metadata": {}
        }
      ],
      "metadata": {
        "colab": {
          "base_uri": "https://localhost:8080/",
          "height": 301
        },
        "id": "k0xcGO0OTzmY",
        "outputId": "0d82c0b8-a21a-40ff-af23-e1891e7c38a3"
      }
    },
    {
      "cell_type": "code",
      "execution_count": null,
      "source": [
        "sns.histplot(data=df_registros_creditos_ID, x='Janela', cumulative=True, stat='density', kde=True)\n",
        "plt.title('Distribuição de clientes por janela')\n",
        "plt.xlabel('Janela')\n",
        "plt.ylabel('Percentual de clientes')\n",
        "plt.show()"
      ],
      "outputs": [
        {
          "output_type": "display_data",
          "data": {
            "text/plain": [
              "<Figure size 432x288 with 1 Axes>"
            ],
            "image/png": "[encoded data removed]"
          },
          "metadata": {}
        }
      ],
      "metadata": {
        "colab": {
          "base_uri": "https://localhost:8080/",
          "height": 301
        },
        "id": "F40C71msVAMB",
        "outputId": "5c07c882-edd4-48e0-a82d-8dfcbdabcef9"
      }
    },
    {
      "cell_type": "code",
      "execution_count": null,
      "source": [
        "dict_intervalo_atraso = {'maior_30_dias': 3, 'maior_60_dias': 4, 'maior_90_dias': 5,\n",
        "                        'maior_120_dias': 6, 'maior_150_dias': 7}"
      ],
      "outputs": [],
      "metadata": {
        "id": "OTfOFNBIWHKb"
      }
    },
    {
      "cell_type": "code",
      "execution_count": null,
      "source": [
        "for chave, valor in dict_intervalo_atraso.items():\n",
        "  df_clientes_aprovados[f'Mau_{chave}'] = df_clientes_aprovados.apply(lambda x: 1 if x['Ind_Faixa_atraso'] >= valor else 0, axis=1) # mais de 60\n",
        "df_clientes_aprovados.head()"
      ],
      "outputs": [
        {
          "output_type": "execute_result",
          "data": {
            "text/plain": [
              "   ID_Cliente  Mes_referencia  ... Mau_maior_120_dias  Mau_maior_150_dias\n",
              "0     5001711               0  ...                  0                   0\n",
              "1     5001711              -1  ...                  0                   0\n",
              "2     5001711              -2  ...                  0                   0\n",
              "3     5001711              -3  ...                  0                   0\n",
              "4     5001712               0  ...                  0                   0\n",
              "\n",
              "[5 rows x 14 columns]"
            ],
            "text/html": [
              "<div>\n",
              "<style scoped>\n",
              "    .dataframe tbody tr th:only-of-type {\n",
              "        vertical-align: middle;\n",
              "    }\n",
              "\n",
              "    .dataframe tbody tr th {\n",
              "        vertical-align: top;\n",
              "    }\n",
              "\n",
              "    .dataframe thead th {\n",
              "        text-align: right;\n",
              "    }\n",
              "</style>\n",
              "<table border=\"1\" class=\"dataframe\">\n",
              "  <thead>\n",
              "    <tr style=\"text-align: right;\">\n",
              "      <th></th>\n",
              "      <th>ID_Cliente</th>\n",
              "      <th>Mes_referencia</th>\n",
              "      <th>Faixa_atraso</th>\n",
              "      <th>Abertura</th>\n",
              "      <th>Final</th>\n",
              "      <th>Janela</th>\n",
              "      <th>MOB</th>\n",
              "      <th>Ind_Faixa_atraso</th>\n",
              "      <th>Mau</th>\n",
              "      <th>Mau_maior_30_dias</th>\n",
              "      <th>Mau_maior_60_dias</th>\n",
              "      <th>Mau_maior_90_dias</th>\n",
              "      <th>Mau_maior_120_dias</th>\n",
              "      <th>Mau_maior_150_dias</th>\n",
              "    </tr>\n",
              "  </thead>\n",
              "  <tbody>\n",
              "    <tr>\n",
              "      <th>0</th>\n",
              "      <td>5001711</td>\n",
              "      <td>0</td>\n",
              "      <td>nenhum empréstimo</td>\n",
              "      <td>-3</td>\n",
              "      <td>0</td>\n",
              "      <td>3</td>\n",
              "      <td>3</td>\n",
              "      <td>0</td>\n",
              "      <td>0</td>\n",
              "      <td>0</td>\n",
              "      <td>0</td>\n",
              "      <td>0</td>\n",
              "      <td>0</td>\n",
              "      <td>0</td>\n",
              "    </tr>\n",
              "    <tr>\n",
              "      <th>1</th>\n",
              "      <td>5001711</td>\n",
              "      <td>-1</td>\n",
              "      <td>1-29 dias</td>\n",
              "      <td>-3</td>\n",
              "      <td>0</td>\n",
              "      <td>3</td>\n",
              "      <td>2</td>\n",
              "      <td>2</td>\n",
              "      <td>0</td>\n",
              "      <td>0</td>\n",
              "      <td>0</td>\n",
              "      <td>0</td>\n",
              "      <td>0</td>\n",
              "      <td>0</td>\n",
              "    </tr>\n",
              "    <tr>\n",
              "      <th>2</th>\n",
              "      <td>5001711</td>\n",
              "      <td>-2</td>\n",
              "      <td>1-29 dias</td>\n",
              "      <td>-3</td>\n",
              "      <td>0</td>\n",
              "      <td>3</td>\n",
              "      <td>1</td>\n",
              "      <td>2</td>\n",
              "      <td>0</td>\n",
              "      <td>0</td>\n",
              "      <td>0</td>\n",
              "      <td>0</td>\n",
              "      <td>0</td>\n",
              "      <td>0</td>\n",
              "    </tr>\n",
              "    <tr>\n",
              "      <th>3</th>\n",
              "      <td>5001711</td>\n",
              "      <td>-3</td>\n",
              "      <td>1-29 dias</td>\n",
              "      <td>-3</td>\n",
              "      <td>0</td>\n",
              "      <td>3</td>\n",
              "      <td>0</td>\n",
              "      <td>2</td>\n",
              "      <td>0</td>\n",
              "      <td>0</td>\n",
              "      <td>0</td>\n",
              "      <td>0</td>\n",
              "      <td>0</td>\n",
              "      <td>0</td>\n",
              "    </tr>\n",
              "    <tr>\n",
              "      <th>4</th>\n",
              "      <td>5001712</td>\n",
              "      <td>0</td>\n",
              "      <td>pagamento realizado</td>\n",
              "      <td>-18</td>\n",
              "      <td>0</td>\n",
              "      <td>18</td>\n",
              "      <td>18</td>\n",
              "      <td>1</td>\n",
              "      <td>0</td>\n",
              "      <td>0</td>\n",
              "      <td>0</td>\n",
              "      <td>0</td>\n",
              "      <td>0</td>\n",
              "      <td>0</td>\n",
              "    </tr>\n",
              "  </tbody>\n",
              "</table>\n",
              "</div>"
            ]
          },
          "metadata": {},
          "execution_count": 60
        }
      ],
      "metadata": {
        "id": "ru9t-FPjWRki",
        "colab": {
          "base_uri": "https://localhost:8080/",
          "height": 258
        },
        "outputId": "78f3ec8f-1533-43b7-9607-13ddabce34df"
      }
    },
    {
      "cell_type": "code",
      "execution_count": null,
      "source": [
        "dict_taxa_mau = {}\n",
        "id_sum = len(set(df_clientes_aprovados['ID_Cliente']))\n",
        "\n",
        "for chave in dict_intervalo_atraso.keys():\n",
        "  df_min_mau = df_clientes_aprovados.query(f'Mau_{chave} == 1').groupby('ID_Cliente')['MOB'].min().reset_index()\n",
        "  df_mob_taxa_mau = pd.DataFrame({'MOB':range(0,61), 'Taxa_Mau': np.nan})\n",
        "  lst = []\n",
        "  for i in range(0,61):\n",
        "      due = df_min_mau.query('MOB == @i')['ID_Cliente'].to_list()\n",
        "      lst.extend(due) #cumsum\n",
        "      df_mob_taxa_mau.loc[df_mob_taxa_mau['MOB'] == i, 'Taxa_Mau'] = len(set(lst)) / id_sum\n",
        "  dict_taxa_mau[chave] = df_mob_taxa_mau['Taxa_Mau']\n",
        "\n",
        "df_taxa_mau = pd.DataFrame(dict_taxa_mau)\n",
        "df_taxa_mau"
      ],
      "outputs": [
        {
          "output_type": "execute_result",
          "data": {
            "text/plain": [
              "    maior_30_dias  maior_60_dias  maior_90_dias  maior_120_dias  maior_150_dias\n",
              "0        0.000304       0.000022       0.000022        0.000022        0.000022\n",
              "1        0.011612       0.000174       0.000087        0.000087        0.000087\n",
              "2        0.025878       0.001153       0.000196        0.000174        0.000174\n",
              "3        0.036860       0.002240       0.000696        0.000304        0.000304\n",
              "4        0.047385       0.003392       0.001044        0.000696        0.000348\n",
              "..            ...            ...            ...             ...             ...\n",
              "56       0.116321       0.014483       0.007176        0.005263        0.004219\n",
              "57       0.116321       0.014483       0.007176        0.005263        0.004219\n",
              "58       0.116321       0.014505       0.007198        0.005284        0.004241\n",
              "59       0.116321       0.014505       0.007198        0.005284        0.004241\n",
              "60       0.116342       0.014505       0.007198        0.005284        0.004241\n",
              "\n",
              "[61 rows x 5 columns]"
            ],
            "text/html": [
              "<div>\n",
              "<style scoped>\n",
              "    .dataframe tbody tr th:only-of-type {\n",
              "        vertical-align: middle;\n",
              "    }\n",
              "\n",
              "    .dataframe tbody tr th {\n",
              "        vertical-align: top;\n",
              "    }\n",
              "\n",
              "    .dataframe thead th {\n",
              "        text-align: right;\n",
              "    }\n",
              "</style>\n",
              "<table border=\"1\" class=\"dataframe\">\n",
              "  <thead>\n",
              "    <tr style=\"text-align: right;\">\n",
              "      <th></th>\n",
              "      <th>maior_30_dias</th>\n",
              "      <th>maior_60_dias</th>\n",
              "      <th>maior_90_dias</th>\n",
              "      <th>maior_120_dias</th>\n",
              "      <th>maior_150_dias</th>\n",
              "    </tr>\n",
              "  </thead>\n",
              "  <tbody>\n",
              "    <tr>\n",
              "      <th>0</th>\n",
              "      <td>0.000304</td>\n",
              "      <td>0.000022</td>\n",
              "      <td>0.000022</td>\n",
              "      <td>0.000022</td>\n",
              "      <td>0.000022</td>\n",
              "    </tr>\n",
              "    <tr>\n",
              "      <th>1</th>\n",
              "      <td>0.011612</td>\n",
              "      <td>0.000174</td>\n",
              "      <td>0.000087</td>\n",
              "      <td>0.000087</td>\n",
              "      <td>0.000087</td>\n",
              "    </tr>\n",
              "    <tr>\n",
              "      <th>2</th>\n",
              "      <td>0.025878</td>\n",
              "      <td>0.001153</td>\n",
              "      <td>0.000196</td>\n",
              "      <td>0.000174</td>\n",
              "      <td>0.000174</td>\n",
              "    </tr>\n",
              "    <tr>\n",
              "      <th>3</th>\n",
              "      <td>0.036860</td>\n",
              "      <td>0.002240</td>\n",
              "      <td>0.000696</td>\n",
              "      <td>0.000304</td>\n",
              "      <td>0.000304</td>\n",
              "    </tr>\n",
              "    <tr>\n",
              "      <th>4</th>\n",
              "      <td>0.047385</td>\n",
              "      <td>0.003392</td>\n",
              "      <td>0.001044</td>\n",
              "      <td>0.000696</td>\n",
              "      <td>0.000348</td>\n",
              "    </tr>\n",
              "    <tr>\n",
              "      <th>...</th>\n",
              "      <td>...</td>\n",
              "      <td>...</td>\n",
              "      <td>...</td>\n",
              "      <td>...</td>\n",
              "      <td>...</td>\n",
              "    </tr>\n",
              "    <tr>\n",
              "      <th>56</th>\n",
              "      <td>0.116321</td>\n",
              "      <td>0.014483</td>\n",
              "      <td>0.007176</td>\n",
              "      <td>0.005263</td>\n",
              "      <td>0.004219</td>\n",
              "    </tr>\n",
              "    <tr>\n",
              "      <th>57</th>\n",
              "      <td>0.116321</td>\n",
              "      <td>0.014483</td>\n",
              "      <td>0.007176</td>\n",
              "      <td>0.005263</td>\n",
              "      <td>0.004219</td>\n",
              "    </tr>\n",
              "    <tr>\n",
              "      <th>58</th>\n",
              "      <td>0.116321</td>\n",
              "      <td>0.014505</td>\n",
              "      <td>0.007198</td>\n",
              "      <td>0.005284</td>\n",
              "      <td>0.004241</td>\n",
              "    </tr>\n",
              "    <tr>\n",
              "      <th>59</th>\n",
              "      <td>0.116321</td>\n",
              "      <td>0.014505</td>\n",
              "      <td>0.007198</td>\n",
              "      <td>0.005284</td>\n",
              "      <td>0.004241</td>\n",
              "    </tr>\n",
              "    <tr>\n",
              "      <th>60</th>\n",
              "      <td>0.116342</td>\n",
              "      <td>0.014505</td>\n",
              "      <td>0.007198</td>\n",
              "      <td>0.005284</td>\n",
              "      <td>0.004241</td>\n",
              "    </tr>\n",
              "  </tbody>\n",
              "</table>\n",
              "<p>61 rows × 5 columns</p>\n",
              "</div>"
            ]
          },
          "metadata": {},
          "execution_count": 61
        }
      ],
      "metadata": {
        "id": "-PITh0gjW203",
        "colab": {
          "base_uri": "https://localhost:8080/",
          "height": 419
        },
        "outputId": "52ad059c-4ec2-4055-b7b9-d2188d88aa40"
      }
    },
    {
      "cell_type": "code",
      "execution_count": null,
      "source": [
        "df_taxa_mau.plot(grid = True, title = '% acumulado de clientes maus para diversas faixas de atraso', figsize=(10, 6))\n",
        "plt.xlabel('MOB')\n",
        "plt.ylabel('% acumulado de clientes')\n",
        "plt.show()"
      ],
      "outputs": [
        {
          "output_type": "display_data",
          "data": {
            "text/plain": [
              "<Figure size 720x432 with 1 Axes>"
            ],
            "image/png": "[encoded data removed]"
          },
          "metadata": {}
        }
      ],
      "metadata": {
        "id": "kgioUvjTXVlm",
        "colab": {
          "base_uri": "https://localhost:8080/",
          "height": 410
        },
        "outputId": "3aded63e-9345-4f50-b855-3a460872013b"
      }
    },
    {
      "cell_type": "markdown",
      "source": [
        "#Aula 4"
      ],
      "metadata": {
        "id": "I3nTwgHc1Q1S"
      }
    },
    {
      "cell_type": "code",
      "execution_count": null,
      "source": [
        "len(df_clientes_aprovados.query('Janela >= 12').groupby('ID_Cliente').count().index)"
      ],
      "outputs": [
        {
          "output_type": "execute_result",
          "data": {
            "text/plain": [
              "30918"
            ]
          },
          "metadata": {},
          "execution_count": 63
        }
      ],
      "metadata": {
        "id": "ocsXwJyUUmH2",
        "colab": {
          "base_uri": "https://localhost:8080/"
        },
        "outputId": "5ab6ade6-9dd0-4d1a-8dc9-e9294f91069f"
      }
    },
    {
      "cell_type": "code",
      "execution_count": null,
      "source": [
        "df_clientes_aprovados_tratamento1 = df_clientes_aprovados.query('Janela >= 12').copy()\n",
        "df_clientes_aprovados_tratamento1.shape"
      ],
      "outputs": [
        {
          "output_type": "execute_result",
          "data": {
            "text/plain": [
              "(943061, 14)"
            ]
          },
          "metadata": {},
          "execution_count": 64
        }
      ],
      "metadata": {
        "id": "bAnYFF57VTKZ",
        "colab": {
          "base_uri": "https://localhost:8080/"
        },
        "outputId": "275bba8a-02ec-479e-b551-b4cd68a4221f"
      }
    },
    {
      "cell_type": "code",
      "execution_count": null,
      "source": [
        "def verifica(registros):\n",
        "  lista_status = registros['Faixa_atraso'].to_list()\n",
        "  if '60-89 dias' in lista_status or '90-119 dias' in lista_status or '120-149 dias' in lista_status or '>150 dias' in lista_status:\n",
        "    return 1\n",
        "  else:\n",
        "    return 0\n",
        "  \n",
        "df_registros_creditos_id = pd.DataFrame(df_clientes_aprovados_tratamento1.groupby('ID_Cliente').apply(verifica)).reset_index()\n",
        "df_registros_creditos_id.columns = ['ID_Cliente', 'Mau']\n",
        "df_registros_creditos_id.head()"
      ],
      "outputs": [
        {
          "output_type": "execute_result",
          "data": {
            "text/plain": [
              "   ID_Cliente  Mau\n",
              "0     5001712    0\n",
              "1     5001713    0\n",
              "2     5001714    0\n",
              "3     5001715    0\n",
              "4     5001717    0"
            ],
            "text/html": [
              "<div>\n",
              "<style scoped>\n",
              "    .dataframe tbody tr th:only-of-type {\n",
              "        vertical-align: middle;\n",
              "    }\n",
              "\n",
              "    .dataframe tbody tr th {\n",
              "        vertical-align: top;\n",
              "    }\n",
              "\n",
              "    .dataframe thead th {\n",
              "        text-align: right;\n",
              "    }\n",
              "</style>\n",
              "<table border=\"1\" class=\"dataframe\">\n",
              "  <thead>\n",
              "    <tr style=\"text-align: right;\">\n",
              "      <th></th>\n",
              "      <th>ID_Cliente</th>\n",
              "      <th>Mau</th>\n",
              "    </tr>\n",
              "  </thead>\n",
              "  <tbody>\n",
              "    <tr>\n",
              "      <th>0</th>\n",
              "      <td>5001712</td>\n",
              "      <td>0</td>\n",
              "    </tr>\n",
              "    <tr>\n",
              "      <th>1</th>\n",
              "      <td>5001713</td>\n",
              "      <td>0</td>\n",
              "    </tr>\n",
              "    <tr>\n",
              "      <th>2</th>\n",
              "      <td>5001714</td>\n",
              "      <td>0</td>\n",
              "    </tr>\n",
              "    <tr>\n",
              "      <th>3</th>\n",
              "      <td>5001715</td>\n",
              "      <td>0</td>\n",
              "    </tr>\n",
              "    <tr>\n",
              "      <th>4</th>\n",
              "      <td>5001717</td>\n",
              "      <td>0</td>\n",
              "    </tr>\n",
              "  </tbody>\n",
              "</table>\n",
              "</div>"
            ]
          },
          "metadata": {},
          "execution_count": 65
        }
      ],
      "metadata": {
        "id": "CLC4kBubXQ2i",
        "colab": {
          "base_uri": "https://localhost:8080/",
          "height": 204
        },
        "outputId": "dc548b57-aae4-4fcc-e8b9-d85d9c2cf0ea"
      }
    },
    {
      "cell_type": "code",
      "execution_count": null,
      "source": [
        "df_registros_creditos_id.shape"
      ],
      "outputs": [
        {
          "output_type": "execute_result",
          "data": {
            "text/plain": [
              "(30918, 2)"
            ]
          },
          "metadata": {},
          "execution_count": 66
        }
      ],
      "metadata": {
        "id": "0RY7qIMwYcl-",
        "colab": {
          "base_uri": "https://localhost:8080/"
        },
        "outputId": "d39b8417-99d7-4ebc-9b0f-843a854930df"
      }
    },
    {
      "cell_type": "code",
      "execution_count": null,
      "source": [
        "df_clientes_cadastrados_tratamento1.shape"
      ],
      "outputs": [
        {
          "output_type": "execute_result",
          "data": {
            "text/plain": [
              "(425822, 16)"
            ]
          },
          "metadata": {},
          "execution_count": 67
        }
      ],
      "metadata": {
        "id": "rrdjDxzDYiUY",
        "colab": {
          "base_uri": "https://localhost:8080/"
        },
        "outputId": "f9c5f337-ff7a-44ce-d96b-c66466757f14"
      }
    },
    {
      "cell_type": "code",
      "execution_count": null,
      "source": [
        "df_registro_clientes_targets = df_clientes_cadastrados_tratamento1.merge(df_registros_creditos_id, on='ID_Cliente')\n",
        "df_registro_clientes_targets.head()"
      ],
      "outputs": [
        {
          "output_type": "execute_result",
          "data": {
            "text/plain": [
              "   ID_Cliente  Tem_Carro  ...  Anos_empregado  Mau\n",
              "0     5008806          1  ...             3.1    0\n",
              "1     5008810          0  ...             8.4    0\n",
              "2     5008811          0  ...             8.4    0\n",
              "3     5008812          0  ...            -1.0    0\n",
              "4     5008813          0  ...            -1.0    0\n",
              "\n",
              "[5 rows x 17 columns]"
            ],
            "text/html": [
              "<div>\n",
              "<style scoped>\n",
              "    .dataframe tbody tr th:only-of-type {\n",
              "        vertical-align: middle;\n",
              "    }\n",
              "\n",
              "    .dataframe tbody tr th {\n",
              "        vertical-align: top;\n",
              "    }\n",
              "\n",
              "    .dataframe thead th {\n",
              "        text-align: right;\n",
              "    }\n",
              "</style>\n",
              "<table border=\"1\" class=\"dataframe\">\n",
              "  <thead>\n",
              "    <tr style=\"text-align: right;\">\n",
              "      <th></th>\n",
              "      <th>ID_Cliente</th>\n",
              "      <th>Tem_Carro</th>\n",
              "      <th>Tem_Casa_Propria</th>\n",
              "      <th>Qtd_Filhos</th>\n",
              "      <th>Rendimento_Anual</th>\n",
              "      <th>Categoria_de_renda</th>\n",
              "      <th>Grau_Escolaridade</th>\n",
              "      <th>Estado_Civil</th>\n",
              "      <th>Moradia</th>\n",
              "      <th>Idade</th>\n",
              "      <th>Tem_telefone_trabalho</th>\n",
              "      <th>Tem_telefone_fixo</th>\n",
              "      <th>Tem_email</th>\n",
              "      <th>Ocupacao</th>\n",
              "      <th>Tamanho_Familia</th>\n",
              "      <th>Anos_empregado</th>\n",
              "      <th>Mau</th>\n",
              "    </tr>\n",
              "  </thead>\n",
              "  <tbody>\n",
              "    <tr>\n",
              "      <th>0</th>\n",
              "      <td>5008806</td>\n",
              "      <td>1</td>\n",
              "      <td>1</td>\n",
              "      <td>0</td>\n",
              "      <td>112500.0</td>\n",
              "      <td>Empregado</td>\n",
              "      <td>Ensino medio</td>\n",
              "      <td>Casado</td>\n",
              "      <td>Casa propria</td>\n",
              "      <td>59.0</td>\n",
              "      <td>0</td>\n",
              "      <td>0</td>\n",
              "      <td>0</td>\n",
              "      <td>Seguranca</td>\n",
              "      <td>2.0</td>\n",
              "      <td>3.1</td>\n",
              "      <td>0</td>\n",
              "    </tr>\n",
              "    <tr>\n",
              "      <th>1</th>\n",
              "      <td>5008810</td>\n",
              "      <td>0</td>\n",
              "      <td>1</td>\n",
              "      <td>0</td>\n",
              "      <td>270000.0</td>\n",
              "      <td>Associado comercial</td>\n",
              "      <td>Ensino medio</td>\n",
              "      <td>Solteiro</td>\n",
              "      <td>Casa propria</td>\n",
              "      <td>52.0</td>\n",
              "      <td>0</td>\n",
              "      <td>1</td>\n",
              "      <td>1</td>\n",
              "      <td>Venda</td>\n",
              "      <td>1.0</td>\n",
              "      <td>8.4</td>\n",
              "      <td>0</td>\n",
              "    </tr>\n",
              "    <tr>\n",
              "      <th>2</th>\n",
              "      <td>5008811</td>\n",
              "      <td>0</td>\n",
              "      <td>1</td>\n",
              "      <td>0</td>\n",
              "      <td>270000.0</td>\n",
              "      <td>Associado comercial</td>\n",
              "      <td>Ensino medio</td>\n",
              "      <td>Solteiro</td>\n",
              "      <td>Casa propria</td>\n",
              "      <td>52.0</td>\n",
              "      <td>0</td>\n",
              "      <td>1</td>\n",
              "      <td>1</td>\n",
              "      <td>Venda</td>\n",
              "      <td>1.0</td>\n",
              "      <td>8.4</td>\n",
              "      <td>0</td>\n",
              "    </tr>\n",
              "    <tr>\n",
              "      <th>3</th>\n",
              "      <td>5008812</td>\n",
              "      <td>0</td>\n",
              "      <td>1</td>\n",
              "      <td>0</td>\n",
              "      <td>283500.0</td>\n",
              "      <td>Pensionista</td>\n",
              "      <td>Ensino superior</td>\n",
              "      <td>Separado</td>\n",
              "      <td>Casa propria</td>\n",
              "      <td>62.0</td>\n",
              "      <td>0</td>\n",
              "      <td>0</td>\n",
              "      <td>0</td>\n",
              "      <td>Outros</td>\n",
              "      <td>1.0</td>\n",
              "      <td>-1.0</td>\n",
              "      <td>0</td>\n",
              "    </tr>\n",
              "    <tr>\n",
              "      <th>4</th>\n",
              "      <td>5008813</td>\n",
              "      <td>0</td>\n",
              "      <td>1</td>\n",
              "      <td>0</td>\n",
              "      <td>283500.0</td>\n",
              "      <td>Pensionista</td>\n",
              "      <td>Ensino superior</td>\n",
              "      <td>Separado</td>\n",
              "      <td>Casa propria</td>\n",
              "      <td>62.0</td>\n",
              "      <td>0</td>\n",
              "      <td>0</td>\n",
              "      <td>0</td>\n",
              "      <td>Outros</td>\n",
              "      <td>1.0</td>\n",
              "      <td>-1.0</td>\n",
              "      <td>0</td>\n",
              "    </tr>\n",
              "  </tbody>\n",
              "</table>\n",
              "</div>"
            ]
          },
          "metadata": {},
          "execution_count": 68
        }
      ],
      "metadata": {
        "id": "hb6VeK_gYuNw",
        "colab": {
          "base_uri": "https://localhost:8080/",
          "height": 309
        },
        "outputId": "7038ec96-7bfc-43f5-83d2-0445a8ca10aa"
      }
    },
    {
      "cell_type": "code",
      "execution_count": null,
      "source": [
        "df_registro_clientes_targets['Mau'].value_counts(normalize=True)*100"
      ],
      "outputs": [
        {
          "output_type": "execute_result",
          "data": {
            "text/plain": [
              "0    97.726673\n",
              "1     2.273327\n",
              "Name: Mau, dtype: float64"
            ]
          },
          "metadata": {},
          "execution_count": 69
        }
      ],
      "metadata": {
        "id": "iALs0bSsaT0q",
        "colab": {
          "base_uri": "https://localhost:8080/"
        },
        "outputId": "c6a06cc8-c123-4a26-f00b-e734c704e6d9"
      }
    },
    {
      "cell_type": "code",
      "execution_count": null,
      "source": [
        "colunas_categoricas_binarias = ['Tem_Carro',\n",
        "                                'Tem_Casa_Propria',\n",
        "                                'Tem_telefone_trabalho',\n",
        "                                'Tem_telefone_fixo',\n",
        "                                'Tem_email']\n",
        "colunas_categoricas_binarias                              "
      ],
      "outputs": [
        {
          "output_type": "execute_result",
          "data": {
            "text/plain": [
              "['Tem_Carro',\n",
              " 'Tem_Casa_Propria',\n",
              " 'Tem_telefone_trabalho',\n",
              " 'Tem_telefone_fixo',\n",
              " 'Tem_email']"
            ]
          },
          "metadata": {},
          "execution_count": 70
        }
      ],
      "metadata": {
        "id": "4kzask54mSVi",
        "colab": {
          "base_uri": "https://localhost:8080/"
        },
        "outputId": "49e61667-3c13-4877-9bc5-d192c8365d71"
      }
    },
    {
      "cell_type": "code",
      "execution_count": null,
      "source": [
        "colunas_categoricas_nao_binarias = ['Categoria_de_renda',\n",
        "                                    'Grau_Escolaridade',\n",
        "                                    'Estado_Civil',\n",
        "                                    'Moradia',\n",
        "                                    'Ocupacao']\n",
        "colunas_categoricas_nao_binarias"
      ],
      "outputs": [
        {
          "output_type": "execute_result",
          "data": {
            "text/plain": [
              "['Categoria_de_renda',\n",
              " 'Grau_Escolaridade',\n",
              " 'Estado_Civil',\n",
              " 'Moradia',\n",
              " 'Ocupacao']"
            ]
          },
          "metadata": {},
          "execution_count": 71
        }
      ],
      "metadata": {
        "id": "XyzIQGDWmdKN",
        "colab": {
          "base_uri": "https://localhost:8080/"
        },
        "outputId": "7133e180-dcc5-47a2-b224-e4838b5bbb0c"
      }
    },
    {
      "cell_type": "code",
      "execution_count": null,
      "source": [
        "df_registro_clientes_targets = df_registro_clientes_targets[['ID_Cliente'] + colunas_continuas + colunas_categoricas_binarias + colunas_categoricas_nao_binarias + ['Mau']]\n",
        "df_registro_clientes_targets.head()"
      ],
      "outputs": [
        {
          "output_type": "execute_result",
          "data": {
            "text/plain": [
              "   ID_Cliente  Idade  Qtd_Filhos  ...       Moradia   Ocupacao  Mau\n",
              "0     5008806   59.0           0  ...  Casa propria  Seguranca    0\n",
              "1     5008810   52.0           0  ...  Casa propria      Venda    0\n",
              "2     5008811   52.0           0  ...  Casa propria      Venda    0\n",
              "3     5008812   62.0           0  ...  Casa propria     Outros    0\n",
              "4     5008813   62.0           0  ...  Casa propria     Outros    0\n",
              "\n",
              "[5 rows x 17 columns]"
            ],
            "text/html": [
              "<div>\n",
              "<style scoped>\n",
              "    .dataframe tbody tr th:only-of-type {\n",
              "        vertical-align: middle;\n",
              "    }\n",
              "\n",
              "    .dataframe tbody tr th {\n",
              "        vertical-align: top;\n",
              "    }\n",
              "\n",
              "    .dataframe thead th {\n",
              "        text-align: right;\n",
              "    }\n",
              "</style>\n",
              "<table border=\"1\" class=\"dataframe\">\n",
              "  <thead>\n",
              "    <tr style=\"text-align: right;\">\n",
              "      <th></th>\n",
              "      <th>ID_Cliente</th>\n",
              "      <th>Idade</th>\n",
              "      <th>Qtd_Filhos</th>\n",
              "      <th>Rendimento_Anual</th>\n",
              "      <th>Anos_empregado</th>\n",
              "      <th>Tamanho_Familia</th>\n",
              "      <th>Tem_Carro</th>\n",
              "      <th>Tem_Casa_Propria</th>\n",
              "      <th>Tem_telefone_trabalho</th>\n",
              "      <th>Tem_telefone_fixo</th>\n",
              "      <th>Tem_email</th>\n",
              "      <th>Categoria_de_renda</th>\n",
              "      <th>Grau_Escolaridade</th>\n",
              "      <th>Estado_Civil</th>\n",
              "      <th>Moradia</th>\n",
              "      <th>Ocupacao</th>\n",
              "      <th>Mau</th>\n",
              "    </tr>\n",
              "  </thead>\n",
              "  <tbody>\n",
              "    <tr>\n",
              "      <th>0</th>\n",
              "      <td>5008806</td>\n",
              "      <td>59.0</td>\n",
              "      <td>0</td>\n",
              "      <td>112500.0</td>\n",
              "      <td>3.1</td>\n",
              "      <td>2.0</td>\n",
              "      <td>1</td>\n",
              "      <td>1</td>\n",
              "      <td>0</td>\n",
              "      <td>0</td>\n",
              "      <td>0</td>\n",
              "      <td>Empregado</td>\n",
              "      <td>Ensino medio</td>\n",
              "      <td>Casado</td>\n",
              "      <td>Casa propria</td>\n",
              "      <td>Seguranca</td>\n",
              "      <td>0</td>\n",
              "    </tr>\n",
              "    <tr>\n",
              "      <th>1</th>\n",
              "      <td>5008810</td>\n",
              "      <td>52.0</td>\n",
              "      <td>0</td>\n",
              "      <td>270000.0</td>\n",
              "      <td>8.4</td>\n",
              "      <td>1.0</td>\n",
              "      <td>0</td>\n",
              "      <td>1</td>\n",
              "      <td>0</td>\n",
              "      <td>1</td>\n",
              "      <td>1</td>\n",
              "      <td>Associado comercial</td>\n",
              "      <td>Ensino medio</td>\n",
              "      <td>Solteiro</td>\n",
              "      <td>Casa propria</td>\n",
              "      <td>Venda</td>\n",
              "      <td>0</td>\n",
              "    </tr>\n",
              "    <tr>\n",
              "      <th>2</th>\n",
              "      <td>5008811</td>\n",
              "      <td>52.0</td>\n",
              "      <td>0</td>\n",
              "      <td>270000.0</td>\n",
              "      <td>8.4</td>\n",
              "      <td>1.0</td>\n",
              "      <td>0</td>\n",
              "      <td>1</td>\n",
              "      <td>0</td>\n",
              "      <td>1</td>\n",
              "      <td>1</td>\n",
              "      <td>Associado comercial</td>\n",
              "      <td>Ensino medio</td>\n",
              "      <td>Solteiro</td>\n",
              "      <td>Casa propria</td>\n",
              "      <td>Venda</td>\n",
              "      <td>0</td>\n",
              "    </tr>\n",
              "    <tr>\n",
              "      <th>3</th>\n",
              "      <td>5008812</td>\n",
              "      <td>62.0</td>\n",
              "      <td>0</td>\n",
              "      <td>283500.0</td>\n",
              "      <td>-1.0</td>\n",
              "      <td>1.0</td>\n",
              "      <td>0</td>\n",
              "      <td>1</td>\n",
              "      <td>0</td>\n",
              "      <td>0</td>\n",
              "      <td>0</td>\n",
              "      <td>Pensionista</td>\n",
              "      <td>Ensino superior</td>\n",
              "      <td>Separado</td>\n",
              "      <td>Casa propria</td>\n",
              "      <td>Outros</td>\n",
              "      <td>0</td>\n",
              "    </tr>\n",
              "    <tr>\n",
              "      <th>4</th>\n",
              "      <td>5008813</td>\n",
              "      <td>62.0</td>\n",
              "      <td>0</td>\n",
              "      <td>283500.0</td>\n",
              "      <td>-1.0</td>\n",
              "      <td>1.0</td>\n",
              "      <td>0</td>\n",
              "      <td>1</td>\n",
              "      <td>0</td>\n",
              "      <td>0</td>\n",
              "      <td>0</td>\n",
              "      <td>Pensionista</td>\n",
              "      <td>Ensino superior</td>\n",
              "      <td>Separado</td>\n",
              "      <td>Casa propria</td>\n",
              "      <td>Outros</td>\n",
              "      <td>0</td>\n",
              "    </tr>\n",
              "  </tbody>\n",
              "</table>\n",
              "</div>"
            ]
          },
          "metadata": {},
          "execution_count": 72
        }
      ],
      "metadata": {
        "id": "9avVWfDVmuFw",
        "colab": {
          "base_uri": "https://localhost:8080/",
          "height": 309
        },
        "outputId": "7acbfb5e-32a3-46c4-e1ec-9ad7c90c62a8"
      }
    },
    {
      "cell_type": "code",
      "execution_count": null,
      "source": [
        "!pip install scikit-learn==0.23.2 imbalanced-learn==0.7.0"
      ],
      "outputs": [
        {
          "output_type": "stream",
          "name": "stdout",
          "text": [
            "Requirement already satisfied: scikit-learn==0.23.2 in /usr/local/lib/python3.7/dist-packages (0.23.2)\n",
            "Requirement already satisfied: imbalanced-learn==0.7.0 in /usr/local/lib/python3.7/dist-packages (0.7.0)\n",
            "Requirement already satisfied: numpy>=1.13.3 in /usr/local/lib/python3.7/dist-packages (from scikit-learn==0.23.2) (1.19.5)\n",
            "Requirement already satisfied: joblib>=0.11 in /usr/local/lib/python3.7/dist-packages (from scikit-learn==0.23.2) (1.0.1)\n",
            "Requirement already satisfied: scipy>=0.19.1 in /usr/local/lib/python3.7/dist-packages (from scikit-learn==0.23.2) (1.4.1)\n",
            "Requirement already satisfied: threadpoolctl>=2.0.0 in /usr/local/lib/python3.7/dist-packages (from scikit-learn==0.23.2) (2.2.0)\n"
          ]
        }
      ],
      "metadata": {
        "colab": {
          "base_uri": "https://localhost:8080/"
        },
        "id": "vQqwEl-qopST",
        "outputId": "a91985ab-2f14-4073-9bbc-b74caed680cc"
      }
    },
    {
      "cell_type": "code",
      "execution_count": null,
      "source": [
        "import six\n",
        "import sys\n",
        "sys.modules['sklearn.externals.six'] = six"
      ],
      "outputs": [],
      "metadata": {
        "id": "D9AH75DIosyL"
      }
    },
    {
      "cell_type": "code",
      "execution_count": null,
      "source": [
        "import numpy as np\n",
        "from sklearn.linear_model import LogisticRegression\n",
        "from sklearn.dummy import DummyClassifier\n",
        "from sklearn.model_selection import train_test_split\n",
        "from sklearn.metrics import roc_auc_score, classification_report, plot_confusion_matrix\n",
        "\n",
        "from scipy import stats"
      ],
      "outputs": [],
      "metadata": {
        "id": "S8kaQv6dnDIi"
      }
    },
    {
      "cell_type": "markdown",
      "source": [
        "![image.png](data:image/png;base64,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)"
      ],
      "metadata": {
        "id": "CuXPEDvfnnef"
      }
    },
    {
      "cell_type": "code",
      "execution_count": null,
      "source": [
        "SEED = 1561651\n",
        "def roda_modelo(modelo, dados):\n",
        "\n",
        "    # separando dados em x e y, e tambem removendo a coluna de ID_cliente\n",
        "    x = dados.drop(['ID_Cliente', 'Mau'], axis=1)\n",
        "    y = dados.drop('ID_Cliente', axis=1)['Mau']\n",
        "    \n",
        "    # Separando dados em treino e teste\n",
        "    x_train, x_test, y_train, y_test = train_test_split(x, y, stratify=y, random_state=SEED)\n",
        "\n",
        "    # Treinando modelo com os dados de treino\n",
        "    modelo.fit(x_train, y_train)\n",
        "\n",
        "    # Calculando a probabilidade e calculando o AUC\n",
        "    prob_predic = modelo.predict_proba(x_test)\n",
        "    auc = roc_auc_score(y_test, prob_predic[:,1])\n",
        "    print(f\"AUC {auc}\")\n",
        "    \n",
        "    # Separando a probabilidade de ser bom e mau, e calculando o KS\n",
        "    data_bom = np.sort(modelo.predict_proba(x_test)[:, 1])\n",
        "    data_mau = np.sort(modelo.predict_proba(x_test)[:, 0])\n",
        "    kstest = stats.ks_2samp(data_bom, data_mau)\n",
        "    print(f\"KS {kstest}\")\n",
        "\n",
        "    # Criando matriz de confusão\n",
        "    matriz_confusao = plot_confusion_matrix(modelo, x_test, y_test, values_format='.0f', display_labels=['Bons', 'Maus'])\n",
        "    plt.grid(False)    \n",
        "    plt.show(matriz_confusao)\n",
        "\n",
        "    # Fazendo a predição dos dados de teste e calculando o classification report\n",
        "    predicao = modelo.predict(x_test)\n",
        "    print(\"\\nClassification Report\")\n",
        "    print(classification_report(y_test, predicao, zero_division=0))"
      ],
      "outputs": [],
      "metadata": {
        "id": "5bbK_53-nTx0"
      }
    },
    {
      "cell_type": "code",
      "execution_count": null,
      "source": [
        "from sklearn.preprocessing import OneHotEncoder\n",
        "from sklearn.preprocessing import MinMaxScaler\n",
        "from sklearn.base import BaseEstimator, TransformerMixin"
      ],
      "outputs": [],
      "metadata": {
        "id": "gF_C5GYXo8RJ"
      }
    },
    {
      "cell_type": "code",
      "execution_count": null,
      "source": [
        "# PEP8 padrão CamelCase\n",
        "class Transformador(BaseEstimator, TransformerMixin):\n",
        "    def __init__( self, colunas_continuas, colunas_categoricas):\n",
        "        self.colunas_continuas = colunas_continuas\n",
        "        self.colunas_categoricas = colunas_categoricas\n",
        "        self.enc = OneHotEncoder()\n",
        "        self.scaler = MinMaxScaler()\n",
        "\n",
        "    def fit(self, X, y = None ):\n",
        "        self.enc.fit(X[self.colunas_categoricas])\n",
        "        self.scaler.fit(X[self.colunas_continuas])\n",
        "        return self \n",
        "\n",
        "    def transform(self, X, y = None):\n",
        "      \n",
        "      X_categoricas = pd.DataFrame(data=self.enc.transform(X[self.colunas_categoricas]).toarray(),\n",
        "                                  columns= self.enc.get_feature_names(self.colunas_categoricas))\n",
        "      \n",
        "      X_continuas = pd.DataFrame(data=self.scaler.transform(X[self.colunas_continuas]),\n",
        "                                  columns= self.colunas_continuas)\n",
        "      \n",
        "      X = pd.concat([X_continuas, X_categoricas], axis=1)\n",
        "\n",
        "      return X"
      ],
      "outputs": [],
      "metadata": {
        "id": "y1XgCGdnpP24"
      }
    },
    {
      "cell_type": "code",
      "execution_count": null,
      "source": [
        "from sklearn.pipeline import Pipeline"
      ],
      "outputs": [],
      "metadata": {
        "id": "Mo_Nx5y0qO1F"
      }
    },
    {
      "cell_type": "code",
      "execution_count": null,
      "source": [
        "pipeline = Pipeline([('Transformador', Transformador(colunas_continuas, colunas_categoricas)),\n",
        "                     ('Modelo', DummyClassifier(strategy='prior'))])   \n",
        "roda_modelo(pipeline, df_registro_clientes_targets)"
      ],
      "outputs": [
        {
          "output_type": "stream",
          "name": "stdout",
          "text": [
            "AUC 0.5\n",
            "KS Ks_2sampResult(statistic=1.0, pvalue=0.0)\n"
          ]
        },
        {
          "output_type": "display_data",
          "data": {
            "text/plain": [
              "<Figure size 432x288 with 2 Axes>"
            ],
            "image/png": "[encoded data removed]"
          },
          "metadata": {}
        },
        {
          "output_type": "stream",
          "name": "stdout",
          "text": [
            "\n",
            "Classification Report\n",
            "              precision    recall  f1-score   support\n",
            "\n",
            "           0       0.98      1.00      0.99      5557\n",
            "           1       0.00      0.00      0.00       129\n",
            "\n",
            "    accuracy                           0.98      5686\n",
            "   macro avg       0.49      0.50      0.49      5686\n",
            "weighted avg       0.96      0.98      0.97      5686\n",
            "\n"
          ]
        }
      ],
      "metadata": {
        "colab": {
          "base_uri": "https://localhost:8080/",
          "height": 506
        },
        "id": "sUhoHypaqQju",
        "outputId": "c7f99e3f-760f-4e1f-8d06-256cf56c364c"
      }
    },
    {
      "cell_type": "code",
      "execution_count": null,
      "source": [
        "pipeline = Pipeline([('Transformador', Transformador(colunas_continuas, colunas_categoricas)),\n",
        "                     ('Modelo', LogisticRegression(random_state=SEED, max_iter=1000))])   \n",
        "roda_modelo(pipeline, df_registro_clientes_targets)"
      ],
      "outputs": [
        {
          "output_type": "stream",
          "name": "stdout",
          "text": [
            "AUC 0.5847293657137516\n",
            "KS Ks_2sampResult(statistic=1.0, pvalue=0.0)\n"
          ]
        },
        {
          "output_type": "display_data",
          "data": {
            "text/plain": [
              "<Figure size 432x288 with 2 Axes>"
            ],
            "image/png": "[encoded data removed]"
          },
          "metadata": {}
        },
        {
          "output_type": "stream",
          "name": "stdout",
          "text": [
            "\n",
            "Classification Report\n",
            "              precision    recall  f1-score   support\n",
            "\n",
            "           0       0.98      1.00      0.99      5557\n",
            "           1       0.00      0.00      0.00       129\n",
            "\n",
            "    accuracy                           0.98      5686\n",
            "   macro avg       0.49      0.50      0.49      5686\n",
            "weighted avg       0.96      0.98      0.97      5686\n",
            "\n"
          ]
        }
      ],
      "metadata": {
        "id": "6FWCa4M6rnZk",
        "colab": {
          "base_uri": "https://localhost:8080/",
          "height": 506
        },
        "outputId": "e403fdec-75bf-47d6-ddf5-30b232b9a4c6"
      }
    },
    {
      "cell_type": "markdown",
      "source": [
        "Oversampling e undersampling"
      ],
      "metadata": {
        "id": "Zg04eTC9vbyl"
      }
    },
    {
      "cell_type": "code",
      "execution_count": null,
      "source": [
        "from imblearn.over_sampling import SMOTE\n",
        "from imblearn.pipeline import Pipeline"
      ],
      "outputs": [],
      "metadata": {
        "id": "eWju-OTDsfbg"
      }
    },
    {
      "cell_type": "code",
      "execution_count": null,
      "source": [
        "pipeline = Pipeline([('Transformador', Transformador(colunas_continuas, colunas_categoricas)),\n",
        "                     ('sampling', SMOTE(random_state=SEED)),\n",
        "                     ('Modelo', LogisticRegression(random_state=SEED, max_iter=1000))])   \n",
        "roda_modelo(pipeline, df_registro_clientes_targets)"
      ],
      "outputs": [
        {
          "output_type": "stream",
          "name": "stdout",
          "text": [
            "AUC 0.5815864619385006\n",
            "KS Ks_2sampResult(statistic=0.1290889905029898, pvalue=1.09559025330554e-41)\n"
          ]
        },
        {
          "output_type": "display_data",
          "data": {
            "text/plain": [
              "<Figure size 432x288 with 2 Axes>"
            ],
            "image/png": "[encoded data removed]"
          },
          "metadata": {}
        },
        {
          "output_type": "stream",
          "name": "stdout",
          "text": [
            "\n",
            "Classification Report\n",
            "              precision    recall  f1-score   support\n",
            "\n",
            "           0       0.98      0.55      0.70      5557\n",
            "           1       0.03      0.58      0.06       129\n",
            "\n",
            "    accuracy                           0.55      5686\n",
            "   macro avg       0.51      0.56      0.38      5686\n",
            "weighted avg       0.96      0.55      0.69      5686\n",
            "\n"
          ]
        }
      ],
      "metadata": {
        "id": "bL_7c8shwMIU",
        "colab": {
          "base_uri": "https://localhost:8080/",
          "height": 506
        },
        "outputId": "f0803de0-7725-417c-a2c6-0d5c379f7661"
      }
    },
    {
      "cell_type": "code",
      "execution_count": null,
      "source": [
        "from sklearn.ensemble import RandomForestClassifier"
      ],
      "outputs": [],
      "metadata": {
        "id": "sM6wjgUXxLNH"
      }
    },
    {
      "cell_type": "code",
      "execution_count": null,
      "source": [
        "pipeline = Pipeline([('Transformador', Transformador(colunas_continuas, colunas_categoricas)),\n",
        "                     ('sampling', SMOTE(random_state=SEED)),\n",
        "                     ('Modelo', RandomForestClassifier(random_state=SEED))])   \n",
        "roda_modelo(pipeline, df_registro_clientes_targets)"
      ],
      "outputs": [
        {
          "output_type": "stream",
          "name": "stdout",
          "text": [
            "AUC 0.8340043216670643\n",
            "KS Ks_2sampResult(statistic=0.9653534998241294, pvalue=0.0)\n"
          ]
        },
        {
          "output_type": "display_data",
          "data": {
            "text/plain": [
              "<Figure size 432x288 with 2 Axes>"
            ],
            "image/png": "[encoded data removed]"
          },
          "metadata": {}
        },
        {
          "output_type": "stream",
          "name": "stdout",
          "text": [
            "\n",
            "Classification Report\n",
            "              precision    recall  f1-score   support\n",
            "\n",
            "           0       0.99      0.99      0.99      5557\n",
            "           1       0.47      0.36      0.41       129\n",
            "\n",
            "    accuracy                           0.98      5686\n",
            "   macro avg       0.73      0.68      0.70      5686\n",
            "weighted avg       0.97      0.98      0.97      5686\n",
            "\n"
          ]
        }
      ],
      "metadata": {
        "id": "Mv07NCk_yFJE",
        "colab": {
          "base_uri": "https://localhost:8080/",
          "height": 506
        },
        "outputId": "f479de2e-5007-410e-926f-bd63e6521d0a"
      }
    },
    {
      "cell_type": "code",
      "execution_count": null,
      "source": [
        "pipeline = Pipeline([('Transformador', Transformador(colunas_continuas, colunas_categoricas)),\n",
        "                     ('Modelo', RandomForestClassifier(random_state=SEED))])   \n",
        "roda_modelo(pipeline, df_registro_clientes_targets)"
      ],
      "outputs": [
        {
          "output_type": "stream",
          "name": "stdout",
          "text": [
            "AUC 0.8382939040500634\n",
            "KS Ks_2sampResult(statistic=0.9794231445655998, pvalue=0.0)\n"
          ]
        },
        {
          "output_type": "display_data",
          "data": {
            "text/plain": [
              "<Figure size 432x288 with 2 Axes>"
            ],
            "image/png": "[encoded data removed]"
          },
          "metadata": {}
        },
        {
          "output_type": "stream",
          "name": "stdout",
          "text": [
            "\n",
            "Classification Report\n",
            "              precision    recall  f1-score   support\n",
            "\n",
            "           0       0.98      0.99      0.99      5557\n",
            "           1       0.52      0.24      0.33       129\n",
            "\n",
            "    accuracy                           0.98      5686\n",
            "   macro avg       0.75      0.62      0.66      5686\n",
            "weighted avg       0.97      0.98      0.97      5686\n",
            "\n"
          ]
        }
      ],
      "metadata": {
        "id": "DnI3j7clyoWh",
        "colab": {
          "base_uri": "https://localhost:8080/",
          "height": 506
        },
        "outputId": "495ef4e0-d57a-4b5b-8f06-ab813adf529a"
      }
    },
    {
      "cell_type": "markdown",
      "source": [
        "#Aula 5"
      ],
      "metadata": {
        "id": "g2padUhW2kLw"
      }
    },
    {
      "cell_type": "code",
      "execution_count": null,
      "source": [
        "pipeline = Pipeline([('Transformador', Transformador(colunas_continuas, colunas_categoricas)),\n",
        "                     ('sampling', SMOTE(random_state=SEED)),\n",
        "                     ('Modelo', RandomForestClassifier(random_state=SEED))])"
      ],
      "outputs": [],
      "metadata": {
        "id": "0GngEaVlOxn4"
      }
    },
    {
      "cell_type": "code",
      "execution_count": null,
      "source": [
        "x = df_registro_clientes_targets.drop(['ID_Cliente', 'Mau'], axis=1)\n",
        "y = df_registro_clientes_targets['Mau']\n",
        "\n",
        "pipeline.fit(x, y)"
      ],
      "outputs": [
        {
          "output_type": "execute_result",
          "data": {
            "text/plain": [
              "Pipeline(steps=[('Transformador',\n",
              "                 Transformador(colunas_categoricas=['Tem_Carro',\n",
              "                                                    'Tem_Casa_Propria',\n",
              "                                                    'Categoria_de_renda',\n",
              "                                                    'Grau_Escolaridade',\n",
              "                                                    'Estado_Civil', 'Moradia',\n",
              "                                                    'Tem_telefone_trabalho',\n",
              "                                                    'Tem_telefone_fixo',\n",
              "                                                    'Tem_email', 'Ocupacao'],\n",
              "                               colunas_continuas=['Idade', 'Qtd_Filhos',\n",
              "                                                  'Rendimento_Anual',\n",
              "                                                  'Anos_empregado',\n",
              "                                                  'Tamanho_Familia'])),\n",
              "                ('sampling', SMOTE(random_state=1561651)),\n",
              "                ('Modelo', RandomForestClassifier(random_state=1561651))])"
            ]
          },
          "metadata": {},
          "execution_count": 88
        }
      ],
      "metadata": {
        "id": "lcMMyPX0PNHm",
        "colab": {
          "base_uri": "https://localhost:8080/"
        },
        "outputId": "a019cf52-a264-4ebc-b0bd-2f6110bb5f18"
      }
    },
    {
      "cell_type": "code",
      "execution_count": null,
      "source": [
        "from joblib import dump"
      ],
      "outputs": [],
      "metadata": {
        "id": "pAMsdOBdQJ5U"
      }
    },
    {
      "cell_type": "code",
      "execution_count": null,
      "source": [
        "dump(pipeline, 'modelo.joblib')"
      ],
      "outputs": [
        {
          "output_type": "execute_result",
          "data": {
            "text/plain": [
              "['modelo.joblib']"
            ]
          },
          "metadata": {},
          "execution_count": 90
        }
      ],
      "metadata": {
        "id": "Em5rnD1zQQKc",
        "colab": {
          "base_uri": "https://localhost:8080/"
        },
        "outputId": "8b475fd5-a096-46cf-f663-1595c8223c47"
      }
    },
    {
      "cell_type": "code",
      "execution_count": null,
      "source": [
        "features = x.columns\n",
        "features"
      ],
      "outputs": [
        {
          "output_type": "execute_result",
          "data": {
            "text/plain": [
              "Index(['Idade', 'Qtd_Filhos', 'Rendimento_Anual', 'Anos_empregado',\n",
              "       'Tamanho_Familia', 'Tem_Carro', 'Tem_Casa_Propria',\n",
              "       'Tem_telefone_trabalho', 'Tem_telefone_fixo', 'Tem_email',\n",
              "       'Categoria_de_renda', 'Grau_Escolaridade', 'Estado_Civil', 'Moradia',\n",
              "       'Ocupacao'],\n",
              "      dtype='object')"
            ]
          },
          "metadata": {},
          "execution_count": 91
        }
      ],
      "metadata": {
        "id": "wtkNL4dCQh7g",
        "colab": {
          "base_uri": "https://localhost:8080/"
        },
        "outputId": "a8f05727-695e-46a6-a867-08c69f773814"
      }
    },
    {
      "cell_type": "code",
      "execution_count": null,
      "source": [
        "dump(features, 'features.joblib')"
      ],
      "outputs": [
        {
          "output_type": "execute_result",
          "data": {
            "text/plain": [
              "['features.joblib']"
            ]
          },
          "metadata": {},
          "execution_count": 92
        }
      ],
      "metadata": {
        "id": "ZFd1-MPZQs9H",
        "colab": {
          "base_uri": "https://localhost:8080/"
        },
        "outputId": "ac16dd86-3d61-436c-8f8a-34d1c1f76449"
      }
    },
    {
      "cell_type": "code",
      "execution_count": null,
      "source": [
        "lista_campos = df_registro_clientes_targets[colunas_categoricas_nao_binarias].apply(lambda x: x.unique(),axis=0)\n",
        "lista_campos"
      ],
      "outputs": [
        {
          "output_type": "execute_result",
          "data": {
            "text/plain": [
              "Categoria_de_renda    [Empregado, Associado comercial, Pensionista, ...\n",
              "Grau_Escolaridade     [Ensino medio, Ensino superior, Ensino superio...\n",
              "Estado_Civil          [Casado, Solteiro, Separado, Uniao estavel, Vi...\n",
              "Moradia               [Casa propria, Alugado, Habitacao publica, Mor...\n",
              "Ocupacao              [Seguranca, Venda, Outros, Contabilidade, Cons...\n",
              "dtype: object"
            ]
          },
          "metadata": {},
          "execution_count": 93
        }
      ],
      "metadata": {
        "id": "hfkSdsK0Q6pN",
        "colab": {
          "base_uri": "https://localhost:8080/"
        },
        "outputId": "2b352bb9-fc75-41c9-b18f-a33485fe76e7"
      }
    },
    {
      "cell_type": "code",
      "execution_count": null,
      "source": [
        "dump(lista_campos, 'lista_campos.joblib')"
      ],
      "outputs": [
        {
          "output_type": "execute_result",
          "data": {
            "text/plain": [
              "['lista_campos.joblib']"
            ]
          },
          "metadata": {},
          "execution_count": 94
        }
      ],
      "metadata": {
        "id": "FGj41nAKRcfe",
        "colab": {
          "base_uri": "https://localhost:8080/"
        },
        "outputId": "bb918101-07e8-42b3-806a-a25f3df4e3e1"
      }
    },
    {
      "cell_type": "markdown",
      "source": [
        "#Desafio\n",
        "\n",
        "Desafios aula 1:\n",
        "\n",
        "Desafio 1: Explorar IDs repetidos (Atualização de cadastro ? Erro ?)\n",
        "\n",
        "Desafio 2: Explorar as colunas (features) identificar contínuas, categóricas e binárias\n",
        "\n",
        "Desafios aula 2:\n",
        "\n",
        "Desafio 1: Explorar outras maneiras de identificar e de tratar os outliers\n",
        "\n",
        "Desafio 2: Criar uma função para gerar os nosso gráficos\n",
        "\n",
        "Desafio 3: Continuar a análise exploratória dos dados\n",
        "\n",
        "Desafios aula 3:\n",
        "\n",
        "Desafio 1: Criar uma tabela com a quantidade clientes relativo a base por faixas atraso\n",
        "\n",
        "Desafio 2: Conhecer técnicas para resolver target\n",
        "\n",
        "Desafios aula 4:\n",
        "\n",
        "Desafio 1: Explorar undersampling\n",
        "\n",
        "Desafio 2: Buscarem outras técnicas como por exemplo: XGboost\n",
        "\n",
        "Desafio 3: Utilizar otimização de hiperparâmetros e seleção features"
      ],
      "metadata": {
        "id": "f86vQLj_rN-J"
      }
    },
    {
      "cell_type": "markdown",
      "source": [
        "##Desafios aula 1:"
      ],
      "metadata": {
        "id": "WnmTPLv5EDKG"
      }
    },
    {
      "cell_type": "markdown",
      "source": [
        "###Desafio 1: Explorar IDs repetidos (Atualização de cadastro ? Erro ?)"
      ],
      "metadata": {
        "id": "yCtdAsr1DE4P"
      }
    },
    {
      "cell_type": "code",
      "execution_count": null,
      "source": [
        "df_clientes_cadastrados[df_clientes_cadastrados['ID_Cliente'].duplicated(keep=False)].sort_values(by='ID_Cliente')"
      ],
      "outputs": [
        {
          "output_type": "execute_result",
          "data": {
            "text/plain": [
              "        ID_Cliente Genero  ...  Tamanho_Familia  Anos_empregado\n",
              "426818     7022197      H  ...              5.0             2.0\n",
              "425023     7022197      M  ...              1.0             4.9\n",
              "431545     7022327      M  ...              1.0            14.5\n",
              "431911     7022327      H  ...              2.0             4.6\n",
              "425486     7023108      H  ...              3.0             4.6\n",
              "...            ...    ...  ...              ...             ...\n",
              "426563     7836711      M  ...              4.0            12.0\n",
              "421464     7836971      H  ...              3.0            15.1\n",
              "428620     7836971      M  ...              2.0             7.7\n",
              "422068     7838075      H  ...              2.0             3.5\n",
              "423702     7838075      M  ...              1.0             4.5\n",
              "\n",
              "[94 rows x 18 columns]"
            ],
            "text/html": [
              "<div>\n",
              "<style scoped>\n",
              "    .dataframe tbody tr th:only-of-type {\n",
              "        vertical-align: middle;\n",
              "    }\n",
              "\n",
              "    .dataframe tbody tr th {\n",
              "        vertical-align: top;\n",
              "    }\n",
              "\n",
              "    .dataframe thead th {\n",
              "        text-align: right;\n",
              "    }\n",
              "</style>\n",
              "<table border=\"1\" class=\"dataframe\">\n",
              "  <thead>\n",
              "    <tr style=\"text-align: right;\">\n",
              "      <th></th>\n",
              "      <th>ID_Cliente</th>\n",
              "      <th>Genero</th>\n",
              "      <th>Tem_Carro</th>\n",
              "      <th>Tem_Casa_Propria</th>\n",
              "      <th>Qtd_Filhos</th>\n",
              "      <th>Rendimento_Anual</th>\n",
              "      <th>Categoria_de_renda</th>\n",
              "      <th>Grau_Escolaridade</th>\n",
              "      <th>Estado_Civil</th>\n",
              "      <th>Moradia</th>\n",
              "      <th>Idade</th>\n",
              "      <th>Tem_Celular</th>\n",
              "      <th>Tem_telefone_trabalho</th>\n",
              "      <th>Tem_telefone_fixo</th>\n",
              "      <th>Tem_email</th>\n",
              "      <th>Ocupacao</th>\n",
              "      <th>Tamanho_Familia</th>\n",
              "      <th>Anos_empregado</th>\n",
              "    </tr>\n",
              "  </thead>\n",
              "  <tbody>\n",
              "    <tr>\n",
              "      <th>426818</th>\n",
              "      <td>7022197</td>\n",
              "      <td>H</td>\n",
              "      <td>1</td>\n",
              "      <td>1</td>\n",
              "      <td>3</td>\n",
              "      <td>135000.0</td>\n",
              "      <td>Empregado</td>\n",
              "      <td>Ensino medio</td>\n",
              "      <td>Casado</td>\n",
              "      <td>Casa propria</td>\n",
              "      <td>33.0</td>\n",
              "      <td>1</td>\n",
              "      <td>0</td>\n",
              "      <td>0</td>\n",
              "      <td>1</td>\n",
              "      <td>Construcao Civil</td>\n",
              "      <td>5.0</td>\n",
              "      <td>2.0</td>\n",
              "    </tr>\n",
              "    <tr>\n",
              "      <th>425023</th>\n",
              "      <td>7022197</td>\n",
              "      <td>M</td>\n",
              "      <td>0</td>\n",
              "      <td>1</td>\n",
              "      <td>0</td>\n",
              "      <td>450000.0</td>\n",
              "      <td>Associado comercial</td>\n",
              "      <td>Ensino superior</td>\n",
              "      <td>Separado</td>\n",
              "      <td>Casa propria</td>\n",
              "      <td>54.0</td>\n",
              "      <td>1</td>\n",
              "      <td>0</td>\n",
              "      <td>0</td>\n",
              "      <td>1</td>\n",
              "      <td>Outros</td>\n",
              "      <td>1.0</td>\n",
              "      <td>4.9</td>\n",
              "    </tr>\n",
              "    <tr>\n",
              "      <th>431545</th>\n",
              "      <td>7022327</td>\n",
              "      <td>M</td>\n",
              "      <td>0</td>\n",
              "      <td>1</td>\n",
              "      <td>0</td>\n",
              "      <td>135000.0</td>\n",
              "      <td>Associado comercial</td>\n",
              "      <td>Ensino medio</td>\n",
              "      <td>Solteiro</td>\n",
              "      <td>Casa propria</td>\n",
              "      <td>40.0</td>\n",
              "      <td>1</td>\n",
              "      <td>0</td>\n",
              "      <td>0</td>\n",
              "      <td>0</td>\n",
              "      <td>Alta tecnologia</td>\n",
              "      <td>1.0</td>\n",
              "      <td>14.5</td>\n",
              "    </tr>\n",
              "    <tr>\n",
              "      <th>431911</th>\n",
              "      <td>7022327</td>\n",
              "      <td>H</td>\n",
              "      <td>1</td>\n",
              "      <td>1</td>\n",
              "      <td>0</td>\n",
              "      <td>256500.0</td>\n",
              "      <td>Associado comercial</td>\n",
              "      <td>Ensino superior</td>\n",
              "      <td>Casado</td>\n",
              "      <td>Casa propria</td>\n",
              "      <td>59.0</td>\n",
              "      <td>1</td>\n",
              "      <td>0</td>\n",
              "      <td>0</td>\n",
              "      <td>1</td>\n",
              "      <td>Equipe principal</td>\n",
              "      <td>2.0</td>\n",
              "      <td>4.6</td>\n",
              "    </tr>\n",
              "    <tr>\n",
              "      <th>425486</th>\n",
              "      <td>7023108</td>\n",
              "      <td>H</td>\n",
              "      <td>1</td>\n",
              "      <td>1</td>\n",
              "      <td>1</td>\n",
              "      <td>67500.0</td>\n",
              "      <td>Empregado</td>\n",
              "      <td>Ensino medio</td>\n",
              "      <td>Casado</td>\n",
              "      <td>Casa propria</td>\n",
              "      <td>42.0</td>\n",
              "      <td>1</td>\n",
              "      <td>1</td>\n",
              "      <td>0</td>\n",
              "      <td>0</td>\n",
              "      <td>Equipe principal</td>\n",
              "      <td>3.0</td>\n",
              "      <td>4.6</td>\n",
              "    </tr>\n",
              "    <tr>\n",
              "      <th>...</th>\n",
              "      <td>...</td>\n",
              "      <td>...</td>\n",
              "      <td>...</td>\n",
              "      <td>...</td>\n",
              "      <td>...</td>\n",
              "      <td>...</td>\n",
              "      <td>...</td>\n",
              "      <td>...</td>\n",
              "      <td>...</td>\n",
              "      <td>...</td>\n",
              "      <td>...</td>\n",
              "      <td>...</td>\n",
              "      <td>...</td>\n",
              "      <td>...</td>\n",
              "      <td>...</td>\n",
              "      <td>...</td>\n",
              "      <td>...</td>\n",
              "      <td>...</td>\n",
              "    </tr>\n",
              "    <tr>\n",
              "      <th>426563</th>\n",
              "      <td>7836711</td>\n",
              "      <td>M</td>\n",
              "      <td>0</td>\n",
              "      <td>1</td>\n",
              "      <td>2</td>\n",
              "      <td>292500.0</td>\n",
              "      <td>Empregado</td>\n",
              "      <td>Ensino superior</td>\n",
              "      <td>Casado</td>\n",
              "      <td>Casa propria</td>\n",
              "      <td>38.0</td>\n",
              "      <td>1</td>\n",
              "      <td>0</td>\n",
              "      <td>1</td>\n",
              "      <td>0</td>\n",
              "      <td>Contabilidade</td>\n",
              "      <td>4.0</td>\n",
              "      <td>12.0</td>\n",
              "    </tr>\n",
              "    <tr>\n",
              "      <th>421464</th>\n",
              "      <td>7836971</td>\n",
              "      <td>H</td>\n",
              "      <td>1</td>\n",
              "      <td>0</td>\n",
              "      <td>1</td>\n",
              "      <td>157500.0</td>\n",
              "      <td>Empregado</td>\n",
              "      <td>Ensino medio</td>\n",
              "      <td>Casado</td>\n",
              "      <td>Casa propria</td>\n",
              "      <td>38.0</td>\n",
              "      <td>1</td>\n",
              "      <td>0</td>\n",
              "      <td>0</td>\n",
              "      <td>0</td>\n",
              "      <td>Outros</td>\n",
              "      <td>3.0</td>\n",
              "      <td>15.1</td>\n",
              "    </tr>\n",
              "    <tr>\n",
              "      <th>428620</th>\n",
              "      <td>7836971</td>\n",
              "      <td>M</td>\n",
              "      <td>0</td>\n",
              "      <td>1</td>\n",
              "      <td>0</td>\n",
              "      <td>103500.0</td>\n",
              "      <td>Empregado</td>\n",
              "      <td>Ensino medio</td>\n",
              "      <td>Uniao estavel</td>\n",
              "      <td>Casa propria</td>\n",
              "      <td>37.0</td>\n",
              "      <td>1</td>\n",
              "      <td>0</td>\n",
              "      <td>1</td>\n",
              "      <td>0</td>\n",
              "      <td>Venda</td>\n",
              "      <td>2.0</td>\n",
              "      <td>7.7</td>\n",
              "    </tr>\n",
              "    <tr>\n",
              "      <th>422068</th>\n",
              "      <td>7838075</td>\n",
              "      <td>H</td>\n",
              "      <td>0</td>\n",
              "      <td>1</td>\n",
              "      <td>0</td>\n",
              "      <td>337500.0</td>\n",
              "      <td>Associado comercial</td>\n",
              "      <td>Ensino medio</td>\n",
              "      <td>Casado</td>\n",
              "      <td>Casa propria</td>\n",
              "      <td>50.0</td>\n",
              "      <td>1</td>\n",
              "      <td>0</td>\n",
              "      <td>0</td>\n",
              "      <td>1</td>\n",
              "      <td>Motorista</td>\n",
              "      <td>2.0</td>\n",
              "      <td>3.5</td>\n",
              "    </tr>\n",
              "    <tr>\n",
              "      <th>423702</th>\n",
              "      <td>7838075</td>\n",
              "      <td>M</td>\n",
              "      <td>1</td>\n",
              "      <td>1</td>\n",
              "      <td>0</td>\n",
              "      <td>315000.0</td>\n",
              "      <td>Associado comercial</td>\n",
              "      <td>Ensino superior</td>\n",
              "      <td>Solteiro</td>\n",
              "      <td>Casa propria</td>\n",
              "      <td>29.0</td>\n",
              "      <td>1</td>\n",
              "      <td>0</td>\n",
              "      <td>0</td>\n",
              "      <td>1</td>\n",
              "      <td>Outros</td>\n",
              "      <td>1.0</td>\n",
              "      <td>4.5</td>\n",
              "    </tr>\n",
              "  </tbody>\n",
              "</table>\n",
              "<p>94 rows × 18 columns</p>\n",
              "</div>"
            ]
          },
          "metadata": {},
          "execution_count": 95
        }
      ],
      "metadata": {
        "id": "eC13bkWyDGqS",
        "colab": {
          "base_uri": "https://localhost:8080/",
          "height": 609
        },
        "outputId": "9ba4d484-0fe5-4c7a-dc87-14078fbb49cf"
      }
    },
    {
      "cell_type": "code",
      "execution_count": null,
      "source": [
        "df_clientes_cadastrados.query('ID_Cliente == 7022197')"
      ],
      "outputs": [
        {
          "output_type": "execute_result",
          "data": {
            "text/plain": [
              "        ID_Cliente Genero  ...  Tamanho_Familia  Anos_empregado\n",
              "425023     7022197      M  ...              1.0             4.9\n",
              "426818     7022197      H  ...              5.0             2.0\n",
              "\n",
              "[2 rows x 18 columns]"
            ],
            "text/html": [
              "<div>\n",
              "<style scoped>\n",
              "    .dataframe tbody tr th:only-of-type {\n",
              "        vertical-align: middle;\n",
              "    }\n",
              "\n",
              "    .dataframe tbody tr th {\n",
              "        vertical-align: top;\n",
              "    }\n",
              "\n",
              "    .dataframe thead th {\n",
              "        text-align: right;\n",
              "    }\n",
              "</style>\n",
              "<table border=\"1\" class=\"dataframe\">\n",
              "  <thead>\n",
              "    <tr style=\"text-align: right;\">\n",
              "      <th></th>\n",
              "      <th>ID_Cliente</th>\n",
              "      <th>Genero</th>\n",
              "      <th>Tem_Carro</th>\n",
              "      <th>Tem_Casa_Propria</th>\n",
              "      <th>Qtd_Filhos</th>\n",
              "      <th>Rendimento_Anual</th>\n",
              "      <th>Categoria_de_renda</th>\n",
              "      <th>Grau_Escolaridade</th>\n",
              "      <th>Estado_Civil</th>\n",
              "      <th>Moradia</th>\n",
              "      <th>Idade</th>\n",
              "      <th>Tem_Celular</th>\n",
              "      <th>Tem_telefone_trabalho</th>\n",
              "      <th>Tem_telefone_fixo</th>\n",
              "      <th>Tem_email</th>\n",
              "      <th>Ocupacao</th>\n",
              "      <th>Tamanho_Familia</th>\n",
              "      <th>Anos_empregado</th>\n",
              "    </tr>\n",
              "  </thead>\n",
              "  <tbody>\n",
              "    <tr>\n",
              "      <th>425023</th>\n",
              "      <td>7022197</td>\n",
              "      <td>M</td>\n",
              "      <td>0</td>\n",
              "      <td>1</td>\n",
              "      <td>0</td>\n",
              "      <td>450000.0</td>\n",
              "      <td>Associado comercial</td>\n",
              "      <td>Ensino superior</td>\n",
              "      <td>Separado</td>\n",
              "      <td>Casa propria</td>\n",
              "      <td>54.0</td>\n",
              "      <td>1</td>\n",
              "      <td>0</td>\n",
              "      <td>0</td>\n",
              "      <td>1</td>\n",
              "      <td>Outros</td>\n",
              "      <td>1.0</td>\n",
              "      <td>4.9</td>\n",
              "    </tr>\n",
              "    <tr>\n",
              "      <th>426818</th>\n",
              "      <td>7022197</td>\n",
              "      <td>H</td>\n",
              "      <td>1</td>\n",
              "      <td>1</td>\n",
              "      <td>3</td>\n",
              "      <td>135000.0</td>\n",
              "      <td>Empregado</td>\n",
              "      <td>Ensino medio</td>\n",
              "      <td>Casado</td>\n",
              "      <td>Casa propria</td>\n",
              "      <td>33.0</td>\n",
              "      <td>1</td>\n",
              "      <td>0</td>\n",
              "      <td>0</td>\n",
              "      <td>1</td>\n",
              "      <td>Construcao Civil</td>\n",
              "      <td>5.0</td>\n",
              "      <td>2.0</td>\n",
              "    </tr>\n",
              "  </tbody>\n",
              "</table>\n",
              "</div>"
            ]
          },
          "metadata": {},
          "execution_count": 96
        }
      ],
      "metadata": {
        "id": "I3s_e6BfDIbS",
        "colab": {
          "base_uri": "https://localhost:8080/",
          "height": 165
        },
        "outputId": "b5801ce4-589c-49a1-8ff2-8eaf00520ff6"
      }
    },
    {
      "cell_type": "markdown",
      "source": [
        "Analisando o caso do ID 7022197 notamos um perfil de cliente muito diferente para ser um caso de atualização de cadastro."
      ],
      "metadata": {
        "id": "TEtMMckPDJ0T"
      }
    },
    {
      "cell_type": "markdown",
      "source": [
        "###Desafio 2: Explorar as colunas (features) identificar contínuas, categóricas e binárias."
      ],
      "metadata": {
        "id": "zc9ifkp1DM4T"
      }
    },
    {
      "cell_type": "markdown",
      "source": [
        "**Variável qualitativas ou categóricas**\n",
        "\n",
        "As variáveis categóricas representam uma classificação, apresentam um número finito de categorias ou grupos distintos. Podem ser nominais ou ordinais:\n",
        " \n",
        "* **Nominais**  \n",
        "\n",
        "  Quando as categorias não podem ser ordenadas. Exemplos: Gênero, raça etc.\n",
        "\n",
        "* **Ordinais**\n",
        "\n",
        "  Quando as categorias podem ser ordenadas. Exemplos: escolaridade, patentes militares etc.\n",
        "\n",
        "**Variável quantitativas**\n",
        "\n",
        "Podem ser discretas ou contínuas:\n",
        " \n",
        "* **Variável discreta**:\n",
        "\n",
        "  Variáveis que representam uma contagem, onde os valores possíveis formam um conjunto finito ou infinito enumerável. Uma variável discreta é sempre numérica. Exemplo: número de filhos, tamanho da família etc.\n",
        "\n",
        "* **Variável contínua**\n",
        "\n",
        "  Variáveis que representam uma mensuração. Variáveis contínuas assumem valores em uma escala contínua (números reais), ou seja, são variáveis numéricas que podem assumir um número infinito de valores dentro de um intervalo. Exemplo: altura, peso etc.\n",
        "\n",
        "A forma como uma variável é coletada pode alterar a sua classificação natural. Por exemplo, a informação de idade é tecnicamente uma variável contínua, visto que se soubermos a data de nascimento de uma pessoa podemos obter sua idade exata (em anos, meses, dias etc.) que seria representada por um número fracionário (float).\n",
        "\n",
        "Acontece que em boa parte dos cadastros não temos a informação de data de nascimento das pessoas e sim sua idade em anos completos. Neste caso temos uma variável discreta.\n",
        "\n",
        "Outra forma bastante comum de se encontrar informações de idade é em faixas etárias. Nesta situação passamos a trabalhar com uma variável qualitativa ordinal.\n"
      ],
      "metadata": {
        "id": "kraBzuCZDOzf"
      }
    },
    {
      "cell_type": "code",
      "execution_count": null,
      "source": [
        "# colunas_quantitativas = ['Idade', 'Qtd_Filhos', 'Rendimento_Anual', 'Anos_empregado', 'Tamanho_Familia']"
      ],
      "outputs": [],
      "metadata": {
        "id": "Y42qritoDQXG"
      }
    },
    {
      "cell_type": "code",
      "execution_count": null,
      "source": [
        "# colunas_categoricas = ['Genero', 'Tem_Carro', 'Tem_Casa_Propria',\n",
        "#                        'Categoria_de_renda', 'Grau_Escolaridade',\n",
        "#                        'Estado_Civil', 'Moradia', 'Tem_Celular',\n",
        "#                        'Tem_telefone_trabalho', 'Tem_telefone_fixo', 'Tem_email',\n",
        "#                        'Ocupacao']"
      ],
      "outputs": [],
      "metadata": {
        "id": "pGELsGcyDRLT"
      }
    },
    {
      "cell_type": "code",
      "execution_count": null,
      "source": [
        "# colunas_categoricas_binarias = ['Tem_Carro',\n",
        "#                                 'Tem_Casa_Propria',\n",
        "#                                 'Tem_telefone_trabalho',\n",
        "#                                 'Tem_telefone_fixo',\n",
        "#                                 'Tem_email']"
      ],
      "outputs": [],
      "metadata": {
        "id": "8VwlagbdDTBF"
      }
    },
    {
      "cell_type": "code",
      "execution_count": null,
      "source": [
        "# colunas_categoricas_nao_binarias = ['Categoria_de_renda',\n",
        "#                                     'Grau_Escolaridade',\n",
        "#                                     'Estado_Civil',\n",
        "#                                     'Moradia',\n",
        "#                                     'Ocupacao']"
      ],
      "outputs": [],
      "metadata": {
        "id": "a4UqhGTDDUAV"
      }
    },
    {
      "cell_type": "markdown",
      "source": [
        "## Desafios aula 2:"
      ],
      "metadata": {
        "id": "HEzJCxsGEIZ4"
      }
    },
    {
      "cell_type": "markdown",
      "source": [
        "###Desafio 1: Explorar outras maneiras de identificar e de tratar os outliers"
      ],
      "metadata": {
        "id": "E1b3KKhGFds6"
      }
    },
    {
      "cell_type": "markdown",
      "source": [
        "Podemos usar o box plot para identificar outliers"
      ],
      "metadata": {
        "id": "3LF9TqEk6QmC"
      }
    },
    {
      "cell_type": "code",
      "execution_count": null,
      "source": [
        "df_clientes_cadastrados_ID_unicos.shape"
      ],
      "outputs": [
        {
          "output_type": "execute_result",
          "data": {
            "text/plain": [
              "(438463, 18)"
            ]
          },
          "metadata": {},
          "execution_count": 101
        }
      ],
      "metadata": {
        "id": "M6r4Zey6aRQf",
        "colab": {
          "base_uri": "https://localhost:8080/"
        },
        "outputId": "9fbadfa7-31fa-433f-c475-e083d253a919"
      }
    },
    {
      "cell_type": "code",
      "execution_count": null,
      "source": [
        "sns.boxplot(data=df_clientes_cadastrados_ID_unicos, x='Rendimento_Anual')\n",
        "plt.xticks(rotation=45)\n",
        "plt.show()"
      ],
      "outputs": [
        {
          "output_type": "display_data",
          "data": {
            "text/plain": [
              "<Figure size 432x288 with 1 Axes>"
            ],
            "image/png": "[encoded data removed]"
          },
          "metadata": {}
        }
      ],
      "metadata": {
        "id": "LUNWtZPLIjwq",
        "colab": {
          "base_uri": "https://localhost:8080/",
          "height": 287
        },
        "outputId": "cbbffd69-27bd-44cb-d666-03c79a7f2eff"
      }
    },
    {
      "cell_type": "markdown",
      "source": [
        "Podemos também utilizar alguns métodos estatísitcos que nos ajudem a identificar dados discrepantes em nossa distribuição. Um destes métodos é o z-score.\n",
        "\n",
        "A aplicação de métodos como o z-score dependem da premissa de que a distibuição dos dados segue uma distribuição normal. O problema aqui é que nossa variável **Rendimento Anual**, como a maioria das variáveis desta natureza, apresenta forte assimetria a direta, como é possível notar no box plot acima.\n",
        "\n",
        "Um teste visual e bem simples sobre a normalidade dos dados pode ser feito com o uso de um qqplot. Este gráfico mostra uma comparação entre os quantis da distribuição empírica (nossos dados) versus os quantis da distribuição teórica. Abaixo temos um exemplo de como este gráfico deve se comportar quando uma distribuição segue uma normal."
      ],
      "metadata": {
        "id": "16hLY-y1UcaJ"
      }
    },
    {
      "cell_type": "code",
      "execution_count": null,
      "source": [
        "from scipy import stats\n",
        "\n",
        "np.random.seed(100)\n",
        "normal = np.random.normal(0, 1, 100)\n",
        "\n",
        "fig = plt.figure()\n",
        "ax = fig.add_subplot()\n",
        "stats.probplot(normal, dist='norm', plot=ax)\n",
        "plt.show()"
      ],
      "outputs": [
        {
          "output_type": "display_data",
          "data": {
            "text/plain": [
              "<Figure size 432x288 with 1 Axes>"
            ],
            "image/png": "[encoded data removed]"
          },
          "metadata": {}
        }
      ],
      "metadata": {
        "colab": {
          "base_uri": "https://localhost:8080/",
          "height": 301
        },
        "id": "QdKn3J-lUU4t",
        "outputId": "2eaae955-b71a-4a97-b16d-6f2770f5290b"
      }
    },
    {
      "cell_type": "markdown",
      "source": [
        "Quando aplicamos em nossos dados de **Rendimento Anual** observamos um comportamento bastante diferente do esperado."
      ],
      "metadata": {
        "id": "l8jrOCJQVack"
      }
    },
    {
      "cell_type": "code",
      "execution_count": null,
      "source": [
        "fig = plt.figure()\n",
        "ax = fig.add_subplot()\n",
        "stats.probplot(df_clientes_cadastrados_ID_unicos['Rendimento_Anual'], dist='norm', plot=ax)\n",
        "plt.show()"
      ],
      "outputs": [
        {
          "output_type": "display_data",
          "data": {
            "text/plain": [
              "<Figure size 432x288 with 1 Axes>"
            ],
            "image/png": "[encoded data removed]"
          },
          "metadata": {}
        }
      ],
      "metadata": {
        "id": "Hn8FfyREc10w",
        "colab": {
          "base_uri": "https://localhost:8080/",
          "height": 301
        },
        "outputId": "b3e297a5-4682-41be-d3f2-b05a8cb05c51"
      }
    },
    {
      "cell_type": "markdown",
      "source": [
        "Dados como o nosso **Rendimento Anual** são bastante assimétricos a direita (muitos ganhando pouco e poucos ganhando muito). Nestes casos uma distribuição lognormal é frequentemente mais apropriada do que uma distribuição normal. Esta família de distribuições tem o nome lognormal porque, nos casos mais simples, os logaritmos das observações seguem uma distribuição normal.\n",
        "\n",
        "Nestes casos uma simples transformação logarítmica torna a distribuição dos dados próxima de uma normal e nos permite aplicar as técnicas que dependem desta premissa.\n",
        "\n",
        "Mais informações sobre como detectar e tratar outliers podem ser encontradas em:\n",
        "> Boris Iglewicz and David Hoaglin (1993), \"Volume 16: How to Detect and Handle Outliers\", The ASQC Basic References in Quality Control: Statistical Techniques, Edward F. Mykytka, Ph.D., Editor."
      ],
      "metadata": {
        "id": "p4NMVf60VhUy"
      }
    },
    {
      "cell_type": "code",
      "execution_count": null,
      "source": [
        "df_clientes_cadastrados_ID_unicos['Log_Rendimento_Anual'] = np.log(df_clientes_cadastrados_ID_unicos['Rendimento_Anual'])"
      ],
      "outputs": [],
      "metadata": {
        "id": "KskPGYlzVly1"
      }
    },
    {
      "cell_type": "markdown",
      "source": [
        "Obtendo o qqplot da variável transformada vemos um comportamento bem próximo do esperado."
      ],
      "metadata": {
        "id": "_NK45EIUVpYa"
      }
    },
    {
      "cell_type": "code",
      "execution_count": null,
      "source": [
        "fig = plt.figure()\n",
        "ax = fig.add_subplot()\n",
        "stats.probplot(df_clientes_cadastrados_ID_unicos['Log_Rendimento_Anual'], dist='norm', plot=ax)\n",
        "plt.show()"
      ],
      "outputs": [
        {
          "output_type": "display_data",
          "data": {
            "text/plain": [
              "<Figure size 432x288 with 1 Axes>"
            ],
            "image/png": "[encoded data removed]"
          },
          "metadata": {}
        }
      ],
      "metadata": {
        "colab": {
          "base_uri": "https://localhost:8080/",
          "height": 301
        },
        "id": "3jWYvnFeVrDq",
        "outputId": "1d168a8c-4e1f-4cdf-bf06-298ef27cee0f"
      }
    },
    {
      "cell_type": "code",
      "execution_count": null,
      "source": [
        "sns.boxplot(data=df_clientes_cadastrados_ID_unicos, x='Log_Rendimento_Anual')\n",
        "plt.xticks(rotation=45)\n",
        "plt.show()"
      ],
      "outputs": [
        {
          "output_type": "display_data",
          "data": {
            "text/plain": [
              "<Figure size 432x288 with 1 Axes>"
            ],
            "image/png": "[encoded data removed]"
          },
          "metadata": {}
        }
      ],
      "metadata": {
        "colab": {
          "base_uri": "https://localhost:8080/",
          "height": 292
        },
        "id": "geNgBJI7Vtex",
        "outputId": "38dad1a1-2720-4b15-903d-57d07bddc828"
      }
    },
    {
      "cell_type": "markdown",
      "source": [
        "Calculamos o Z-Score"
      ],
      "metadata": {
        "id": "foJsYFaWMF_l"
      }
    },
    {
      "cell_type": "code",
      "execution_count": null,
      "source": [
        "z_scores = stats.zscore(df_clientes_cadastrados_ID_unicos['Log_Rendimento_Anual'])\n",
        "z_scores"
      ],
      "outputs": [
        {
          "output_type": "execute_result",
          "data": {
            "text/plain": [
              "array([ 1.98263391,  1.98263391, -0.82833359, ..., -2.37377318,\n",
              "       -1.76803212, -0.66628504])"
            ]
          },
          "metadata": {},
          "execution_count": 108
        }
      ],
      "metadata": {
        "id": "AE4fL7BXQo9S",
        "colab": {
          "base_uri": "https://localhost:8080/"
        },
        "outputId": "aaaf41d3-c5aa-4ef6-a8ad-75d79a79a6e0"
      }
    },
    {
      "cell_type": "markdown",
      "source": [
        "Calculamos o valor absoluto de todos os z scores calculados"
      ],
      "metadata": {
        "id": "XXrpcyczMPM5"
      }
    },
    {
      "cell_type": "code",
      "execution_count": null,
      "source": [
        "z_scores_abs = np.abs(z_scores)\n",
        "z_scores_abs"
      ],
      "outputs": [
        {
          "output_type": "execute_result",
          "data": {
            "text/plain": [
              "array([1.98263391, 1.98263391, 0.82833359, ..., 2.37377318, 1.76803212,\n",
              "       0.66628504])"
            ]
          },
          "metadata": {},
          "execution_count": 109
        }
      ],
      "metadata": {
        "id": "sQxBIC4MQuUC",
        "colab": {
          "base_uri": "https://localhost:8080/"
        },
        "outputId": "cac9deda-bb7e-4ae8-dd2a-1ca7b3912f83"
      }
    },
    {
      "cell_type": "markdown",
      "source": [
        "Filtramos os valores que tem z-score absoluto menor que 3, que não são outliers."
      ],
      "metadata": {
        "id": "5Hcj7FQJMUeL"
      }
    },
    {
      "cell_type": "code",
      "execution_count": null,
      "source": [
        "filtro_outliers = z_scores_abs < 3\n",
        "filtro_outliers"
      ],
      "outputs": [
        {
          "output_type": "execute_result",
          "data": {
            "text/plain": [
              "array([ True,  True,  True, ...,  True,  True,  True])"
            ]
          },
          "metadata": {},
          "execution_count": 110
        }
      ],
      "metadata": {
        "id": "s5qTr3m6QzMm",
        "colab": {
          "base_uri": "https://localhost:8080/"
        },
        "outputId": "65cc3d58-d7f9-4ea9-dc9e-d01cb5187d8d"
      }
    },
    {
      "cell_type": "markdown",
      "source": [
        "Aplicamos o filtro no nosso dataframe e ficamos com 436.456"
      ],
      "metadata": {
        "id": "5xYcVWpBMfH7"
      }
    },
    {
      "cell_type": "code",
      "execution_count": null,
      "source": [
        "df_clientes_cadastrados_ID_unicos[filtro_outliers].shape"
      ],
      "outputs": [
        {
          "output_type": "execute_result",
          "data": {
            "text/plain": [
              "(436456, 19)"
            ]
          },
          "metadata": {},
          "execution_count": 111
        }
      ],
      "metadata": {
        "id": "yhdrro09Q0ZL",
        "colab": {
          "base_uri": "https://localhost:8080/"
        },
        "outputId": "f99cae1a-59b8-4e64-912e-150e043d6959"
      }
    },
    {
      "cell_type": "markdown",
      "source": [
        "Na técnica aplicada no curso ficamos com 425.822"
      ],
      "metadata": {
        "id": "J30vKkxHMmsW"
      }
    },
    {
      "cell_type": "code",
      "execution_count": null,
      "source": [
        "df_clientes_cadastrados_sem_outliers.shape"
      ],
      "outputs": [
        {
          "output_type": "execute_result",
          "data": {
            "text/plain": [
              "(425822, 18)"
            ]
          },
          "metadata": {},
          "execution_count": 112
        }
      ],
      "metadata": {
        "id": "yMw68MVYWHE7",
        "colab": {
          "base_uri": "https://localhost:8080/"
        },
        "outputId": "184b80f1-e0cc-4a89-dd88-da9d6910a549"
      }
    },
    {
      "cell_type": "markdown",
      "source": [
        "E originalmente nós tinhamos 438.463"
      ],
      "metadata": {
        "id": "9qMj60TkMs4g"
      }
    },
    {
      "cell_type": "code",
      "execution_count": null,
      "source": [
        "df_clientes_cadastrados_ID_unicos.shape"
      ],
      "outputs": [
        {
          "output_type": "execute_result",
          "data": {
            "text/plain": [
              "(438463, 19)"
            ]
          },
          "metadata": {},
          "execution_count": 113
        }
      ],
      "metadata": {
        "id": "yXXKb4IMWBbW",
        "colab": {
          "base_uri": "https://localhost:8080/"
        },
        "outputId": "35b83b2c-4be4-435b-8c2c-0e93a382cee5"
      }
    },
    {
      "cell_type": "markdown",
      "source": [
        "Ainda temos alguns outliers podemos mudar o nosso valor de corte do z-score"
      ],
      "metadata": {
        "id": "9ANbJw8uONnk"
      }
    },
    {
      "cell_type": "code",
      "execution_count": null,
      "source": [
        "sns.boxplot(data=df_clientes_cadastrados_ID_unicos[filtro_outliers], x='Log_Rendimento_Anual')\n",
        "plt.xticks(rotation=45)\n",
        "plt.show()"
      ],
      "outputs": [
        {
          "output_type": "display_data",
          "data": {
            "text/plain": [
              "<Figure size 432x288 with 1 Axes>"
            ],
            "image/png": "[encoded data removed]"
          },
          "metadata": {}
        }
      ],
      "metadata": {
        "colab": {
          "base_uri": "https://localhost:8080/",
          "height": 299
        },
        "id": "lYVMUh3DWR6t",
        "outputId": "fcad5925-b030-4c25-b545-6302b645adc7"
      }
    },
    {
      "cell_type": "code",
      "execution_count": null,
      "source": [
        "sns.boxplot(data=df_clientes_cadastrados_ID_unicos[filtro_outliers], x='Rendimento_Anual')\n",
        "plt.xticks(rotation=45)\n",
        "plt.show()"
      ],
      "outputs": [
        {
          "output_type": "display_data",
          "data": {
            "text/plain": [
              "<Figure size 432x288 with 1 Axes>"
            ],
            "image/png": "[encoded data removed]"
          },
          "metadata": {}
        }
      ],
      "metadata": {
        "id": "Rk88gmAJM04L",
        "colab": {
          "base_uri": "https://localhost:8080/",
          "height": 312
        },
        "outputId": "126cbe89-ae03-44a9-97e4-6f3801f8949a"
      }
    },
    {
      "cell_type": "markdown",
      "source": [
        "Lembre-se sempre que na identificação e tratamento de outliers é sempre importante o cientista de dados avaliar caso a caso. Em algumas situações informações que parecem discrepantes são na verdade válidas e importantes de serem consideradas no processo de modelagem."
      ],
      "metadata": {
        "id": "oUHxlh3mWaYc"
      }
    },
    {
      "cell_type": "markdown",
      "source": [
        "###Desafio 2: Criar uma função para gerar os nosso gráficos"
      ],
      "metadata": {
        "id": "LYfhAfmMFk4f"
      }
    },
    {
      "cell_type": "markdown",
      "source": [
        "Utilizando apenas um **for** conseguimos construir uma função de plot automático das features, mas há bastante espaço para melhor formatar os gráficos."
      ],
      "metadata": {
        "id": "ITsFaOfAOXzs"
      }
    },
    {
      "cell_type": "code",
      "execution_count": null,
      "source": [
        "def countplot_lista(lista_colunas):\n",
        "  for coluna in lista_colunas:\n",
        "    sns.countplot(x = coluna, data = df_clientes_cadastrados_sem_outliers)\n",
        "    plt.xticks(rotation=45, ha='right')\n",
        "    plt.show()"
      ],
      "outputs": [],
      "metadata": {
        "id": "YhsQgIpvWiKB"
      }
    },
    {
      "cell_type": "code",
      "execution_count": null,
      "source": [
        "lista_colunas = ['Estado_Civil', 'Genero', 'Grau_Escolaridade', 'Tem_email']\n",
        "countplot_lista(lista_colunas)"
      ],
      "outputs": [
        {
          "output_type": "display_data",
          "data": {
            "text/plain": [
              "<Figure size 432x288 with 1 Axes>"
            ],
            "image/png": "[encoded data removed]"
          },
          "metadata": {}
        },
        {
          "output_type": "display_data",
          "data": {
            "text/plain": [
              "<Figure size 432x288 with 1 Axes>"
            ],
            "image/png": "[encoded data removed]"
          },
          "metadata": {}
        },
        {
          "output_type": "display_data",
          "data": {
            "text/plain": [
              "<Figure size 432x288 with 1 Axes>"
            ],
            "image/png": "[encoded data removed]"
          },
          "metadata": {}
        },
        {
          "output_type": "display_data",
          "data": {
            "text/plain": [
              "<Figure size 432x288 with 1 Axes>"
            ],
            "image/png": "[encoded data removed]"
          },
          "metadata": {}
        }
      ],
      "metadata": {
        "id": "UfeziBJa6KBw",
        "colab": {
          "base_uri": "https://localhost:8080/",
          "height": 1000
        },
        "outputId": "6f4e7a5a-0e51-4d68-8a3e-b122491cc5c3"
      }
    },
    {
      "cell_type": "markdown",
      "source": [
        "###Desafio 3: Continuar a analise exploratória dos dados"
      ],
      "metadata": {
        "id": "2lHLf_GmFmPm"
      }
    },
    {
      "cell_type": "markdown",
      "source": [
        "Aplicar os conceitos aprendidos nos primeiros módulos para explorar todas as features e aprender mais sobre os nossos dados."
      ],
      "metadata": {
        "id": "r3LWPuybNCc3"
      }
    },
    {
      "cell_type": "markdown",
      "source": [
        "##Desafios aula 3:"
      ],
      "metadata": {
        "id": "d3WUddT3FukX"
      }
    },
    {
      "cell_type": "markdown",
      "source": [
        "###Desafio 1: Criar uma tabela com a quantidade clientes relativo a base por faixas de atraso"
      ],
      "metadata": {
        "id": "YnY6xtXjF2RW"
      }
    },
    {
      "cell_type": "markdown",
      "source": [
        "Primeiro vou incluir uma nova faixa de atraso no nosso dicionário **dict_intervalo_atraso**, ela vai ser necessária para classificarmos os atrasos de 1 a 29 dias, que têm o índice igual a 2."
      ],
      "metadata": {
        "id": "H9Xno2vJ6bdl"
      }
    },
    {
      "cell_type": "code",
      "execution_count": null,
      "source": [
        "dict_intervalo_atraso['maior_1_dia'] = 2"
      ],
      "outputs": [],
      "metadata": {
        "id": "IGU0_qGFTS1y"
      }
    },
    {
      "cell_type": "markdown",
      "source": [
        "Agora podemos criar uma nova coluna que vai guardar a classificação de Mau para dívidas com algum atraso, para isso vamos usar o apply que vai verificar se o ind_faixa_atraso é maior ou igual a 2 e classificar como 1."
      ],
      "metadata": {
        "id": "s9XGONBd-EAt"
      }
    },
    {
      "cell_type": "code",
      "execution_count": null,
      "source": [
        "chave = 'maior_1_dia'\n",
        "valor = 2\n",
        "df_clientes_aprovados[f'Mau_{chave}'] = df_clientes_aprovados.apply(lambda x: 1 if x['Ind_Faixa_atraso'] >= valor else 0, axis=1)\n",
        "df_clientes_aprovados.head()"
      ],
      "outputs": [
        {
          "output_type": "execute_result",
          "data": {
            "text/plain": [
              "   ID_Cliente  Mes_referencia  ... Mau_maior_150_dias  Mau_maior_1_dia\n",
              "0     5001711               0  ...                  0                0\n",
              "1     5001711              -1  ...                  0                1\n",
              "2     5001711              -2  ...                  0                1\n",
              "3     5001711              -3  ...                  0                1\n",
              "4     5001712               0  ...                  0                0\n",
              "\n",
              "[5 rows x 15 columns]"
            ],
            "text/html": [
              "<div>\n",
              "<style scoped>\n",
              "    .dataframe tbody tr th:only-of-type {\n",
              "        vertical-align: middle;\n",
              "    }\n",
              "\n",
              "    .dataframe tbody tr th {\n",
              "        vertical-align: top;\n",
              "    }\n",
              "\n",
              "    .dataframe thead th {\n",
              "        text-align: right;\n",
              "    }\n",
              "</style>\n",
              "<table border=\"1\" class=\"dataframe\">\n",
              "  <thead>\n",
              "    <tr style=\"text-align: right;\">\n",
              "      <th></th>\n",
              "      <th>ID_Cliente</th>\n",
              "      <th>Mes_referencia</th>\n",
              "      <th>Faixa_atraso</th>\n",
              "      <th>Abertura</th>\n",
              "      <th>Final</th>\n",
              "      <th>Janela</th>\n",
              "      <th>MOB</th>\n",
              "      <th>Ind_Faixa_atraso</th>\n",
              "      <th>Mau</th>\n",
              "      <th>Mau_maior_30_dias</th>\n",
              "      <th>Mau_maior_60_dias</th>\n",
              "      <th>Mau_maior_90_dias</th>\n",
              "      <th>Mau_maior_120_dias</th>\n",
              "      <th>Mau_maior_150_dias</th>\n",
              "      <th>Mau_maior_1_dia</th>\n",
              "    </tr>\n",
              "  </thead>\n",
              "  <tbody>\n",
              "    <tr>\n",
              "      <th>0</th>\n",
              "      <td>5001711</td>\n",
              "      <td>0</td>\n",
              "      <td>nenhum empréstimo</td>\n",
              "      <td>-3</td>\n",
              "      <td>0</td>\n",
              "      <td>3</td>\n",
              "      <td>3</td>\n",
              "      <td>0</td>\n",
              "      <td>0</td>\n",
              "      <td>0</td>\n",
              "      <td>0</td>\n",
              "      <td>0</td>\n",
              "      <td>0</td>\n",
              "      <td>0</td>\n",
              "      <td>0</td>\n",
              "    </tr>\n",
              "    <tr>\n",
              "      <th>1</th>\n",
              "      <td>5001711</td>\n",
              "      <td>-1</td>\n",
              "      <td>1-29 dias</td>\n",
              "      <td>-3</td>\n",
              "      <td>0</td>\n",
              "      <td>3</td>\n",
              "      <td>2</td>\n",
              "      <td>2</td>\n",
              "      <td>0</td>\n",
              "      <td>0</td>\n",
              "      <td>0</td>\n",
              "      <td>0</td>\n",
              "      <td>0</td>\n",
              "      <td>0</td>\n",
              "      <td>1</td>\n",
              "    </tr>\n",
              "    <tr>\n",
              "      <th>2</th>\n",
              "      <td>5001711</td>\n",
              "      <td>-2</td>\n",
              "      <td>1-29 dias</td>\n",
              "      <td>-3</td>\n",
              "      <td>0</td>\n",
              "      <td>3</td>\n",
              "      <td>1</td>\n",
              "      <td>2</td>\n",
              "      <td>0</td>\n",
              "      <td>0</td>\n",
              "      <td>0</td>\n",
              "      <td>0</td>\n",
              "      <td>0</td>\n",
              "      <td>0</td>\n",
              "      <td>1</td>\n",
              "    </tr>\n",
              "    <tr>\n",
              "      <th>3</th>\n",
              "      <td>5001711</td>\n",
              "      <td>-3</td>\n",
              "      <td>1-29 dias</td>\n",
              "      <td>-3</td>\n",
              "      <td>0</td>\n",
              "      <td>3</td>\n",
              "      <td>0</td>\n",
              "      <td>2</td>\n",
              "      <td>0</td>\n",
              "      <td>0</td>\n",
              "      <td>0</td>\n",
              "      <td>0</td>\n",
              "      <td>0</td>\n",
              "      <td>0</td>\n",
              "      <td>1</td>\n",
              "    </tr>\n",
              "    <tr>\n",
              "      <th>4</th>\n",
              "      <td>5001712</td>\n",
              "      <td>0</td>\n",
              "      <td>pagamento realizado</td>\n",
              "      <td>-18</td>\n",
              "      <td>0</td>\n",
              "      <td>18</td>\n",
              "      <td>18</td>\n",
              "      <td>1</td>\n",
              "      <td>0</td>\n",
              "      <td>0</td>\n",
              "      <td>0</td>\n",
              "      <td>0</td>\n",
              "      <td>0</td>\n",
              "      <td>0</td>\n",
              "      <td>0</td>\n",
              "    </tr>\n",
              "  </tbody>\n",
              "</table>\n",
              "</div>"
            ]
          },
          "metadata": {},
          "execution_count": 119
        }
      ],
      "metadata": {
        "id": "gjeSkCbOTUWa",
        "colab": {
          "base_uri": "https://localhost:8080/",
          "height": 258
        },
        "outputId": "5e3cd418-78ac-403c-8673-df787e44887a"
      }
    },
    {
      "cell_type": "markdown",
      "source": [
        "Agora vamos calcular a taxa de mau para todos os intervalos de atraso. (Numero da linha. Explicação).\n",
        "\n",
        "1. Precisamos de um dicionário que vai armazenar os valores calculados.\n",
        "\n",
        "2. Vamos calcular a quantidade de clientes na base, acessando a coluna **ID_Cliente**, depois utilizar o **set** para pegar os IDs sem repetição e por fim utilizamos o **len** para calcular a quantidade e salvamos na váriavel **id_sum**.\n",
        "\n",
        "4. Agora vamos calcular a taxa de Mau por cada intervalor de atraso, para isso vamos iterar no dicionário **dict_intervalo_atraso.keys**.\n",
        "\n",
        "5. Primeiro agrupamos os IDS, olhamos para as colunas dos Maus para um determinado intervalo, depois aplicamos o **agg** com o parâmetro **sum**, calculando assim a quantidade mau e vamos salvar essa series na variável **ser_qtd_vezes_mau**.\n",
        "\n",
        "6. Agora podemos unir o nosso dataframe de registro de clientes com a nossa series quantidade de mau, vamos salvar essa união no dataframe **df_clientes_aprovados_merge**.\n",
        "\n",
        "7. Utilizando o **loc** vamos pegar todos os clientes que foram pelo menos uma vez classificados com 1 na coluna Mau daquele intervalo e incluir o valor 1 nessa coluna.\n",
        "\n",
        "8. Agora finalmente para calcular a taxa de mau, vamos usar o **sum** para somar todos os uns que tivermos no nosso dataframe **df_clientes_aprovados_merge** e dividir por **id_sum**.\n",
        "\n",
        "9. Por fim vamos salvar esse valor no nosso dicionário e indicar através da chave qual intervalo corresponde a essa taxa de mau.\n",
        "\n",
        "11. Depois que calcularmos para todos os intervalos vamos criar um dataframe com esse dicionário.\n",
        "\n",
        "13. Ordenar pela texa de mau.\n",
        "\n",
        "14. E finalmente exibir esse dataframe.\n",
        "\n"
      ],
      "metadata": {
        "id": "leV_Yy2a-fiS"
      }
    },
    {
      "cell_type": "code",
      "execution_count": null,
      "source": [
        "dict_taxa_mau_merge = {}\n",
        "id_sum = len(set(df_clientes_aprovados['ID_Cliente']))\n",
        "\n",
        "for chave in dict_intervalo_atraso.keys():\n",
        "  ser_qtd_vezes_mau = df_clientes_aprovados.groupby('ID_Cliente')[f'Mau_{chave}'].agg(sum)\n",
        "  df_clientes_aprovados_merge = pd.merge(df_registros_creditos_ID, ser_qtd_vezes_mau, on='ID_Cliente', how='left')\n",
        "  df_clientes_aprovados_merge.loc[df_clientes_aprovados_merge[f'Mau_{chave}'] > 1, f'Mau_{chave}'] = 1\n",
        "  taxa_mau = df_clientes_aprovados_merge[f'Mau_{chave}'].sum() / id_sum\n",
        "  dict_taxa_mau_merge[chave] = taxa_mau\n",
        "\n",
        "df_taxa_mau_merge = pd.DataFrame({'Faixa_atrasos': list(dict_taxa_mau_merge.keys()),\n",
        "                                  'Taxa_Maus': list(dict_taxa_mau_merge.values())})\n",
        "df_taxa_mau_merge = df_taxa_mau_merge.sort_values('Taxa_Maus', ascending=False)\n",
        "df_taxa_mau_merge"
      ],
      "outputs": [
        {
          "output_type": "execute_result",
          "data": {
            "text/plain": [
              "    Faixa_atrasos  Taxa_Maus\n",
              "5     maior_1_dia   0.870545\n",
              "0   maior_30_dias   0.116342\n",
              "1   maior_60_dias   0.014505\n",
              "2   maior_90_dias   0.007198\n",
              "3  maior_120_dias   0.005284\n",
              "4  maior_150_dias   0.004241"
            ],
            "text/html": [
              "<div>\n",
              "<style scoped>\n",
              "    .dataframe tbody tr th:only-of-type {\n",
              "        vertical-align: middle;\n",
              "    }\n",
              "\n",
              "    .dataframe tbody tr th {\n",
              "        vertical-align: top;\n",
              "    }\n",
              "\n",
              "    .dataframe thead th {\n",
              "        text-align: right;\n",
              "    }\n",
              "</style>\n",
              "<table border=\"1\" class=\"dataframe\">\n",
              "  <thead>\n",
              "    <tr style=\"text-align: right;\">\n",
              "      <th></th>\n",
              "      <th>Faixa_atrasos</th>\n",
              "      <th>Taxa_Maus</th>\n",
              "    </tr>\n",
              "  </thead>\n",
              "  <tbody>\n",
              "    <tr>\n",
              "      <th>5</th>\n",
              "      <td>maior_1_dia</td>\n",
              "      <td>0.870545</td>\n",
              "    </tr>\n",
              "    <tr>\n",
              "      <th>0</th>\n",
              "      <td>maior_30_dias</td>\n",
              "      <td>0.116342</td>\n",
              "    </tr>\n",
              "    <tr>\n",
              "      <th>1</th>\n",
              "      <td>maior_60_dias</td>\n",
              "      <td>0.014505</td>\n",
              "    </tr>\n",
              "    <tr>\n",
              "      <th>2</th>\n",
              "      <td>maior_90_dias</td>\n",
              "      <td>0.007198</td>\n",
              "    </tr>\n",
              "    <tr>\n",
              "      <th>3</th>\n",
              "      <td>maior_120_dias</td>\n",
              "      <td>0.005284</td>\n",
              "    </tr>\n",
              "    <tr>\n",
              "      <th>4</th>\n",
              "      <td>maior_150_dias</td>\n",
              "      <td>0.004241</td>\n",
              "    </tr>\n",
              "  </tbody>\n",
              "</table>\n",
              "</div>"
            ]
          },
          "metadata": {},
          "execution_count": 120
        }
      ],
      "metadata": {
        "id": "2Yd1PT-sTWGG",
        "colab": {
          "base_uri": "https://localhost:8080/",
          "height": 235
        },
        "outputId": "d5e76501-5109-41ed-b103-988bde7c5c4a"
      }
    },
    {
      "cell_type": "markdown",
      "source": [
        "### Desafio 2: Conhecer técnicas para resolver target ( Dados desbalanceados )\n",
        "\n"
      ],
      "metadata": {
        "id": "a7FAXocBF3_5"
      }
    },
    {
      "cell_type": "markdown",
      "source": [
        "**Dados Desbalanceados**\n",
        "\n",
        "Problemas que envolvem classificação são bastante comuns em machine learning. Modelos que envolvem dados do mercado financeiro, detecção de fraudes em cartões de crédito e diagnóstico de doenças são bons exemplos destes problemas.\n",
        "\n",
        "Quando exploramos datasets como os que identificam fraudes em cartões de crédito, percebemos um forte desbalanceamento entre as classes existentes (fraude e não-fraude), ou seja, temos mais registros de operações que não envolvem fraude (classe majoritária) do que operações que envolvem fraude (classe minoritária).\n",
        "\n",
        "A presença desta característica nos dados pode acarretar em problemas na construção de modelos e na geração de previsões. Em boa parte dos casos, quando geramos modelos sem levar em consideração esse desbalanceamento, corremos o risco de cair no paradoxo da acurácia, que pode ser definido como a situação contraditória na qual uma acurácia elevada em seu modelo de classificação pode evidenciar uma falha do seu próprio modelo em realizar predições de fato significativas.\n",
        "\n",
        "Quando nos deparamos com datasets desbalanceados, podemos utilizar duas técnicas para solucionar este problema:\n",
        "\n",
        "**Undersampling**\n",
        "\n",
        "Método que consiste em reduzir o total de registros da classe majoritária, com o objetivo de igualar a proporção das categorias. Pode ser realizado de forma aleatória com a retirada de dados da classe majoritária (perda de informação) ou utilizando métodos mais sofisticados que produzem a união de uma ou mais observações da classe majoritária. Neste último a perda de informação ainda existe, mas com um impacto menor.\n",
        "\n",
        "**Oversampling**\n",
        "\n",
        "Método que cria sinteticamente novos registros da classe minoritária, com o objetivo de igualar a proporção das categorias. Assim como na técnica de undersampling, pode ser realizado de forma aleatória copiando dados da classe minoritária ou por meio de métodos mais elaborados e com melhor performance como a técnica SMOTE (Synthetic Minority Oversampling TEchnique) que pode ser melhor entendida no seguinte [Para saber mais](https://bootcamps.alura.com.br/course/bootcamp-datascience-2-modulo-6/task/74465).\n",
        "\n",
        "Outras técnicas e como utilizá-las com Python podem ser consultadas na documentação da biblioteca [imbalanced-learn](https://imbalanced-learn.org/stable/)."
      ],
      "metadata": {
        "id": "HZt8qZ1LnTT2"
      }
    },
    {
      "cell_type": "markdown",
      "source": [
        "##Desafios aula 4:\n",
        "\n"
      ],
      "metadata": {
        "id": "vWG8NMYMF6Y3"
      }
    },
    {
      "cell_type": "markdown",
      "source": [
        "###Desafio 1: Explorar undersampling\n",
        "\n"
      ],
      "metadata": {
        "id": "T1sg4WQoF71R"
      }
    },
    {
      "cell_type": "code",
      "execution_count": null,
      "source": [
        "from imblearn.under_sampling import RandomUnderSampler "
      ],
      "outputs": [],
      "metadata": {
        "id": "N-YDJ3naQ6vM"
      }
    },
    {
      "cell_type": "code",
      "execution_count": null,
      "source": [
        "pipeline = Pipeline([('Transformador', Transformador(colunas_continuas, colunas_categoricas)),\n",
        "                     ('sampling', RandomUnderSampler(random_state=SEED)),\n",
        "                     ('Modelo', LogisticRegression(random_state=SEED, max_iter=1000))])   \n",
        "roda_modelo(pipeline, df_registro_clientes_targets)"
      ],
      "outputs": [
        {
          "output_type": "stream",
          "name": "stdout",
          "text": [
            "AUC 0.5867102460337057\n",
            "KS Ks_2sampResult(statistic=0.10851213506858952, pvalue=1.477032211058085e-29)\n"
          ]
        },
        {
          "output_type": "display_data",
          "data": {
            "text/plain": [
              "<Figure size 432x288 with 2 Axes>"
            ],
            "image/png": "[encoded data removed]"
          },
          "metadata": {}
        },
        {
          "output_type": "stream",
          "name": "stdout",
          "text": [
            "\n",
            "Classification Report\n",
            "              precision    recall  f1-score   support\n",
            "\n",
            "           0       0.98      0.56      0.71      5557\n",
            "           1       0.03      0.63      0.06       129\n",
            "\n",
            "    accuracy                           0.56      5686\n",
            "   macro avg       0.51      0.59      0.39      5686\n",
            "weighted avg       0.96      0.56      0.70      5686\n",
            "\n"
          ]
        }
      ],
      "metadata": {
        "colab": {
          "base_uri": "https://localhost:8080/",
          "height": 506
        },
        "id": "oDKXVZu6RH0N",
        "outputId": "4b9b9f71-f600-4562-c564-f1d2bf3da0ca"
      }
    },
    {
      "cell_type": "markdown",
      "source": [
        "###Desafio 2: Buscarem outras técnicas como por exemplo: XGboost\n",
        "\n"
      ],
      "metadata": {
        "id": "Oyny78qjF-YU"
      }
    },
    {
      "cell_type": "code",
      "execution_count": null,
      "source": [
        "from xgboost import XGBClassifier"
      ],
      "outputs": [],
      "metadata": {
        "id": "ScPUAD9_Tz1w"
      }
    },
    {
      "cell_type": "code",
      "execution_count": null,
      "source": [
        "pipeline = Pipeline([('Transformador', Transformador(colunas_continuas, colunas_categoricas)),\n",
        "                     ('Modelo', XGBClassifier(random_state=SEED))])   \n",
        "roda_modelo(pipeline, df_registro_clientes_targets)"
      ],
      "outputs": [
        {
          "output_type": "stream",
          "name": "stdout",
          "text": [
            "AUC 0.6634003066179538\n",
            "KS Ks_2sampResult(statistic=0.9996482588814632, pvalue=0.0)\n"
          ]
        },
        {
          "output_type": "display_data",
          "data": {
            "text/plain": [
              "<Figure size 432x288 with 2 Axes>"
            ],
            "image/png": "[encoded data removed]"
          },
          "metadata": {}
        },
        {
          "output_type": "stream",
          "name": "stdout",
          "text": [
            "\n",
            "Classification Report\n",
            "              precision    recall  f1-score   support\n",
            "\n",
            "           0       0.98      1.00      0.99      5557\n",
            "           1       1.00      0.02      0.03       129\n",
            "\n",
            "    accuracy                           0.98      5686\n",
            "   macro avg       0.99      0.51      0.51      5686\n",
            "weighted avg       0.98      0.98      0.97      5686\n",
            "\n"
          ]
        }
      ],
      "metadata": {
        "colab": {
          "base_uri": "https://localhost:8080/",
          "height": 506
        },
        "id": "rtZud1QIUDyy",
        "outputId": "7bff68f6-597e-400c-b7b2-9ea77c931561"
      }
    },
    {
      "cell_type": "markdown",
      "source": [
        "[Documentação](https://xgboost.readthedocs.io/en/latest/)\n",
        "\n",
        "XGBoost combina árvore de decisão (Decision Trees) com aumento de gradiente (Gradient Boosting) e a ideia é treinar diversos modelos e utilizar o GB para diminuir a perda com o modelo seguinte."
      ],
      "metadata": {
        "id": "vc55kwM7VGxo"
      }
    },
    {
      "cell_type": "markdown",
      "source": [
        "###Desafio 3: Utilizar otimização de hiperparâmetros e seleção features"
      ],
      "metadata": {
        "id": "ucHSjw5cF_9p"
      }
    },
    {
      "cell_type": "markdown",
      "source": [
        "Para a seleção de features podemos usar uma seleção manual, estudando cada uma das nossas features, analisando a correlação entre elas, como fizemos no modulo 5 por exemplo.\n",
        "\n",
        "E também podemos usar soluções automatizadas como por exemplo [SelectKBest](https://scikit-learn.org/stable/modules/generated/sklearn.feature_selection.SelectKBest.html)"
      ],
      "metadata": {
        "id": "WNHxwKXcZY5Z"
      }
    },
    {
      "cell_type": "markdown",
      "source": [
        "O mesmo vale para otimização de hiperparâmetros, onde podemos explorar como fizemos no modulo 5 utilizando um **for** e analisando cada resultado para escolher os melhores parâmetros para o nosso problema e dados.\n",
        "\n",
        "Ou podemos partir para outras soluções como o RandomizedSearchCV e GridSearchCV detalhados neste [artigo](https://www.alura.com.br/artigos/otimizacao-de-parametros), onde vamos explorar de maneira mais automática as possibilidades de parâmetros dos nossos modelos."
      ],
      "metadata": {
        "id": "eD7Gjrv2Z_GS"
      }
    },
    {
      "cell_type": "markdown",
      "source": [
        "## Desafios aula 5"
      ],
      "metadata": {
        "id": "3sHpCaBKGxrU"
      }
    },
    {
      "cell_type": "markdown",
      "source": [
        "### Desafio 1:  Terminar o formulário e o tratamento das variáveis"
      ],
      "metadata": {
        "id": "pU3Q5MzUGzrU"
      }
    },
    {
      "cell_type": "markdown",
      "source": [
        "![Formulario com dados preenchidos nos campos \"Quantos anos empregado ?\" e \"Quantos anos desempregado ?\" gerando o aviso em amarelo no final da pagina de \"'Informações de anos empregado/desempregado incompativeis\"](data:image/png;base64,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)"
      ],
      "metadata": {
        "id": "08BN_c6u3UxD"
      }
    },
    {
      "cell_type": "markdown",
      "source": [
        "Função que valida os dados de anos empregado"
      ],
      "metadata": {
        "id": "8-rJWV673xj_"
      }
    },
    {
      "cell_type": "code",
      "execution_count": null,
      "source": [
        "def validar_dados(dict_respostas):\n",
        "\t# Validando os dados de anos empregado, já que a pessoa não poder estar emprega e desemprega ao mesmo tempo. #ClienteDeSchrödinger\n",
        "\tif dict_respostas['Anos_empregado'] != 0 and dict_respostas['Anos_desempregado'] != 0:\n",
        "\t\tst.warning('Informações de anos empregado/desempregado incompativeis')\n",
        "\t\treturn False\n",
        "\treturn True"
      ],
      "outputs": [],
      "metadata": {
        "id": "RbSh_tkz3yBy"
      }
    },
    {
      "cell_type": "markdown",
      "source": [
        "Atualização do botão de Avaliar crédito para só executar caso a função valida_dados retorne verdadeiro."
      ],
      "metadata": {
        "id": "PDCAs5RC34b0"
      }
    },
    {
      "cell_type": "code",
      "execution_count": null,
      "source": [
        "if st.button('Avaliar crédito') and validar_dados(dict_respostas):\n",
        "\tif avaliar_mau(dict_respostas):\n",
        "\t\tst.error('Crédito negado')\n",
        "\telse:\n",
        "\t\tst.success('Crédito aprovado')"
      ],
      "outputs": [],
      "metadata": {
        "id": "LbLRaS6I310U"
      }
    }
  ]
}